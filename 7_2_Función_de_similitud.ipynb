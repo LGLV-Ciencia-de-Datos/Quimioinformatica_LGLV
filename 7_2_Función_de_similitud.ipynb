{
  "cells": [
    {
      "cell_type": "markdown",
      "metadata": {
        "id": "view-in-github",
        "colab_type": "text"
      },
      "source": [
        "<a href=\"https://colab.research.google.com/github/LGLV/APS-Failure-at-Scania-Trucks-Data-Set/blob/main/7_2_Funci%C3%B3n_de_similitud.ipynb\" target=\"_parent\"><img src=\"https://colab.research.google.com/assets/colab-badge.svg\" alt=\"Open In Colab\"/></a>"
      ]
    },
    {
      "cell_type": "markdown",
      "source": [
        "# ***Matriz de similitud***\n",
        "\n",
        "---\n",
        "---\n",
        "\n",
        "Última actualización: 28-02-2025.\n",
        "\n",
        "---\n",
        "---"
      ],
      "metadata": {
        "id": "hiFhrn25-dOn"
      }
    },
    {
      "cell_type": "markdown",
      "source": [
        "# ***Tabla de Contenido***\n",
        "La mayoría de los puntos en este script se emplearon en el estudio de librerias quimioenfocadas.\n",
        "- [0 - ***Importar librerias***](#0)\n",
        "- [1 - ***Lectura de base de datos*** ](#1)\n",
        "- [2 - ***Selección de función de similitud*** ](#2)\n",
        "- [3 - ***Gráfico de identidad*** ](#3)\n",
        "- [4 - ***Referencias*** ](#4)"
      ],
      "metadata": {
        "id": "fKKnuyiYfsGl"
      }
    },
    {
      "cell_type": "markdown",
      "metadata": {
        "id": "hhoitJyAKLfw"
      },
      "source": [
        "<a name='0'></a>\n",
        "# **Librerias: instalar e importar**"
      ]
    },
    {
      "cell_type": "code",
      "execution_count": null,
      "metadata": {
        "id": "ysNGZbAz0grG"
      },
      "outputs": [],
      "source": [
        "from IPython.utils import io\n",
        "import tqdm.notebook\n",
        "import os, os.path, sys, random, subprocess\n",
        "total = 100\n",
        "with tqdm.notebook.tqdm(total=total) as pbar:\n",
        "    with io.capture_output() as captured:\n",
        "        pbar.update(20)\n",
        "        #Librerias gráficas\n",
        "        !pip install matplotlib\n",
        "        import matplotlib.pyplot as plt\n",
        "        import matplotlib.font_manager as font_manager\n",
        "        %matplotlib inline\n",
        "        import time\n",
        "\n",
        "        !pip install seaborn\n",
        "        import seaborn as sns\n",
        "        pbar.update(40)\n",
        "        #Librerias del sistema y herramientas primarias:\n",
        "        import pandas as pd\n",
        "        import warnings\n",
        "        warnings.filterwarnings(\"ignore\")\n",
        "        %config Completer.use_jedi = False\n",
        "        pbar.update(30)\n",
        "        #Busqueda\n",
        "        !pip install rdkit\n",
        "        from rdkit import Chem, DataStructs\n",
        "        from rdkit.DataStructs import TanimotoSimilarity, DiceSimilarity, CosineSimilarity\n",
        "        from rdkit.Chem import AllChem, Draw, PandasTools, Descriptors, Descriptors3D, rdMolDescriptors, Scaffolds\n",
        "        from rdkit.Chem.Scaffolds.MurckoScaffold import GetScaffoldForMol\n",
        "\n",
        "        PandasTools.RenderImagesInAllDataFrames(images=True) #Para visualizar moléculas\n",
        "        from rdkit.Chem.Draw import IPythonConsole\n",
        "        import math\n",
        "        from math import pi\n",
        "        from pathlib import Path\n",
        "        from tempfile import TemporaryDirectory\n",
        "        !pip install numpy\n",
        "        import numpy as np\n",
        "        # Mount Google Drive and upload your PyMOL license\n",
        "        from google.colab import drive\n",
        "        drive.mount(\"/content/drive\")\n",
        "        pbar.update(10)"
      ]
    },
    {
      "cell_type": "markdown",
      "source": [
        "<a name='1'></a>\n",
        "# **1 - Lectura de base de datos**"
      ],
      "metadata": {
        "id": "Wqonx8417qzp"
      }
    },
    {
      "cell_type": "code",
      "execution_count": null,
      "metadata": {
        "id": "R8pE7E-eNZXm"
      },
      "outputs": [],
      "source": [
        "url=\"https://raw.githubusercontent.com/DIFACQUIM/Cursos/main/Datasets//08_Similitud_compounds_g9a.csv\"\n",
        "id=pd.read_csv(url,index_col=[0])\n",
        "id.head()"
      ]
    },
    {
      "cell_type": "code",
      "execution_count": null,
      "metadata": {
        "id": "HdtewxX1Y06z"
      },
      "outputs": [],
      "source": [
        "id.sort_values(by=[\"document_chembl_id\"], ascending=False, inplace=True)\n",
        "id = id.drop_duplicates(subset='molecule_chembl_id')\n",
        "# Reset index\n",
        "id.reset_index(drop=True, inplace=True)\n",
        "print(id.shape)\n",
        "id[0:3]"
      ]
    },
    {
      "cell_type": "markdown",
      "source": [
        "<a name='2'></a>\n",
        "# **2 - Selección de función de similitud**"
      ],
      "metadata": {
        "id": "eybw3lho7t49"
      }
    },
    {
      "cell_type": "code",
      "execution_count": null,
      "metadata": {
        "id": "-GXN5zHsLK1z"
      },
      "outputs": [],
      "source": [
        "\n",
        "def similarity_calc(smi1, smi2, radius, method='tanimoto'):\n",
        "    \"\"\"\n",
        "    Calcula la similitud entre dos moléculas dadas sus representaciones SMILES.\n",
        "\n",
        "    Parámetros:\n",
        "    - smi1 (str): SMILES de la primera molécula.\n",
        "    - smi2 (str): SMILES de la segunda molécula.\n",
        "    - radius (int): Radio para la generación de ECFP.\n",
        "    - method (str): Método de similitud ('tanimoto', 'dice', 'cosine', 'euclidean').\n",
        "\n",
        "    Retorna:\n",
        "    - similarity (float): Valor de similitud calculado.\n",
        "    \"\"\"\n",
        "\n",
        "    # Generador de huellas ECFP\n",
        "    fpgen = AllChem.GetMorganGenerator(radius=radius, fpSize=2048)\n",
        "\n",
        "    # Convertir SMILES a moléculas\n",
        "    mol1 = Chem.MolFromSmiles(smi1)\n",
        "    mol2 = Chem.MolFromSmiles(smi2)\n",
        "\n",
        "    if mol1 is None or mol2 is None:\n",
        "        raise ValueError(\"Una de las moléculas no se pudo cargar correctamente. Verifique los SMILES.\")\n",
        "\n",
        "    # Generar las huellas moleculares\n",
        "    fp1 = fpgen.GetFingerprint(mol1)\n",
        "    fp2 = fpgen.GetFingerprint(mol2)\n",
        "\n",
        "    # Calcular la similitud según el método elegido\n",
        "    if method == 'tanimoto':\n",
        "        similarity = round(TanimotoSimilarity(fp1, fp2), 3)\n",
        "\n",
        "    elif method == 'dice':\n",
        "        similarity = round(DiceSimilarity(fp1, fp2), 3)\n",
        "\n",
        "    elif method == 'cosine':\n",
        "        similarity = round(CosineSimilarity(fp1, fp2), 3)\n",
        "\n",
        "    elif method == 'euclidean':\n",
        "        # Convertir las huellas a arrays y calcular la distancia Euclidiana\n",
        "        arr1 = np.array(fp1)\n",
        "        arr2 = np.array(fp2)\n",
        "        similarity = round(np.linalg.norm(arr1 - arr2), 3)\n",
        "\n",
        "    else:\n",
        "        raise ValueError(\"Método no reconocido. Use 'tanimoto', 'dice', 'cosine' o 'euclidean'.\")\n",
        "\n",
        "    return similarity"
      ]
    },
    {
      "cell_type": "code",
      "execution_count": null,
      "metadata": {
        "id": "HIzeVPR4P6oc"
      },
      "outputs": [],
      "source": [
        "#Tomar una muestra aleatoria\n",
        "id_sample = id.sample(n=100, random_state=1)\n",
        "\n",
        "tic =time.time()\n",
        "hmap=pd.DataFrame()\n",
        "for i in id_sample.index:\n",
        "    for j in id_sample.index:\n",
        "        a=id_sample.loc[i].at['smiles']\n",
        "        b=id_sample.loc[j].at['smiles']\n",
        "        alignment= similarity_calc(a,b, 3, 'tanimoto')\n",
        "        hmap.loc[id_sample.loc[i,'molecule_chembl_id'],id_sample.loc[j,'molecule_chembl_id']]=alignment\n",
        "toc =time.time()\n",
        "print(\"Time: \"+ str((toc-tic))+\" s\")\n",
        "#Matriz de 414x414, con tiempo de ejecución aproximado de: 5 min"
      ]
    },
    {
      "cell_type": "code",
      "execution_count": null,
      "metadata": {
        "id": "P0cLsi23Rmb7"
      },
      "outputs": [],
      "source": [
        "#hmap.to_excel('8_compound_aligment.xlsx')\n",
        "hmap"
      ]
    },
    {
      "cell_type": "markdown",
      "metadata": {
        "id": "A_qYmjipHqcp"
      },
      "source": [
        "<a name='1'></a>\n",
        "# **3 - Gráfico de identidad**"
      ]
    },
    {
      "cell_type": "code",
      "source": [
        "palette= sns.blend_palette(['black', 'blue','orange'],74)\n",
        "palette"
      ],
      "metadata": {
        "id": "rTrM7NXabEre"
      },
      "execution_count": null,
      "outputs": []
    },
    {
      "cell_type": "code",
      "source": [
        "fig, ax = plt.subplots(figsize=(40,40))\n",
        "sns.heatmap(hmap,square = True, xticklabels=hmap.columns, yticklabels=hmap.index, cmap=palette, vmin=0, vmax=1,\n",
        "            cbar_kws={'shrink':0.8,\n",
        "                      'orientation':'horizontal','spacing':'uniform',\n",
        "                      'pad':0.02})\n",
        "ax.figure.axes[1].tick_params(axis=\"x\", labelsize=28) #Tamaño de ticks en cbar\n",
        "ax.figure.axes[1].set_xlabel('Coeficiente de tamimoto', size=28, weight='bold') #Etiqueta de cbar\n",
        "ax.tick_params(labelsize=28)\n",
        "plt.xticks (np.arange(len(hmap.index))+0.5, hmap.index,rotation=90)\n",
        "plt.yticks (np.arange(len(hmap.columns))+0.5, hmap.columns, rotation=0)\n",
        "ax.xaxis.tick_top()\n",
        "plt.tick_params ('both',width=1,labelsize=5)\n",
        "#plt.savefig('Coeficiente_tanimoto.png',dpi=300,format='png',transparent=False)\n",
        "plt.show()"
      ],
      "metadata": {
        "id": "SZoq06MGcCEb"
      },
      "execution_count": null,
      "outputs": []
    },
    {
      "cell_type": "markdown",
      "metadata": {
        "id": "KZQJdMg1bxBL"
      },
      "source": [
        "<a name='4'></a>\n",
        "# **4 - Referencias:**"
      ]
    },
    {
      "cell_type": "markdown",
      "metadata": {
        "id": "dd0ENP_G3Jo8"
      },
      "source": [
        "1.   https://projects.volkamerlab.org/teachopencadd/talktorials/T001_query_chembl.html\n",
        "2.   https://gist.github.com/leelasd/746f3c447805fc6ea5aad1071bd77aef\n",
        "\n",
        "*   https://github.com/rdkit/UGM_2014/blob/master/Notebooks/Scaffold%20analysis%20of%20ChEMBL%20data%20with%20pandas%20and%20RDKit/Scaffold%20analysis%20of%20ChEMBL%20data%20with%20pandas%20and%20RDKit%20-%20RDKit%20UGM2014.ipynb\n",
        "*   https://github.com/rdkit/UGM_2013/blob/master/Tutorials/pandastools/Pandas_RDKit_UGM.ipynb\n",
        "*https://github.com/rdkit/UGM_2013/blob/master/Tutorials/pandastools/Pandas_RDKit_UGM.ipynb\n",
        "\n"
      ]
    }
  ],
  "metadata": {
    "colab": {
      "provenance": [],
      "include_colab_link": true
    },
    "gpuClass": "standard",
    "kernelspec": {
      "display_name": "Python 3",
      "name": "python3"
    },
    "language_info": {
      "name": "python"
    }
  },
  "nbformat": 4,
  "nbformat_minor": 0
}