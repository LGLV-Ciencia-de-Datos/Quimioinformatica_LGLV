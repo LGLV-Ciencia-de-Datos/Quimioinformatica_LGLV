{
  "nbformat": 4,
  "nbformat_minor": 0,
  "metadata": {
    "colab": {
      "provenance": [],
      "include_colab_link": true
    },
    "kernelspec": {
      "display_name": "Python 3",
      "name": "python3"
    }
  },
  "cells": [
    {
      "cell_type": "markdown",
      "metadata": {
        "id": "view-in-github",
        "colab_type": "text"
      },
      "source": [
        "<a href=\"https://colab.research.google.com/github/LGLV/APS-Failure-at-Scania-Trucks-Data-Set/blob/main/6_1_An%C3%A1lisis_exploratorio_de_datos_versi%C3%B3n2.ipynb\" target=\"_parent\"><img src=\"https://colab.research.google.com/assets/colab-badge.svg\" alt=\"Open In Colab\"/></a>"
      ]
    },
    {
      "cell_type": "markdown",
      "metadata": {
        "id": "fnfYqArdo7Oq"
      },
      "source": [
        "# **Análisis exploratorio de bases de datos**\n",
        "\n",
        "\n",
        "---\n"
      ]
    },
    {
      "cell_type": "markdown",
      "source": [
        "# Objetivos\n",
        "---\n",
        "* Introducir a la visualización y al análisis de datos químicos.\n",
        "* Utilizar métodos visuales como histogramas, diagramas de caja y de violín para analizar propiedades fisicoquimicas de importancia farmacéutica y descriptores asociados con complejidad molecular.\n",
        "* Identificar posibles correlaciones entre variables."
      ],
      "metadata": {
        "id": "-zpPIuQxcQ9S"
      }
    },
    {
      "cell_type": "markdown",
      "metadata": {
        "id": "CBZ81-e7o_r7"
      },
      "source": [
        "Los ejercios elaborados en este tutorial están enfocados en analizar y mostrar de una manera gráfica, por medio de representaciones visuales, propiedades fisicoquimicas y descriptores de importancia farmacéutica.\n",
        "___"
      ]
    },
    {
      "cell_type": "markdown",
      "source": [
        "Para los siguientes ejercicios usaremos una base de datos descargada de [ChEMBL](https://www.ebi.ac.uk/chembl/) que contiene información sobre fármacos en fase 4 (aprobados y comercializados) con 1677 moléculas. La base de datos tiene columnas que nos informan el identificador (ID) de cada compuesto en ChEMBL, nombre, SMILES, tipo de molécula, fase clínica, si es de administración oral, parenteral o tópica, el año en que fue aprobado como fármaco y su indicación terapéutica.\n",
        "\n",
        "Los descriptores que se calcularán son los siguientes :\n",
        "\n",
        "\n",
        ">  1 - Coeficiente de partición (logP) <br>\n",
        "   2 - Área de superficie polar topológica (TPSA) <br>\n",
        "   3 - Masa molar (MW) <br>\n",
        "   4 - Número de enlaces rotables (RotBonds) <br>\n",
        "   5 - Número de donadores de puente de hidrógeno (HBD) <br>\n",
        "   6 - Número de aceptores de puente de hidrógeno (HBA)<br>\n",
        "   7 - Número de heteroátomos (HetAtoms)<br>\n",
        "   8 - Número de anillos (NumRings)<br>\n",
        "   9 - Fracción de átomos de carbono sp<sup>3</sup> (CSP3)  <br>\n",
        "\n",
        "\n",
        "  En la primera parte de este tutorial, se graficarán diferentes tipos de representaciones visuales para obtener información visual sobre nuestras variables (en este caso, descriptores de importancia farmacéutica). Además, se analizarán las posibles correlaciones entre los distintos descriptores moleculares.\n"
      ],
      "metadata": {
        "id": "XUuFvUJeAx87"
      }
    },
    {
      "cell_type": "markdown",
      "source": [
        "#Preparación del entorno\n",
        "___"
      ],
      "metadata": {
        "id": "ENs3LULvU_m6"
      }
    },
    {
      "cell_type": "markdown",
      "source": [
        "Instalación de librerías necesarias:"
      ],
      "metadata": {
        "id": "_i39jy26ExXq"
      }
    },
    {
      "cell_type": "code",
      "source": [
        "!pip install rdkit #Quimioinformática\n",
        "!pip install pandas==1.5.3"
      ],
      "metadata": {
        "id": "JIA0M5YUEwnX"
      },
      "execution_count": null,
      "outputs": []
    },
    {
      "cell_type": "markdown",
      "source": [
        "Importamos las librerías y módulos necesarios:"
      ],
      "metadata": {
        "id": "e0HD2GlFvJ_a"
      }
    },
    {
      "cell_type": "code",
      "source": [
        "#Manipulación de datos y gráficas\n",
        "import pandas as pd\n",
        "import numpy as np\n",
        "import seaborn as sns\n",
        "import matplotlib.pyplot as plt\n",
        "#Quimioinformática\n",
        "from rdkit import Chem\n",
        "from rdkit.Chem import AllChem\n",
        "from rdkit.Chem import PandasTools\n",
        "from rdkit.Chem import Descriptors\n",
        "PandasTools.RenderImagesInAllDataFrames(images=True) #Para visualizar moléculas"
      ],
      "metadata": {
        "id": "oDvKu24CvVVQ"
      },
      "execution_count": null,
      "outputs": []
    },
    {
      "cell_type": "markdown",
      "source": [
        "Accedemos a la base de datos:"
      ],
      "metadata": {
        "id": "BN0kqFpHRCwJ"
      }
    },
    {
      "cell_type": "markdown",
      "source": [
        "Abriremos un archivo .xlsx con la librería `pandas` y trabajaremos con el  *dataframe* nombrado \"df\":"
      ],
      "metadata": {
        "id": "Slf_ea1QRp_-"
      }
    },
    {
      "cell_type": "code",
      "source": [
        "#Cargar archivo desde nuestra computadora:\n",
        "df=pd.read_excel(\"https://github.com/DIFACQUIM/Cursos/raw/refs/heads/main/Datasets/chembl_fases_curada.xlsx\", engine='openpyxl')\n",
        "\n",
        "print(f\"DataFrame shape: {df.shape}.\")\n",
        "df"
      ],
      "metadata": {
        "id": "dj2klp5L_GEO"
      },
      "execution_count": null,
      "outputs": []
    },
    {
      "cell_type": "code",
      "source": [
        "#Información sobre el DataFrame:\n",
        "df.info()"
      ],
      "metadata": {
        "id": "CAZwA0zMUHKN"
      },
      "execution_count": null,
      "outputs": []
    },
    {
      "cell_type": "code",
      "source": [
        "#Estadística básica sobre los datos:\n",
        "df.describe()"
      ],
      "metadata": {
        "id": "_bhFX1-sB_0R"
      },
      "execution_count": null,
      "outputs": []
    },
    {
      "cell_type": "markdown",
      "metadata": {
        "id": "ecZE6lgLiQGD"
      },
      "source": [
        "# Gráficos de una variable\n",
        "---"
      ]
    },
    {
      "cell_type": "markdown",
      "source": [
        "## Cálculo de descriptores"
      ],
      "metadata": {
        "id": "yjiDRi3LLGl3"
      }
    },
    {
      "cell_type": "markdown",
      "source": [
        "Calcularemos distintas propiedades fisicoquímicas con `RDKit`:"
      ],
      "metadata": {
        "id": "WMG49tsNAXRN"
      }
    },
    {
      "cell_type": "code",
      "source": [
        "#Nueva columna de objeto tipo Mol\n",
        "PandasTools.AddMoleculeColumnToFrame(df, \"canonical_smiles\")\n",
        "df[0:2]"
      ],
      "metadata": {
        "id": "iFV7DQp9LMm-"
      },
      "execution_count": null,
      "outputs": []
    },
    {
      "cell_type": "code",
      "source": [
        "#Cálculo de la masa molar exacta\n",
        "df[\"MW\"] = df[\"ROMol\"].apply(Descriptors.ExactMolWt)\n",
        "df[0:2]"
      ],
      "metadata": {
        "id": "7Uq6L7KIOBsv"
      },
      "execution_count": null,
      "outputs": []
    },
    {
      "cell_type": "code",
      "source": [
        "#Cálculo del resto de los descriptores a analizar\n",
        "df[\"HBA\"] = df[\"ROMol\"].apply(Descriptors.NumHAcceptors)\n",
        "df[\"HBD\"] = df[\"ROMol\"].apply(Descriptors.NumHDonors)\n",
        "df[\"logP\"] = df[\"ROMol\"].apply(Descriptors.MolLogP)\n",
        "df[\"TPSA\"] = df[\"ROMol\"].apply(Descriptors.TPSA)\n",
        "df[\"CSP3\"] = df[\"ROMol\"].apply(Descriptors.FractionCSP3)\n",
        "df[\"NumRings\"] = df[\"ROMol\"].apply(Descriptors.RingCount)\n",
        "df[\"HetAtoms\"] = df[\"ROMol\"].apply(Descriptors.NumHeteroatoms)\n",
        "df[\"RotBonds\"] = df[\"ROMol\"].apply(Descriptors.NumRotatableBonds)\n",
        "#Visualizar columnas seleccionadas\n",
        "df[['MW', 'logP', 'TPSA', 'HBA']]"
      ],
      "metadata": {
        "id": "28PYO06pPUZS"
      },
      "execution_count": null,
      "outputs": []
    },
    {
      "cell_type": "markdown",
      "source": [
        "Más información sobre los descriptores que pueden calcularse con `RDKit`: <br>\n",
        "https://www.rdkit.org/docs/source/rdkit.Chem.Descriptors.html <br>\n",
        "https://rdkit.org/docs/source/rdkit.Chem.Lipinski.html"
      ],
      "metadata": {
        "id": "qoUrFjEUSMgy"
      }
    },
    {
      "cell_type": "markdown",
      "metadata": {
        "id": "yjtrBiDmUbY6"
      },
      "source": [
        "##Histogramas"
      ]
    },
    {
      "cell_type": "markdown",
      "source": [
        "Un histograma es una representación gráfica en forma de barras, que simboliza la distribución de un conjunto de datos por intervalos y la frecuencia de estos intervalos en un rango.\n",
        "Haciendo uso del método .hist de Matplotlib, se observa el histograma del número de enlaces rotables de los fármacos de administración parenteral."
      ],
      "metadata": {
        "id": "dBqxQvAHLiO0"
      }
    },
    {
      "cell_type": "code",
      "source": [
        "#Guardar un nuevo dataframe sólo con los fármacos parenterales\n",
        "df_parenteral = df[df['parenteral']== 1]\n",
        "#Graficar el histograma con Seaborn\n",
        "hist=sns.histplot(x=\"RotBonds\", data = df_parenteral)\n",
        "#Título, títulos de ejes, y tamaño de letra\n",
        "hist.axes.set_title(\"Enlaces rotables\",fontsize=18)\n",
        "hist.set_xlabel(\"RotBonds\",fontsize=14)\n",
        "hist.set_ylabel(\"Count\",fontsize=14)\n",
        "hist.tick_params(labelsize=14)"
      ],
      "metadata": {
        "id": "PRspztw0ICwS"
      },
      "execution_count": null,
      "outputs": []
    },
    {
      "cell_type": "markdown",
      "source": [
        "También es posible analizar todas las variables en un mismo gráfico. En este caso se muestra la distribución de los valores para los diferentes descriptores de la base de compuestos de administración parenteral."
      ],
      "metadata": {
        "id": "FZLoGNPV8kwC"
      }
    },
    {
      "cell_type": "code",
      "source": [
        "#Seleccionar los descriptores a graficar\n",
        "df_parenteral_descriptors= df_parenteral[['MW', 'HBA', 'HBD', 'logP', 'TPSA', 'CSP3', 'NumRings', 'HetAtoms', 'RotBonds']]\n",
        "#Histograma\n",
        "df_parenteral_descriptors.hist(figsize=(12,12), color=\"slateblue\")\n",
        "plt.show()"
      ],
      "metadata": {
        "id": "SmYcEqqiKdFi"
      },
      "execution_count": null,
      "outputs": []
    },
    {
      "cell_type": "markdown",
      "metadata": {
        "id": "Qlkqkyku465A"
      },
      "source": [
        "##Gráficos de caja\n",
        "\n",
        "Un *boxplot* o gráfico de caja, es un grafico unidimensional sencillo que muestra todos los valores de una variable de la base de datos.\n",
        "Los *boxplot* nos muestran la distribución de los datos, con ayuda de la caja y de la mediana es posible observar si esta es simétrica, sesgada a la derecha o a la izquierda. También nos permite identificar valores atípicos u *outliers* y poder comparar distribuciones (ver **Figura 1**).\n",
        "\n",
        "\n"
      ]
    },
    {
      "cell_type": "markdown",
      "source": [
        "**Figura 1.** Diferentes elementos que componen un *boxplot*\n",
        "![Boxplot_Indicaciones.jpg](data:image/jpeg;base64,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)"
      ],
      "metadata": {
        "id": "yYTXjJ49vIUI"
      }
    },
    {
      "cell_type": "markdown",
      "source": [
        "Se puede generar la representacion grafica de un *boxplot* a partir de la paquetería `Seaborn`, que ya fue instalada previamente."
      ],
      "metadata": {
        "id": "nLqRU6ApdKYz"
      }
    },
    {
      "cell_type": "markdown",
      "source": [
        "Para graficar los datos de acuerdo con su vía de administración se creará una nueva columna nombrada como \"Via_admon\":"
      ],
      "metadata": {
        "id": "8ou0H3z0Ysjf"
      }
    },
    {
      "cell_type": "code",
      "source": [
        "#Condiciones para asignar la vía de administración a cada compuesto\n",
        "conditions = [\n",
        "    (df['oral'] == 1),\n",
        "    (df['parenteral'] == 1),\n",
        "    (df['topical'] == 1),\n",
        "    (df['oral'] == 0) & (df['parenteral'] == 0) & (df['topical'] == 0)]\n",
        "#Nombre que se asignará al compuesto de acuerdo con su vía de administración\n",
        "values = ['Oral', 'Parenteral', 'Topical', 'Other']\n",
        "#Crear nueva columna y visualizar dataframe\n",
        "df['Via_admon'] = np.select(conditions, values)\n",
        "df[53:59]"
      ],
      "metadata": {
        "id": "4NjZlZ6ZStsO"
      },
      "execution_count": null,
      "outputs": []
    },
    {
      "cell_type": "code",
      "source": [
        "#Graficar boxplot de la masa molar de cada vía de administración\n",
        "ax = sns.boxplot(x=\"Via_admon\", y=\"MW\", data=df, palette=\"GnBu\")\n",
        "#Título de ejes\n",
        "plt.xlabel('Vía de administración', size=14)\n",
        "plt.ylabel('Masa molar', size=14)"
      ],
      "metadata": {
        "id": "xMDkJrbHXbif"
      },
      "execution_count": null,
      "outputs": []
    },
    {
      "cell_type": "code",
      "source": [
        "#Graficar boxplot sin outliers\n",
        "ax = sns.boxplot(x=\"Via_admon\", y=\"MW\", data=df, palette=\"GnBu\", showfliers=False)\n",
        "plt.xlabel('Vía de administración', size=14)\n",
        "plt.ylabel('Masa molar', size=14)"
      ],
      "metadata": {
        "id": "0lMcx9EKKNf2"
      },
      "execution_count": null,
      "outputs": []
    },
    {
      "cell_type": "markdown",
      "source": [
        "Más paletas de colores para `seaborn`: https://medium.com/@morganjonesartist/color-guide-to-seaborn-palettes-da849406d44f"
      ],
      "metadata": {
        "id": "fG1I2H5zdBhz"
      }
    },
    {
      "cell_type": "markdown",
      "metadata": {
        "id": "ZGz4yL2oy0WE"
      },
      "source": [
        "Veamos *boxplots* conjuntos para todas las variables:"
      ]
    },
    {
      "cell_type": "code",
      "metadata": {
        "id": "-P6iqN1YyyU2"
      },
      "source": [
        "#Seleccionamos sólo las columnas de descriptores de los fármacos de administración oral\n",
        "df_oral = df[df['oral']== 1]\n",
        "df_oral_descriptors= df_oral[['MW', 'HBA', 'HBD', 'logP', 'TPSA', 'CSP3', 'NumRings', 'HetAtoms', 'RotBonds']]\n",
        "#Graficamos boxplots para todas las variables:\n",
        "ax = sns.boxplot(data=df_oral_descriptors, orient=\"h\", palette=\"rainbow\")\n",
        "#Especificamos tamaño de la figura con Matplotlib:\n",
        "plt.gcf().set_size_inches(10, 5)\n",
        "plt.show()"
      ],
      "execution_count": null,
      "outputs": []
    },
    {
      "cell_type": "markdown",
      "metadata": {
        "id": "NdFFF6Zv3OfN"
      },
      "source": [
        "Como podemos ver, los valores de las variabes están en escalas diferentes. Para visualizarlo mejor, apliquemos escala logarítmica:\n"
      ]
    },
    {
      "cell_type": "code",
      "metadata": {
        "id": "tkX3Rej6zvat"
      },
      "source": [
        "#Vuelvo a graficar los boxplots:\n",
        "ax = sns.boxplot(data=df_oral_descriptors, orient=\"h\", palette=\"rainbow\")\n",
        "#Eje x en escala logarítmica:\n",
        "ax.set_xscale('symlog')\n",
        "#Especifico desde dónde hasta dónde quiero que me grafique el eje x:\n",
        "ax.axis(xmin=-25, xmax=1500)\n",
        "#Tamaño de la figura:\n",
        "plt.gcf().set_size_inches(10, 5)"
      ],
      "execution_count": null,
      "outputs": []
    },
    {
      "cell_type": "markdown",
      "metadata": {
        "id": "EUNlLYEuBCtn"
      },
      "source": [
        "Como podemos ver, las medias de los datos varían mucho. Esto ocurre porque los datos están en diferentes escalas, lo que significa que se utilizan diferentes unidades para medir las diferentes características. Para  **normalizar o escalar los datos**, existen varios procedimientos descritos (ver en [*Scaling of Data*](http://www.statistics4u.com/fundstat_eng/cc_scaling.html)). Un método común es estandarizar las variables restando la media de la columna y dividiéndola por la varianza, haciendo esto nos quedan nuevos valores dentro de cada columna para los cuales $\\mu=0$ y $\\sigma=1$ . `Scikit-learn` tiene un módulo para esto llamado \"preprocessing\", que usaremos a continuación. Para más información sobre esto, revisar la [documentación de Scikit-learn](https://scikit-learn.org/stable/modules/generated/sklearn.preprocessing.StandardScaler.html 'Standard Scaler')\n"
      ]
    },
    {
      "cell_type": "markdown",
      "source": [
        "Para el proceso de normalización, es necesario eliminar las columnas de tipo *string*."
      ],
      "metadata": {
        "id": "eFxsjglke_cZ"
      }
    },
    {
      "cell_type": "code",
      "source": [
        "#Verificar que las variables sean numéricas\n",
        "df_oral_descriptors.info()"
      ],
      "metadata": {
        "id": "6yad5u912UZ-"
      },
      "execution_count": null,
      "outputs": []
    },
    {
      "cell_type": "markdown",
      "source": [
        "**Paquetería y funciones a instalar**\n",
        "\n",
        "`Standard scaler`: Elimina la media y escala cada caracteristica/variable a la varianza de la unidad, se realiza por caracteristicas de forma independiente.\n",
        "Para saber más: [*Standar scaler*](https://scikit-learn.org/stable/modules/generated/sklearn.preprocessing.StandardScaler.html)"
      ],
      "metadata": {
        "id": "eGIEgrxNeKSG"
      }
    },
    {
      "cell_type": "code",
      "metadata": {
        "id": "wACQXxoLBC5t"
      },
      "source": [
        "#Importo la función StandardScaler de la librería ScikitLearn\n",
        "from sklearn.preprocessing import StandardScaler\n",
        "\n",
        "#Hago un nuevo objeto con los datos normalizados:\n",
        "scaled = StandardScaler().fit_transform(df_oral_descriptors)  #El método fit.transform() ajusta estos nuevos valores a los datos y los almacena,\n",
        "                                                              #reemplazando los valores anteriores.\n",
        "\n",
        "#Hago un nuevo dataframe normalizado, lo llamo \"df_scaled\":\n",
        "df_scaled = pd.DataFrame(data=scaled, columns=df_oral_descriptors.columns)\n",
        "\n",
        "#Grafico boxplots de las variables de ese nuevo dataframe (con Seaborn):\n",
        "ax = sns.boxplot(data=df_scaled, orient=\"h\", palette=\"rainbow\")\n",
        "\n",
        "#Tamaño de  la figura del gráfico de Seaborn (con Matplotlib)\n",
        "plt.gcf().set_size_inches(15, 5)"
      ],
      "execution_count": null,
      "outputs": []
    },
    {
      "cell_type": "markdown",
      "source": [
        "Documentación de *boxplots* con `seaborn`: https://seaborn.pydata.org/generated/seaborn.boxplot.html"
      ],
      "metadata": {
        "id": "oqtHJrLk71Qe"
      }
    },
    {
      "cell_type": "markdown",
      "metadata": {
        "id": "mkTuSn5MlgET"
      },
      "source": [
        "##Diagramas de violín\n",
        "Los *violin plots* pueden usarse para visualizar la información contenida en un *boxplot*, es decir, la media, los cuartiles, y los valores máximo y mínimo, agregando además la información de la distribución de los datos (**Figura 2**)."
      ]
    },
    {
      "cell_type": "markdown",
      "source": [
        "**Figura 2.** Diferentes elementos que componen un *violinplot* <br>\n",
        "![image.png](data:image/png;base64,iVBORw0KGgoAAAANSUhEUgAAAjQAAAH8CAYAAADG2DVHAAAgAElEQVR4Aex9efQVxZX/Nz8TNZkx0UxOZtSoiU5mMkn+mJkzx8x5k4znJDkzJ3Pyli9f9n19bF9AMCoqEVEJCoiPCJq4IEpYjCBMIi9BY9S44RJwCRh5bogEQaIZcUEE6nduvVfdt/pV9+t+r9eq2+e8093V1VX3fmq5n1d1u6qL0UEIEAKEACFACBAChEDGEejKuPwkPiFACBAChAAhQAgQAowIDVUCQoAQIAQIAUKAEMg8AkRoMl+EpAAhQAgQAoQAIUAIEKGhOkAIEAKEACFACBACmUeACE3mi5AUIAQIAUKAECAECAEiNFQHCAFCgBAgBAgBQiDzCBChyXwRkgKEACFACBAChAAhQISG6gAhQAgQAoQAIUAIZB4BIjSZL0JSgBAgBAgBQoAQIASI0FAdIAQIAUKAEEg/ArUaq9Vq6ZfTeAnr5ZREURGhMazyHTlyhO3atYv95S9/Yf/3f/9HP8LAyDoA9R/aAbQHOjKAQLXMurq6+C9XIVKT6hJDZdVVrsYqKhGaWOGWM3vwwQfZ97//fXbyySfzhrp+/Xo5guNu3bp17Lvf/S773Oc+x0444QT27//+7+zXv/61I5b3LXTiomOgc72DJBzMxQHag3FHrcoq5TIrN34Vhc2pVSvW83K5whRRYoStysoNMtPVlWNNfKZWY9VKmZVzOZazfmVWrlRZaqkPlEGlwn+BsW2MVMFoleqnKhi7PNVlaT8vs3JVgVogjGuskhN9iqK8VAKGFEaEJiQg20mmWq2ySy65hN11112+CM20adPY1VdfzZ544gm2Y8cOdtFFF7FPfOITbMuWLb6zh3+mYMChI6cRGhqhMrUOCGIP7cG4o1ZhOYsgdLGuXMVh+LFBAsMUr1FylketkrP/hDn/8Tt1wXrx62Rll3WpEy8J+64u5lRJfsd55ywbQRzss2oEy8awrCSn9vMu1jSq0g7GCY3SEKFx1peE7oFktBqhUYn21a9+lc2ZM0f1SBkGBgzygjMdhICpCBjdDrCxURn9JgOWJCmQDbhs/PHITd0Q10csqmiEQEXYEqj1TZjaBETWqZVsGI8cy6GRNnvETYyw2CNxFYsUllml2hidQ0Nz7oSmXYzxe2oS1UrTdp4ToWkHtQjeaYfQwPz/aaedxq677jpXiQ4ePCiNxIh/pkRoXCGjBwYgQITGNqjQ9+B/9ZJxa4x4BDO6IVYgiQg4DKNEzBzPpPdCJGQ1eyquopqacVMd3mtMh5VhOg+NJAXDFhMah87OvKuOkTiUJ5Q5HpmTyhwL1AHG1bJdx3CSTjHDvCdCEyaaHaTVDqGB6aeTTjqJ7d271zXn2bNn28O1qEIToXGFjB4YgAARGtvYyMYNG0w7jmSQuFGv+6vwdxv9CvivSH4rtSryw5H9WWrg8yJ8eMSAgqreYYMqCcGYqxHm6ch6YMKmysZ3GJKn/TTx6EXQKSf8bgtCI5QCfx3Lp6VOXp2Qu2HpFl5P2htj73eFcOGeidCEi2fbqQUlNCtXrmSf+tSn2L333uuZJ43QeMJDDw1FgAiNTVbqpKQxiiGNbNhxMJfAhqruhGvH42lZkbHxRYZbysPbKEt5ObyB8QiAilzg501+Ie3W+zQRmibfJ7VSEg6cfDaPWGGcMVb43cAYI6zwaJBaynBCidCEg2PHqQQhNKtXr2af/OQn2d133x04X6M78sBo0Qu6ImByO5CMFxq1BUNmP4MRGJuoqIyZVDdcSIqdnj3F0cpI4nTd43qPDkAaUt4WycKpt3GNjHRLTFyTdyF6rvHRAwnnnDXKVa5UWFW18IskLxqpcZAhNVYdYizJ6k1ckYYdXRKh6Qi+8F72S2hWrVrFjj/+eLZhw4a2Mje5I28LMHpJSwR0bwf5fJ7BT3Vg45WrICPXlbO/fspVWAX5QLQ23tj44REAHN7FcmU5D+fUh1Pe0AlNrcYqaLpLmiJzZt64x3jVR7NsomfdOwiCS1KN4LAIjU85xOfdkDu+RkJKOlrkz1F2jhEynpzlbNzq6ygiNAhuPS8PHDjAtm7dyn/QMBYtWsSvd+7cyRWeOXMmGzZsmKU8TDN9/OMfZ0uXLmV79uyxfkE+PdW9I7fAogtCwAMBHduBIDHOsxMGbLyAqOB7YaDBpuHwJkLD1yWxHWTBH8b+HBkTGshdNuD1PJxxnFLW76MgNLBcBvwswmYZcLUMtWrZXt8Gj2gBARTr3pSdn76r02po1YFTMCIlgpyAfEiuprLyEqXxDJe1PeVEhMYHdBRFIHD//fcrHXZHjBjBo8D5nHPOEdH5tehw8FnEtyJ6XOjYkXuoS48IASUCOrUDJ4HB9yrlm0iCNDUA//rr/6bVRg74ib1qr+iHwLCLa9W6NVJajq+qVDKKsCZZxQPW2tjid20jbSUAjK1OBIKMriDd2yEO9dxlgteCTyGBPS6RXO34q0jlYwnUIcYCX062aITGo/ToUbsI6NSRt4sBvUcIZL0dYNLidu1WytjQ142ybLiE8VcbOWyM8SgLTgOHc2cWaQShTnwccVyEVctQj9ysh5yI63MYXYIRmoaPUCBigohDoPck0TCGyFlaihPwpkPy4IazK4YN8TyfI6zaIVkBEeDRyYemHdQy/E7WO/IMQ0+ipwiBLLYDN+KCw/1ArDZCaBn9RiJKI4cNpzSy4UZocHiX5GgsRoI8ZfYwipJ8kiyQogdpaHxOLpyeAxETJE+g9yQlPWST4gW4QXK1Qx4kLK0RGnnasTldbz3c0gygVeCoRGgCQ5btF7LYkWcbcZI+jQhkqR1gwqK6DoovJjTIdjUlozRIroSmysrWV1H26IsqDZx/a1KAjaZj2gLL4tieAfxe7Ckwx3tCU+t9l+cinuNs7Z/kCPd/i3VyGaFB+235WcAPYypG2PzL4yAuuFJYGMFUpF2ukLY3xjKRxUkGkStoXCI0QRHLePwsdeQZh5rETzECaW8HKuLiDGsXXmz8vAyNiowwp+9Krsy/GsJOqbbhw4YbGUPJSLYmE17y4mdAYHI52KRS/vrHlTRZcrSWoV2s1e9hXFSERiYDeCQLFiQUjsj1hQnRV2PcVwXhrM5cGaou63rUtjC2sLV9spQZhxxIhCZkQNOeXNo78rTjR/LpgUAa24GTsKjuw0AfG6jghKbuE+MkDZxMWF/a1I2qZCSlKSHZYLsSDqEsNo5SOhChxqpl7JAskxnnaIUkU4MAlBWfI4usozm3IjTgd430wDo7vmiyR6FgnZ9y807kPhWQcGmqFMEw5qWCPuduWb4+ZfQTjQiNH5Q0ipPGjlwjeEmVjCCQpnagIi44LLWQis+GWy0mE4IC2MA32dtG+tZUEPjIWORKNQICPAh8hkIQLMokPGVEPk8QL0o5UNr+MMb4xzv6RYQGFZYJl2nqyE3Am3RMJwJJtwNMWNyu04lcUlKBj05j3RdY0biVGJIPTXvTMK2yMP65G8YwomZtxBkvSkRo4sU78dyS7sgTB4AEIAQY4zvQw3A9tIe4DjfigsPjksWEfLC/Sc5tWMcEICLUMW0YE6GJsLDTmDQRmjSWCskUNwJxtgNMWFTXcetO+RECuiJAhEbXknXRK86O3EUECiYEEkcg6nagIi7OsMRBIAEIAc0QIEKjWYG2UifqjrxV/iY/X7t2Levt7ZV+c+fOZR9++KHJsCSiexTtwElYVPeJKEuZEgKGIECExpCCFmpG0ZGLtOnsjsBHH33E+vTpw3dAdhq6J5980v1FehIJAmG2A2d5Ou8jUYASJQQIgSYEiNA0QaJ3QJgdud5IhavdSy+9xMlMT77Iri+O47+Jhf48bPXq1eFmRqm1RKDTduAkLar7lkJQBEKAEAgVASI0ocKZ/sQ67cjTr2E6Jdy0aRMnL+ML/dj/dk/lv7nFETzsiiuuSKfQGkvVbjtQERccpjFkpBohkHoEiNCkvojCFbDdjjxcKcxLbenSpZy8XFwYahGan5bKPGzkyJHmAZKwxkHaASYsquuEVaHsCQFCoIEAERrDqkKQjtwwaCJVd+rUqZy8XFscbRGataVeVsjnefi+ffsizZ8SlxFo1Q5UxMUZJqdId4QAIZA0AkRoki6BmPNv1ZHHLI4R2QHmhUKBE5fVpUkWoYGpp9H5Hh5+3333GYFFWpR0awdO0uK8T4v8JAchQAg0I0CEphkTrUPcOnKtlU5YuUceeYSTluH5PhKZAUIzqzCUP7v22msTltKs7HE7cJIW571ZyJC2hEB2ESBCk92ya0ty3JG3lQC9FBiBG264gZOWCwtDmgjN0uI4/mzUqFHs6NGjgdOmF9pDwElaVPftpUxvEQKEQFIIEKFJCvmE8iVCEy/wQFLGjx/PScvi4pgmQrOu1MuKDT+aXbt2xSucgbmpiAsOMxASUpkQ0AYBIjTaFKU/RYjQ+MMprFg7d+7kZAZIy52l3iZCA9NOYj2aO++8M6xsKR2EACYsqmsUlS4JAUIgwwgQoclw4bUjOhGadlBr/x1YNA+M6KRCfyWZAUJzdXEkjzNjxoz2M6I3JQRUxMUZFvdu25KAdEMIEAKhI0CEJnRI050gEZp4y0d8rr2gOMqV0KwuTeaEBgwufb7dWfk4SYvzXqRO7UAgQWdCQB8EiNDoU5a+NKGO3BdMoUT605/+xIkKrDVzR2myK6GBUZpx+b487oYNG0LJ26REnKRFde/Eg9qBExG6JwSyjwARmuyXYSANqCMPBFdHkVeuXMlJygS03QGQF9XvR41pp2nTpnWUpykvq0iLM8wLC2oHXujQM0IgmwgQoclmubUtNXXkbUMX6MXDhw8z+BQbjOwitDqwisxAGIzgiK+dXnzxxUB5mRTZSVqc936xoHbgFymKRwhkBwEiNNkpq1AkpY48FBhbJrJlyxZOZmB3bfg0243I4PBphYH8nZ/+9Kct0zcpgpO0qO6D4kHtIChiFJ8QSD8CRGjSX0ahSkgdeahwuiY2f/58Tk4uLAz2RWaA2CwtjuXvDBo0iH344YeuaZvwQEVanGGd4EDtoBP06F1CIJ0IEKFJZ7lEJhV15JFBayW8f/9+ViqVODm5pTTeN6FZX5rCBuXr7917771WeiZdOEmL8z4sLKgdhIUkpUMIpAcBIjTpKYtYJKGOPHqYb7/9dk5mxub7+iYzYurpiuJw/m5vb68xWyE4SYvqPuxSo3YQNqKUHiGQPAJEaJIvg1gloI48WrgPHjzIBg8ezElJRbHVgSAubueflyaz7nx9Z+6nn346WmETTF1FWpxhUYpH7SBKdCltQiAZBIjQJIN7YrlSRx4t9L/61a84mRmU72YwheRGXLzCwe8GjPucOXOiFTaB1J2kxXkfl0jUDuJCmvIhBOJDgAhNfFinIifqyKMrBvhUW2xEeWVxRFtkBojO7aWJnNCAsX/llVeiEzimlJ2kRXUfkyhWNtQOLCjoghDQBgEiNNoUpT9FqCP3h1M7sR544AFORPrmi2ytz0+13UZqpjY+4YavpbJ4qEiLMyxJvagdJIk+5U0IRIMAEZpocE1tqtSRR1M0R44cYZMmTeKE5rLi8LZHZwTBWVYaz9MqFAps165d0QgdQapO0uK8jyDLtpKkdtAWbPQSIZBqBIjQpLp4wheOOvLwMYUUH374YU5AYCG9OzscnRGkZnJhAE9z0aJF0QgdUqpO0qK6Dymr0JKhdhAalJQQIZAaBIjQpKYo4hGEOvLwcYbRmSlTpnDycWlhWMejM4LQ3NwYpSkWi2z37t3hC95BiirS4gzrIPnIX6V2EDnElAEhEDsCRGhihzzZDKkjDx//Bx98kJOZPvlCy121BVnxe55U6M/TXrhwYfiCt5Gik7Q479tIMpFXqB0kAjtlSghEigARmkjhTV/i1JGHWybwZdOECRM46bisGN7ojCA8sNIwkAbwpXn11VfDFd5nak7Sorr3mVRqolE7SE1RkCCEQGgIEKEJDcpsJEQdebjldM8993DCAV82heU7I8iMOE9t+NLMnTs3XOFbpKYiLjisxeupfkztINXFQ8IRAm0hQISmLdiy+xJ15OGV3aFDh9jo0aM5obmig3VnBHFxOy8vTWCFfJ7ns2PHjvAUUKSECYvqWvFKJoOoHWSy2EhoQsATASI0nvDo95A68vDK9Be/+AUnGQPyJbYupC+b3EjNjMIgntesWbPCU6CRkoq4OMNCzzThBKkdJFwAlD0hEAECRGgiADXNSVJHHk7pvPfee2zo0KGcZFxdHBnal01uhOZnpYms2Bil2bp1ayhKOEmL8z6UTFKaCLWDlBYMiUUIdIAAEZoOwMviq9SRh1Nqq1ev5mRmSAd7NrmRF7fwmYUhPM/p06e3vRO3k7Q478NBJ/2pUDtIfxmRhIRAUASI0ARFLOPxqSPvvAABw/79659TX1scHfnojCA4a9BO3I888ohvRZykRXXvOzFNIlI70KQgSQ1CACFAhAaBYcIldeSdl/Itt9zCR0pG5nvYhjZ31BYkJegZFu4DQgLbLMAn416HirjgMK93dX9G7UD3Eib9TESACI1hpU4deWcFvn//ftbT08NJxZLi2NhGZwTxgU/D4RNxICb33XdfkzKYsKium14wNIDagaEFT2prjQARGq2Lt1k56sibMQkScv3113MyMTbfN/bRGUFqLi8Or8swdiyDT8dVxMUZFkRHE+JSOzChlElH0xAgQmNYiVNH3n6B79mzh3WXujmB+ElpXOyjM4LQrC31sv75Uksi076m+r9J7UD/MiYNzUOACI1hZU4defsF/uMf/5iTiAmFfomRGefIi/O+fe3MepPagVnlTdqagQARGjPK2dKSOnILikAXe/fuZaVSfVTkxlI5VkLjJC2q+0DKUGRG7YAqASGgHwJEaPQrU0+NqCP3hMf14dKlS/nozPgYR2dUxAWHzS2O4DKNGTOGffTRR66y04NmBKgdNGNCIYRA1hEgQpP1EgwoP3XkAQFjjL355pusuzs+3xlMWlTXwpcGtlvo1/ji6d577w2umMFvUDswuPBJdW0RIEKjbdGqFaOOXI2LV+jNN9/MR0LG5aP3nVERGAgTJMZ5hk0x4fn48ePZkSNHvNSgZwgBagcIDLokBDRBgAiNJgXpVw3qyP0iVY8HezaJVYHjWndGkBoneVHdwxdPPY1RmieeeCKYcgbHpnZgcOGT6toiQIQmwaJ98MEH2fe//3128skns66uLrZ+/fqW0tx///3sX/7lX9ixxx7LzjrrLHbrrbe2fAdHoI4co9H6esOGDXwEZGi+T2LrzqiIDA67uFDfJPOSSy5prRDF4AhQO6CKQAjohwARmgTLtFqtMjBCd911ly9C8/LLL7NPfepTbMaMGWz79u3suuuuY8cccwz79a9/7VsL6sh9Q8W3Fhg7diwnNFeFtKM2bJUAoyrwC2vbhJWlSazQ2In7pZde8q+gwTGpHRhc+KS6tggQoUlJ0foZobngggvY1772NUniAQMGsP/+7/+WwvDNwYMH+Seq0IHDb9euXZw8wTUd3gg89thjnMzAVgPggItHRdq9BiIjppTgut10nO9NLQzk6VYqFW+l6ClHIHFC8/oz7E+bN7GnKrfVf9OvYvdPv6p+vW4T+9Pr6oJ6Z3MjfuU29oJLHPWbFOoHgXfWXWW3ycozfl7pKE7c+QURNmhdi1IXv2kToQlSwhHG9UNovvWtb7Fp06ZJUixbtox9+tOflsLwzezZszmBgfTxjwgNRkl9ffnll3OScElhqN3JdU/t6DoqQvPTUrlOvvr2ZeD3Q4c3AkkTGqmDdqlT91eeYe9IarzBXpiO6l8MBlfK3oAbqVxiwDfu/PwXYfC6FqUuftMmQuO/hCON6YfQfPnLX2Y/+tGPJDk2btzIicr7778vhYsbGqERSAQ7wyaUxUJ9E8jbSxM7IjF4NCUqQgPTV+DnA6M/mzZtCqasgbFTRWgs4vIGg3/F9yOCc/+6N6TSeQeN6tAIjQRNKDd+DWcomTHG4s4viNxB61qUuvhNmwhNkBKOMG5UhMYpctIduVOetN7feeednBzAJpSYkHR6HRWhAbnEppXnn39+WmFNjVxJtwPPDnrzbajO3cb+lBrU9BfEs1wiUD/u/CJQwUoySl38pk2ExiqOZC/8EJp2ppycWiXdkTvlSeP90aNH2YQJEzihWVAchYwLGu5H/6KDkJwoCc1q5BwMvlJ0uCOQdDvw7qCfYU9Z9esqyVfmnXXIh2Yz0u918Mep++Hg+sj9ctY5p67gvTfYnyCthu8OxLN+4NeD3rHz3MRegBEiEVeMLAXIW0pr3W3sfjSFdv908AtqjFKh8P8F36LN8kgVC5AnQkm+fP0Z9gLHTLTrq6TRsf91TjmJ+FbZTGUgW/PUoJyNdSfet3QLJ79mTJEfkAo7KHtJ74YeEBeNCNrp3sZewHUNFAqiS9CyCpK2BW79ggiNA5Ckbv0QGnAK/vrXvy6JOGjQIE+nYCkyY7SHjRMQxT18KQRTN6V8gX+NhA1Ep9dREhqQbVKhP5d99erVCs0oSCCQbkIj+y88hYzJnyrC+E5leDoKE6Q6MbHj8TorGWc5ff58OjKC3GDbRArnKdX/6Zu4j0+QvF3TwiRBeW3LA2UYJE9R5vIZk0bACgidF2aO+EBksJwNLOQ88J3j/RDz84OpXYeay16uL/aIIE4X1zXGgukSrKyCpY0RhmsiNE5EYrw/cOAA27p1K/8BoVm0aBG/3rlzJ5di5syZbNiwYZZE4rNtmFJ4/vnnGewvRJ9tW/CEdvGzn/2Mk4LewoBQR2fAGERNaGBECcjY1KlTQ8NDx4SyRGiwMXE3MopSen0TMrq2ocIG5n+RIcZp2waQMRwOhp+P3sBIitdXVi55S2lNF19zOYzs9NsaX3nJ4RgHhbYMRm1skmHrq4rrhoEUjkigOhzLJxMuZ57S+whzKbzN/GRMbeykcJF2AIzw+xh7SWYfujix4PcucnSaNhEaJdrxBMIieUBknL8RI0ZwAeB8zjnnSMLAO//8z//MF9Y788wzaWE9CZ1wbiZNmsRJwcLi6MwRmjtKk601afbs2RMOIBqmYgShYSqDi8OmMjfigg0YNmw4vne1wPnYxt4tLRyO85YMnDDKrhmr82yOjuPJGKjzw/FtXSBdHN8dG/x++Plh7CQZsC+WIB6YSIiwZoB4CE7XLpOgurgkHrBuYpybpgJRFkRoEBgmXCbdkacdY/A9gREOWKju56XJmSM0MAoEO4KDDrBgIx1qBKJuB4C/+Kkk8O6gZaNhGxN5tASH8zxeB78YtLZNBX8xJQwxHtIXYXUJ1QZMzlMymFgxX3m7p+WWtydOPvPEYtav3TFQ54fjyyM/OL4rNtIUjYw5ft821MHyw9hJMqgIjSQL+M6Af4zKx0ouK7uuYdn86NJA31dZtZk2KmAiNAgMEy6j7sizjiGQADBEEwrRbEQZ9ZQTEJp5xZFch4suuijrxRGZ/FG0A0FgVGenImpDJmLJhAYbKWy8bCPDGMPGq+HbAb4Rts+LMD7uRsMtbRyOZRHS+s9bNpI4LZwH1ssVJ9/6WlKiC3cM1Pnh+A4/G+RHg/VBmTHZ50SUQz1GGPlh7CQZMEZ4NAacdJ3+QqDH9KvYC8j5GqdrlwnGwo8u4dRNNU4yynBHhKYZE61DoujIdQLssssu42QAdrG2jYF7JxY0ThyEBtbNAaPa3d3NYB0iOpoRCKMdqIiLKqw5d3mqwv5nLmJioyFPUQQzMpgYCeOD0xZh9XzVabuTkPpbbump8nZPyy1vtSELlqdA1T67ve9WLo74m2GV5+afvAiinVtnhAZIRnNekL/ID2Pni9BYor1RX61aIjd2ncDptk9oHNhZfleq+uEW161cLEWsCyI0FhRmXITRkeuK1KFDh1i/fvXpmmWl8ZklNLDI3qB8iZOaLVu26FpcHenVTjtQkRWvMC8B1Ya68Qb+Z90tT3EojYyrX4TKaOAwP2TJnYRwaQPl7Z6WUi+Hj4pF/ALm2VwO7hioywXHtw1+c7puIfh9GfMw8sPYBSM0trw4DUFeVGHwuT9erRrnp9QlUFkFTNsW37oiQmNBYcZFOx25Gcgwtm3bNk4C+uWLoW0c6RzBiWOEBvI8rzCI6xJ0N3ZTytpPO/AiK6pnQbBTdv48AblTt4x4I3GlkXE1Gs+gqQXbEEt5i6kIWPsD/VMXRg2yxXliA8ZFCpi3W1o4HOctySqcggPm2YBOOuH8MMawPovVZkV+DgywfFKiHjdR5ofTlsoHE2NRzi4yqtLAYVhnHN4Su4BlFShthS5EaBSg6BzkpyPXWX8v3WDtFjBUsNGj1amhOfIwwuIiNNcUR3NdYGd2OpoRULUDFUnxCmtO1X+IZKi7pzYWtXNObcqjM5A67vBtIyOTIL5AHSxaJ9Vdm9DIUyDOPOv3dtpynpLB5OoGyxvLj9PC4ThvCSeLYATLU1kq2NgD/rCYICJ0vK1b+cFCcviTcCgvWHxwE3tBbC5aqa/Jo8wLAiPMD2OHMZXytAgNLCZoL87IN0dV+lrJ5Y7LREq3JXYByyooTg7AidA4ANH9VtWR666zX/3mzJnDScCPIvKfgU4yLkLzs4YfTalUIj8aRQWAduBFVlTPFMm0HSQZaol4AKFwX30WGy/JyLg4etqkBhMaMNCNlYIt4yY7iuK0cZ6SwRTaB8jbLS0cjvOWcHIQjCYCAsbVwtKhr5AVnWElXDt+g8hhUoPzg/cc+2zJf3CaySfKil9GlR/GTiofTA4wocE6WnjV6x1ekRmni8sElAmkS4D6EThtB8hEaByA6H5LhEZdwrDdweDBg7mRuyki/5k4CQ340fRv+NFs375drbRhoSqS4hWWSXj4gnctFr1zUczLgLm8Igd3kLecUIC7EPJ8R6ThN1sRX5z9vteIF3d+buJZcnA93GJ5h1tpeEerPxV4WY7B3i8FSruRFBEab0y1e0qERl2ku3fv5mQGtju4qzQl81NOQJ4mFwZwnSdUgYoAACAASURBVDZs2KBWWvNQL7Li9kxzSCz1uLGw7pqnVKR/+jgeXRMCKUaACE2KCycK0YjQqFGFFZjByI0JeXdteVg6viknyHdOcTjXaf78+WqlNQx1Iypu4dAejDsc/iDOOoodPY3DhhTONAJEaDJdfMGFJ0KjxuyWW27hxv/CwpDIRmfAcMTlQwN5LS2O5TrBzuG6Hm5ExS1c4GB2O4AdrRsrCouds2Gn5QqsGuvY1VoARmdCIAMIEKHJQCGFKaLZHbk7krNmzaqPZhRHaUNoVpcmc50KhQJ7//333ZXP0BM3ouIW7qYatQM3ZCicEMguAkRoslt2bUlOHXkzbOAQPGTIEG78b47QITjuERrIb0DDMRh2Z8/i4UZU3ML96kjtwC9SFI8QyA4CRGiyU1ahSEodeTOM+/fvr49k5PNsXalXmxEaIDQTC/25bhs3bmxWPIUhbkTFLbxdFagdtIscvUcIpBcBIjTpLZtIJKOOvBnWp556ihv9Yfk+kZKZJEZoZhWGct2WLl3arHgKQtyIilt4WCJTOwgLSUqHEEgPAkRo0lMWsUhCHXkzzGvXruVGf1qEKwQDmUmC0IgVgy+88MJmxRMIcSMqXuFRiEntIApUKU1CIFkEiNAki3/suVNH3gz5NddcwwnNZcVh2o3QLCtN4LoNHDiQga9QEocXWVE9i0NGagdxoEx5EALxIkCEJl68E8+NOvLmIpg6dSo3+j8ujtGO0MAigYV8nuv35ptvNisfQYiKpHiFRSBCyySpHbSEiCIQAplDgAhN5oqsM4GpI5fxO3z4MOvTpw83+CtKE7UjNDDNBb5BQCiefPJJWfmQ7rzIiupZSNl2lAy1g47go5cJgVQiQIQmlcUSnVDUkcvY7ty5kxv7PvkCg/2PhK9LVOc4F9YTOoBvEBCLO++8U1a+zTsVSfEKazObSF+jdhApvJQ4IZAIAkRoEoE9uUypI5exf+CBB7ixj3rLA0EukiA0lze2QFiwYIGsvM87L7KieuYz2USjUTtIFH7KnBCIBAEiNJHAmt5EqSOXy2b58uWc0JxfGBz56AyQmiQIzZLGFgiTJ0+WlXe5U5EUrzCXZFIdTO0g1cVDwhECbSFAhKYt2LL7EnXkctnNnj2bE5p5xZHaEppVpUlcx2KxyA4ePCgDwBh/5kVYnM+aEshgALWDDBYaiUwItECACE0LgHR7TB25XaLwGfPQofWF524qlbUlNOAb1C9f5MTlj3/8owWAk6h43VsvaXJB7UCTgiQ1CAGEABEaBIYJl9SR26W8b98+buThs+aotzxI0ocG8nZugeBFXuCZ7ge1A91LmPQzEQEiNIaVOnXkdoE/9thjnNCMyPfEMjqTlA8N5PvDwjCu6+LFiy0AMKmxAg25oHZgSEGTmkYhQITGqOJmjDpyu8BXrFjBjfx5hUHaE5rFxTFc1ylTptgAGHxF7cDgwifVtUWACI22RatWjDpyG5dLLrmEG/mrYnIITnKEZjVyDH7vvfdsEAy9onZgaMGT2lojQIRG6+JtVo468jomsEJwv379OKG5tTRB+xEaIFOD8t1c3y1btjRXDMNCqB0YVuCkrhEIEKExophtJakjr2Px4osvcuPeky/GskIwEIokR2gg73MbKwavWrXKrhCGXlE7MLTgSW2tESBCo3XxNitHHXkdk1/+8pec0MDXP4JsxHFOYmE9oRestQOOwD/84Q+bK4ZhIdQODCtwUtcIBIjQGFHMtpLUkdexmDdvHjfulxWHGUNolpUmcJ1hqu3QoUN2pTDwitqBgYVOKmuPABEa7YtYVpA6csaOHDnCBg8ezI37jTEtqCdGSZIcocEL7G3btk2uGIbdUTswrMBJXSMQIEJjRDHbSlJHzthLL73EyQzssL0+hh22BZmBc5KEBvKf2vCjWb16tV0pDLyidmBgoZPK2iNAhEb7IpYVpI6csfXr13NCMylm/5k0EBr4RB38aC6++GK5Yhh2R+3AsAIndY1AgAiNEcVsK0kdOWNiQ8oriiNi9Z9JA6G5vTSRE5ru7m72/vvv2xXDsCtqB4YVOKlrBAJEaIwoZltJ0zty2G26p6eHG/U4158BMpMGQgN+NGI9mieeeMKuGIZdmd4ODCtuUtcQBIjQGFLQQk3TO/Lf//73nMwMzJdiXX8mLYQG5LigUHeIvuGGG0S1MO5sejswrsBJYSMQIEJjRDHbSprekd90002c0Pwgxv2bBJlJwwgNyPDjxr5O48aNsyuGYVemtwPDipvUNQQBIjSGFLRQ0/SOfMKE+losleKY2P1n0kJo4EurYj7Pid3rr78uqoZRZ9PbgVGFTcoagwARGmOKuq6oyR357t27uREv5PPszlKvsYQGiNX4Qn0fqw0bNhjWAqgdGFngpLQRCBChMaKYbSVNJjRgvOGTZTDmYNST+CW9Do3QeW5xBMcCdhw38TC5HZhY3qSzGQgQoTGjnC0tTe7IZ82axY04GHNh2OM+p4XQrGh8vl0qldi7775r1Q9TLkxuB6aUMelpHgJEaAwrc1M7cjDaYLxhhAbWYombyIj80kJoQJ6h+T4cj4ceesiwVsCYqe3AuIImhY1CgAiNUcVtbkcORhvIDBhxQS6SOKeJ0FxcGMoxWbRokWGtwNx2YFxBk8JGIUCExqjiNrcjB6PNl/wvDCVC0/Af+klpHMcENuo8fPiwUS2BRmiMKm5S1hAEiNAYUtBCTRM7cjDWQ4YM4cYbjHgSIzMizzSN0MDGnD35Isdl+/btoooYcTaxHRhRsKSk0QgQoTGs+E3syJ9//nlutMF4x727tiAy4pwmQgMyndvYfXv58uVGtQQT24FRBUzKGokAERrDit3EjnzFihWc0EwrDEx0dAYIRNoIzTXF0RybqVOnGtUSTGwHRhUwKWskAkRoDCt2Ezvy6dOnc6O9oDiKCI1j/Z07SpM5NuBftH//fmNag4ntwJjCJUWNRYAIjWFFb1pH/tZbb1kGe3VpEhEaB6GBUaPR+b4co3vuuceY1mBaOzCmYElRoxEgQmNY8ZvWkd93333cWI/M9yROZtI45QQyXVoYxjGaN2+eMa3BtHZgTMGSokYjQITGsOI3rSO/5ppruLGelfDn2kAc0kpobiqVOUaDBg1iR44cMaJFmNYOjChUUtJ4BIjQGFYFTOrIjx49ykaOHMmN9fXFZD/XTjOhgS+/+uQLHKcXX3zRiBZhUjswokBJSUKAMUaExrBqYFJHLnbXLubzbF1Cu2sLIiPOafvKScg1qdCfE5q77rrLiBZhUjswokBJSUKACE3ydWDJkiXsjDPOYMcddxw7++yz2eOPP+4p1LXXXsv+4R/+gR1//PHsC1/4Ajv33HPZBx984PkOfmhSR/6rX/2KG+lx+eR21xaEQZzTSmiuaOy+PWfOHFxdtL02qR1oW4ikGCHgQIBGaByAxHm7Zs0aduyxx7Jly5axbdu2sXHjxrETTzyR7d27VynGypUrOfGB8yuvvMI2bdrETj75ZAafJfs9TOrIFy5cyAkNOL0KQpH0Oa2E5pbSeI5V//79jdgGwaR24LdvoHiEQNYRIEKTYAnCiMzkyZMtCcAh85RTTmFuX5tA3G9/+9tWfLiYMWMG+4//+A8pDN8cPHiQ7ywMHTj8du3axbq6uvg1jqfjNRBEWF9laUr8Z4BMpZXQgB9Nd8OPZufOnTpWB0knIjQSHHRDCGiBABGahIrxww8/ZMcccwxbv369JMHw4cNZoVCQwsQNjMx85jOfsaalXnrpJfaVr3yFzZ07V0RpOs+ePZsTGCAx+Acdus7HX/7yF05mgND8vDSZRmgU6884R6tgag7wMmE9GiI0Ord+0s1UBIjQJFTy4LAKBOPRRx+VJDj//PO5L40UiG4WL17MPvGJT7CPf/zj/P0JEyagp82Xpo7QPPHEE9w4D8v3SQ2ZSfMIDch2SWEox+y6665rrkiahRCh0axASR1CgJyCk6sD7RCa+++/n/3t3/4tu+mmm9izzz7L4IuU0047jV1++eW+FTGlIxf7N80oDCJC42N0BghNpTiGExoT9nUypR347hgoIiGgAQI0QpNQIbYz5fTNb36T/eAHP5AkBsP9yU9+0veCaKZ05FdeeSU3zj8qjiBC45PQ/Kw0kWPW3d3NPvroI6me6XZjSjvQrdxIH0LACwEiNF7oRPwMnIJ7e3utXMAp+NRTT3V1Cv7Xf/1XdsEFF1jx4WLVqlWc0Bw+fFgKd7sxpSMXDsE3pMghOO1TThuQY/Brr73mVoW0CDelHWhRWKQEIeATASI0PoGKIhp8tg3rzyxfvpxt376dlctl/tn2G2+8wbMbNmwYmzlzppU1OPiecMIJbPXq1ezll1/mzptnnXUWg09t/R4mdOTgNwSO1eDguiZFDsFpJzQgn9io8uGHH/ZbpTIZz4R2kMmCIaEJgQ4QIELTAXhhvAoOmKeffjpfjwZGbDZv3mwle84557ARI0ZY9zANcNlllzEgMbCwHvjPTJo0ib399ttWnFYXJnTktVqNk5l++WKqppuyQGjOKwzi2MEXdTofJrQDncuPdCMEVAgQoVGhonGYCR357373O26Ux+b7EqHx6T8DZAt+lxeHc+xgUUKdDxPagc7lR7oRAioEiNCoUNE4zISOfO3atdwoTy8MJEITkNBcWxzNsXP6aunWJExoB7qVGelDCLRCgAhNK4Q0e25CR3799ddzo/zDwlAiNAEJzU2lMsdu1KhRmtV8WR0T2oGsMd0RAgoEajUGU/TRHfX0I80CCU+EBoFhwqUJHTn4GYFD8NXFUURoAhKa1aXJHDtwqj506JC2TcKEdqBt4ZFi4SBQLVurx+cqEZEalEdXuRqO3B6pEKHxAEfHRyZ05PApPBCapcWxRGgCEhr4dLuYz3P83DZJ1aFdmNAORDnVqhX+BSV8RdnqF5VdE7LQuTMEalW7DHFZVcv21jb+eEOVla3tcHIMp8UlrNVYtVJm5VyO5axfmZUrVRaM+tRYJSdkU+TTGRxNbxOhaYJE7wATOnLYDwsIDewgLZxd03JO6+aUGJ8B+RLHb8eOHdo2BhPagSi8WiVn/RPH+7mpriP7py6EoXMLBGqsVq2yKv/VHOQBk4Muhkc8ghIaqU44GVCtwnIW2RFkBJ8DEpMYR2mI0LSoXro91r0jP3r0KCuV6gZ5VWkSEZqAIzRAbEbmezihefLJJ3Wr/pY+urcDS9HGBfhJiB82fmAURTg/O1+k+5gRwCMnZeacpMGjbXhUBZepk580KyATIzk+zr9Omur1o4pGWrpYV67iIFvNudghOM1mnex4nV8Roekcw0yloHtHfuDAAW6MYYTmrtIUIjRtEJoJhfqu27/5zW8yVbeDCKt7O/DCAhs//C/f6x16FhcC7Rl/XKYyQVHILY3AOAgGHk3pcjyT3gs2ShNIPoXIfoOI0PhFSpN4unfksOknkJk++ULqyAyMfmRhyuncwkCOIWx+quuhezvwKjdsXDwJTa3KKuWcPP0A/hQwqoMyqIGvBffPqbAK+OsInwscT5EW983AcSBNRbyudvNEMlqXivRlORq+Iw1/IzwKwmrIFwk/4OF1XxM8jQfpOn1OPLES6VjTPYB1HdtKtY64/X6ZVdDwDS7TloQGkxZHZM+pKCaP7ASZnvRO1yqdji+I0HQMYbYS0L0jf/HFF7kxBj8Q7BeSlussEJrzC4M5hrBPmK6H7u3Aq9yw8XMnNHikAKYYnMTGnnKQ0rOMMZ6WcKQFcXLCrwf/03fE6yhPFQKO9JVyyEZbsvcuRAAb67oDLfY3cfd1weSHT+Hg9DGOXV1MkAeMtQgDTXG4JLMCBkleTMwc6eD0RTI4H/e6I2KjM9Yt0HQVSsPHJREaHyDpFEX3jvy5557jxnhovg8Rmjamm4D4XVwYyjG85ZZbdKr6ki5ZbgcwAun1kxRV3PgxStjo2YYLG3ubiEjpdTVGJbjPTj1zKS0PYybFs6xye3kq1GZS+q5y4Py6mCUGJIiNsvRAkZs0PWNP3bTCCkaBbIdc+z2RA34fEw4c3ko0HBenwXyMwEgYtspICA3nFnrhqJ1cE6HpBL0MvpvljtwP3E888QTv7Efle4jQtEloZheHcQyXLFniB/JMxkmyHXiRkTCetSoQbNBssoLfwkbdJi4QAxs0Yc9weiLMTg2n5SAIdiRIGTmddpqnlHDjBqfvVw5HvCCExkUfb6xaG378PiYjOLy5DGQ8cFychlwG9qgQfhuXv1V3ajVWsaYdXT7tJkKDYaTrsBBIsiMPSwevdB588EFujMuFfkRo2iQ0VxZHcAwXLFjgBXWmn3XaDsIgHlGl0apgsEGzjJL0Ep6akUcJsEEThhOnJ8Ls5HBaMlGx48AVjtdpnnLK9TucvpccHsTHi9DwdVuQj025jEZa7Py8scouoal/Zg4+V43pNmdFIEKjqpQU1ikCnXbkneYf9fv33HMPN8aTCv2J0LRJaK4qjuQYzp07N+riSiz9qMhE1OmGARg2qq0JjcMfBPl2CJuF0xNhtpx+iQSO12medu72FU7fJhj2c3HVBqHBRKeBD/jS2D4ydn7eWKWf0GD5lXVHEBfnlJ4I5/jIhFUgH8aZppzCQDFDaehOaDZu3MiN8ZTCACI0bRKaBcVRHMPZs2enumZHTR6iSD8NgLY0StJoSY5VrIXexIJv9bP40gmnFw6h6TRPFcpRERq3dDExShehwaNsTlKCy1Kejqpj6vocRqiq9lo1Te9i0uckO6riajOMCE2bwGX1Nd0Jzfr167kxhk+P0/JlE5YjC185LWrsuH3xxRdHWs2jIAxxpBkpKDEkjo2S06DVs1cbYzfRcHrNhAan5fBJkRLE8WwCIEVBN955oojWJU7frxyOeNgoC0XxyINkqHF+tj4t5cbpOdeB8fgKqWW6Fg4O52ZJZtlHqnnxPEzeHNjUqvzT/VxjmwMnofEiUVi0Tq+J0HSKYMbe153Q3HHHHZzQ/KAwiAhNmyM0Py6O4Ried955LWt3HAQiijx0bwdeBYeNn5rQyJ8BO42TM22cnrDzOA5+7pYfxMfxOs0T5y+ucfrtyKE0ypiASOSgysqKPYywDCqsWn0NhN/HGOFwZboCBH7GxMQx/YP16bKJGLwG+0jZ02iO90T61vv4OSZ3DiIk3gvpTIQmJCCzkozuHfmKFSu4Mb6wMIQIjU9CEwVhiDrNTtub7u3ACx9s/FwNu2WY6v4suRx8vVJhFWuDS/U6NEpjqkoLpWOtD6eK126eKgBU6SvkkIgLrAEDDr4WOXE6vcrGGnCCL37sT68hvk0MMPZKrKTpvnresGihWEQPv+9GaLp4WVmoqpCQyKNTDpwHEBhe9g79cd5SBhbGiNBYYYAFCpdeDOeGCE04OGYmFd07clg7BYwprKWCp3rSch3FlFPU5CGq9JNsNLq3Ay9sJYPltGb4xarTMDeMucOxE6fnlhz8u5eNvEjLNvY8a9d4sjH0kydWRVz7k6PGV0i2RyPqskqkBisKK/w6DD4nApYDta2jH7lhNWAnVoJA4PdFGNdNIg0yVkJ36YzjSyNLEKvGqmXs1CzKqnHGunM/ZmdcWItIeFjJ01iSzJJA4dwQoQkHx8ykontHfsMNN3BCc2lhmBaEJioyEUa6man0CkF1bwcKldsPQhtbdryBpZSWh0hSPOeu0x7v+X0kpe/2kr2hp22e3eKCZRfxPeIEeGRvGhroJRDD14HJkYOjWO/bMuBpKpdpI66/9WrjAr8X7egMZJgpQhPmv2wn7Kbc696RL168mBOaOcXhmSc0YZCOVmmo2tStpQkcw6FDh2rbLHRvB9oWHCkWIgLg51Pfg8q5P5cyE8mHxh51UsYVgTAS1MjDjTSJqGGcM0NoVB1vp2FhAJi1NHTvyOfPn8+N8dziCCMITadtQPX+itJEjmHfvn2zVr19y6t7O/ANBEUkBAIgwKfDEAkK8GosUYnQxAJzejLRvSOfM2cON8bzi6NSRWjWl6awn5UmsuXF+ugHjJzANYTBMxWxSCpsTWkyxxBkPHz4cHoqb4iS6N4OQoSKkiIEMoMAEZrMFFU4gurekV944YXcGFeKY1JFEoC4uE3/wLOkyIsq37tKUyxZDxw4EE7FS1kqureDlMFN4hACsSCQGUIDaKg633bDYkE3hZno3pFPnTqVG+OlxbGh1pd265l4L0uEBmQuNnZ03rdvXwprceci6d4OOkeIUiAEsodAx4QGPsNq9YsDFmE48DmOfLOWh+4d+Zgx9UXhbiqVidD4XIcGtxlx3S9f5MTw5ZdfzloV9yWv7u3AFwgUiRDQDIGOCY3zW33VfRyYiY4Yn+PIN2t56NyRHz16lPX09HBDnLZpnKyN0AzP9+E4bt26NWtV3Je8OrcDXwBQJEJAQwQ6JjRiAaBKrou5/eLADRMZcR1HvlnLQ+eO/N133+VGGHxV1pV6aYSmgxGa8YV+HMvf/va3WavivuTVuR34AoAiEQIaItAxoalW6vs7wOqC7r/okRMkBp+jzzV7Oejcke/atYsb4T75QqrIDNTJrI3QwOaeQAzvuuuu7FVyHxLr3A58qE9RCAEtEeiY0ACJgZGZpA9MZMR10jKlMX+dO/Jnn32WG+Eh+W4iNB2MzkD7ubgwhGN58803p7EadyyTzu2gY3AoAUIgowiExER8rrUcIUiCxOBzhNllNmmdO/JNmzZxIzyx0J8ITYeEZl5xJMfyiiuuyGxd9xJc53bgpTc9IwR0RiAkQpM8RJjIiOvkpUqfBDp35MuWLeNGOI07bWdtyun64jiO5YQJE9JXiUOQSOd2EAI8lAQhkEkEAhMaGIuBjcmdP+FB0wqFqMZyBInB51aymPhc544cRhPA7wNGF3A9SMN11gjNytIkjmWpVNJytWCd24GJ/RrpTAgAAr4IDewEDmvNdJWrrCtXYV1d4Ajs+EF4rsLjwSZUTuICBAjer1bhKvxDZbTCzyX7KerckcNoAhAaGF1Q1Yckw7JGaDaUprBSvsDxfP3117Nf8R0a6NwOHKrSLSFgDAKehAZICScxXTmmWl/GMyxXYUCE4IBznQB1EaFJuGrp2pHDJ9uFQt0Ary5NIkLToQ8NkL/R+b6c0DzwwAMJ19rws9e1HYSPFKVICGQHAVdCw8kMH43pCk5musQ7ufrIDiJENEKTbOXQtSPfsmULN76DU/iFE5CDrI3QgMwzG186/fSnP0220kaQu67tIAKoKElCIDMIuBKacrXWRGRgEb1yl3oBPQgXi+x5jdzUaMop0cqha0e+atUqTmhg/ZQkp5bc8s4ioVlUHM0xnT59eqJ1NorMdW0HUWBFaRICWUHAldDkcvY0E5CVWiXHWK3ScAeG8RvnDxxnKoxVy3xdGiepgTTgWVSHypBElVeW09W1I7/00ku58f1RCh2CoW5mkdAImcEx+ODBg1mu9k2y69oOmhSlAELAIARcCY0gJDDqUv+mKQgqNVYpI0LEF96LxhlYSEWERiDhfdaxIwdj27dv3d9jWWk8jdCE4D8D7QkcgwfmS5woPvnkk94VK2NPdWwHGSsCEpcQCB2BloQGtjZo66jZU1ZR+c1guYjQYDTcr3XsyJ944gludMH4ghFW1YWkw8RoB3yF5fzBs6Tlc8v/gsJgLu/SpUvdK1UGn+jYDjJYDCQyIRAqAi0JTaVNnxfuVNxwDiZCE2qZdZSYjh35kiVLuNEF4+tmmJMOzyqhWVocy7EdMWIEO3LkSEd1L00v69gO0oQvyUIIJIFAS0KTy7U3QoOdimu1aKebADiVwUoC0LTnqVtHDkYWjC2MeoDxVdWDNIRlldDcVZrCYLNPwHfHjh1pr96+5dOtHfhWnCISAhoj4Epo8BdLsKieX0oCIzOwsF4X+lSb1SA02kNltKLNMZup69aRP/fcc9zYgtEF46uqB2kIyyqhAeymNnbe1mmjSt3aQTZ7I5KaEAgXAVdCg5166w7CZb7IHpAb8QPiAj9xb68kLNahqX/KHa7I6tRURksd0+xQ3TryhQsXckLzgxRPN0HdzDKhua4x7TRkyBB26NAhLRqQbu1Ai0IhJQiBDhFwJTSsVvW1roz4GsrtXGvXqTigYkRo/AGmU0f+zjvvsD59+nBCc3NKv24S9TLLhGZ9aQob0Pja6aGHHvJX0VIeS6d2kHKoSTxCIDYE3AkNiFAtd0RqquVcbIoIw4HPsWWeoYx06sh/8YtfcDIzIt+T2q+bRH3MMqEBHS4tDONYz5o1K0O13V1UndqBu5b0hBAwCwFvQgNY1CqsWq6vEIz9alQjMvAcFtCD+FEuoqcqImE48FkVz/QwXTpycAaeOHEiN7Jp3F0b10O4zjqhwfK/9tprmW9GurSDzBcEKUAIhIhAa0JjZWavBAxkBVYOxj9OYKyVhK2XYrtwGhC4p6MZAV068ocffpiTmZ58kd1Z6k2tM7Col5gQZGkdGiE/nHsLAzjmixYtaq5YGQvRpR1kDHYSlxCIFIEAhCZSOTpOHHe84rrjRDVMQIeO/OjRo2zq1KncuMJUiCjvNJ91IDTgpwRkrFgssj179mS6dejQDjJdACQ8IRABAh0TGvicu1Kr/yKQz3eSKmPm+2WDIurQkYuVgeFT7TtKk4nQhLTVgaoNOcMmFvpzUgOLGWb50KEdZBl/kp0QiAKBjglNuVzha860uwBfWEo5O164p6MZgax35OA7M2PGDG5ULykMzQSZgbqowwgN6PHTUplj393dzd54443mCpaRkKy3g4zATGISArEiEAKhKTNwEIbduZM8iND4Qz/rHfkDDzxQN6j5AludkdEZnQgN6DK+0I+Xwfz58/1VuhTGyno7SCGkJBIhkDgCRGgSL4J4BchyRw67ao8aNYob08uKwzMzOqMboYEdzYVj8/PPPx9vBQ4ptyy3g5AgoGQIAe0QIEKjXZF6K5TljnzNmjXckA7Kl9i6DHzZhEcNdZlyEjqdVxjEvl+c8AAAIABJREFUy+K8887L5KaVWW4H3i2cnhIC5iJAhMawss9qR75//37Wr199qmNRcXSmRmd0G6EBfVaXJrHuxqaV999/f+ZaUVbbQeaAJoEJgRgRIEITI9iqrOBrkTPOOIMdd9xx7Oyzz2aPP/64KpoV9vbbb7NJkyaxv/u7v2PHHnss+/KXv8w2btxoPW91kdWOfO7cuXxEYEy+b+pXBRajGPis2wgN6DanOJyXydChQxlsQ5GlI6vtIEsYk6yEQNwIEKGJG3GUH0yhAClZtmwZ27ZtGxs3bhw78cQT2d69e1Es+/LDDz9k//Zv/8b+53/+h8HCcq+88goDJ9mnn37ajtTiKosd+aOPPsoNZzGfZ7eWJmRudAaMv46EBnY3H5av76VVqVRa1Lx0Pc5iO0gXgiQNIZA+BIjQJFgmMCIzefJkSwL4JPmUU05h8+bNs8LwxQ033MDOPPPMQDsegyMtdN7it2vXLv5VGtxn4Xj33XfZ8OH1kYBZGfpMG4/O6EpoQK8bG59xg5NwEGKddN0jQpN0CVD+hED4CHRMaKqVMqvkYP8m+mw7SPHAaMsxxxzD1q9fL70GxrtQKEhh4uZ73/seGzJkCB/J+fznP8++9rWvMZiKOXz4sIjSdJ49ezYnMM69t7JCaJYuXcpHZ4bkuzPnCIxJjY4jNEK/CwqDeRnBCCMQ6CwcRGiyUEokIyEQDIGOCQ1jNdjBsvELlnmYsUXnis9hph92Wrt37+ZEA6ZT8HH++edzXxocJq7/8R//kfvajB49mj311FMMpqw++9nPsssuu0xEaTpneYRmy5Yt3FDCv/8biuMyOdUk6qPOhAb20hqQL/GyuvHGG5vqYBoDiNCksVRIJkKgMwRCIDSdCRDW28Jw4HNYaUeRTjuEBhyATzvtNGlE5pprruEOwn5lzEpHDk6mI0aM4EbywsLgTJMZqJM6ExrQb0lxrEU+t27d6rc6JhYvK+0gMYAoY0IggwgQoUmo0NqZcvrP//xP9p3vfEeSuFqt8pEeSM/PkZWOHFahhZGZofk+mZ5qEgRbd0IDeoqpp5EjR7IDBw74qY6JxclKO0gMIMqYEMggAkRoEiw0cAru7e21JACn4FNPPdXVKfiiiy7in3hDPHHA1yUnn3yyuG15zkJHLrY3KOTzDHZ4FqQgy2cTCM3aUi8DXycgogsXLmxZF5OMkIV2kCQ+lDchkEUEiNAkWGrgAwPrzyxfvpxt376dlctl/tm22PRv2LBhbObMmZaEr732GjvhhBM4CXrhhRfY3XffzcA5+Morr7TitLpIe0cOn6wPHDiQG8VLC8O0IDNAxEwgNKDnTaUyAyIKpOa3v/1tq+qY2PO0t4PEgKGMCYEMI0CEJuHCu+6669jpp5/O16OBEZvNmzdbEp1zzjncj8QKYIyBE/E3vvENToTgE+5WXznhd+E6zR05fK0FTtFgDEfn+7L1pSlEaLqnZg6D2cVhvAxhZec//elPziqYivs0t4NUAERCEAIZRIAITQYLrROR09yR/+xnP+OGsE++wEc0sjzF5JTdlBEa0BuI6Lh8X16WM2bMCLRuUid1O8i7aW4HQfSguIQAIWAjEBmhqcb8IbfTgMA9Hc0IpLUjf/bZZ/n6OzA6k8W9mlT1D4eZRGhA75WlSaxvvshJza233tpcERMOSWs7SBgWyp4QyDQCHRMaIC5d5Sr/5So1Zt13lVlXrsIqsERNDAc2HuI6hmwzl0UaO3KQCb6MATIDuziL8tPpbBqhgbJbXBzDyxTKFdYUStORxnaQJnxIFkIgiwh0TGi6cmV5JVrFfRzAqIxfHPlmLY+0deRHjx5ll19+OTd88Ik2fCmjKsush5lIaKDMxKfcsIHlW2+9lZrmkrZ2kBpgSBBCIMMIdE5ourr41ge1So6Vu7o4uamWuxirllmlXL+PY5BGZfAyXC6RiZ62jnzDhg2czJTyBbZMk0+0VXXRVEKzrtTLRuR7eBnPmjWL4SUHIqvkPhJOWzvwITJFIQQIgRYIhEJoajWYaGIMzrBnUH0rBB7C72u16CmNyoi00N3Ix2nqyHfs2MG6S/Ul8+cVR2o5MiPqpamEBvRfXprAuvMFTmruuOOOVLS7NLWDVABCQhACGiAQEqFpEJZajY/SYFw4wSFCgyFJ9DotHfl7773HN9kE/4rewgC2QaNPtAWJwWeTCQ3gsKA4ihOaYrHItm3blmgbgMzT0g4SB4IECAeBWo1F+8e9nn4MpjQcPBJKpWNCU851OQqyPloD+kAB10dsotcOGw9xHX2u2cshLR057EEFZGZQvsR+Xpqs9egM1EfTCQ0Q1nML9QUTYXPVpLdGSEs7yF4PQhI3IVC1/Ujhw5hIDpQHfIRDhxqBjgkNa0w3qZNn3JfG9VmIDwSJwecQk9cmqTR05LCCLJAZWFH2p6Wy9mSGCE19cUDYlXtwY2uEq6++moFDeFJHGtpB7LrXqqxSLvMVyWFV8orCLtaqFet5uVzhX62GKSf4WsKfXP5DhrlWRXJFxAnC1MNOq2r5jnZ15Zq/6q3VWLVSZuVcjuWsX5mVK1UWTM0a91WtY6fIxxbI6KvOCU1K4MNERlynRLRUiZF0R75nzx7Wv39/TmhgRVlRVrqfTR+hEeULWyMUG1sj3HvvvYm1jaTbQSKK1yosJ8gEnHMVh1HFRhNIR/iGU01oHPkiopMITgEyVevTSMCJN8aeXwfEl0ZpWpZMYEIDrBKIvfMH4X4Yp584LaVWRBAdJj4rohkflGRH/tFHH7HzzjuPk5mxmm1tgOud6poIjb2Fw5zicF4HYGuE119/PZE2mWQ7SERhyBQbRJVBbTLAAQ2uD8XcCAAeGYpq1saHeAGjyERM5mF45KaLr9MGLhjw4Uwl1xihUpJKLxFwmuXQR8+8cs7KM1+EBioYzA3yBfRyFdYFi+Y5fxCeq/B4ULBO4gIECN6vVhXjnCGgpTIifpLdv38/30Tvz3/+M4/+5ptvsquuuorNmTOHbxjpJ40sxUmyI1+9ejU3ZD35Il9JVlVmuoYRobEJDWyNUC7043UBCC7s4RX3kWQ7iFtXK78mQtPF+2vxXCIbjdEE2UiLmO2fpTzCTrx9sdp7UyKADoIhYe14Jr0XjDTCkihiyi7r8LUHuvdbnoQGSAknMV1o3rNR0QWorme0SjAQojoB6koVoXn88cfZZz7zGfaxj32MnXTSSeypp55iX/rSl9iXv/xldtZZZ7FPfvKT7Pe//703ghl7mlRH/uKLL7JS4xPta4qjjZlqEgSNCI1NaAAT2BoBiC34Uv385z+PvRUl1Q5iVxRnKBnZhmG0pp3k0QbRrzcZTe6Hk3NMXeVYrqzwCRFxrREJx3so8Rr4mTT8eyTfnhr49NT9T4RMcAZ/FKcfip1GhVUqZR7HegfiVx1/swOkjWG0rjGeSBd47k3cZKyDOBJ7p2tJZuyFK6HhZIaPxtiM0KocfklNV64+soMIUZpGaL773e+ysWPHsnfeeYctWLCAfeELX+D3ojaMGjWKG2Fxr8M5iY780KFDrLe3lxuvqQZ8oi1IDD4ToZEJDWCzsPEpN6xF9PLLL8favJJoB7EqqMoMG2CrD2+MEEijBnafL9tpPOUBPjgOgmKRI8jcERdsgUVsGumjxPHIAzbw2IDXnWpt2bg9cknDzVah6BLpaJW2Ck5JNsc8mZs+Ih38PNBXS7gMJbxFymafXQkNsFlnpQCHMlgNGOYAnT8IlxzOrAYjV8BaiqacYFRm+/btvAaA0f1//+//MRi1EQeMzpx66qniVotzEh358uXLOZnply+yNQZ8oo2JjLgmQtNMaOBTbliDCEZppk6dGuuu3Em0g6Q7EGyApb4dRlesr49k4uFGLmwjjEcb7OkTOz3Z+VgKR+wCG3icpxIziXzZ0zk4DdiSpz4gU2NSOMozSNqquDhdWWaMiTytJ9Jxw0E8dz276O4a37AHroQGGKuo9EBWoABYrdJwB4bxG+cPHGcq9S0PnEy8QYTAKS2qQxgOfG6V11/91V+xV155xYr213/91+yll16y7nfu3MmOP/54616Hi7g7cphqKhbqq8TCZoW4fEy6JkLTTGig/FeXJlu7coOPVVxH3O0gbL2ABLb6OfPERjRXwc6paKQFXAWQn4ZtqLGRtokL5IHTrfMFHLeLYQ6B49qkCMyG/cfXztOpgbjH6duy4DRwnpIzdMtRDXXaImd8xvnJMuM0ghCaxife1qf1lQYpQ7kSoUFgNF+6EhpBZmDUpf5NU/PL7iE1VikjQpRrJw331FVPVMZRFQ+HfeUrX2H33XefFXT33Xez999/37rfvHkzn4ayAjS4iLMjB2fPGTNm8I53WmGgsWQG6iYRGjWhAWwWFUfzOtKnTx+2e/fuWFpZnO0AK9SKhIT5HOcL15hMgAHG96K/ByKAw21DjaeQ7FERZ7p1IoHj2oTDGdc3oeFrueD1ccpoNsBOHxMM34TGZ9pOLOEe52fjxLWUvmSSn9VTwhjbONS4jym4ZVQt+yljDYMG9kyI45lKSMPCWhIaWBSoraOxSjA0lKj8ZrBc7RCayy67jHn9K7z44osZdLI6HXF25Bs3buSGCpw/V5cmEaFx+VcNZEdVf00Jg6mn8Y2vni699NJYFtxrpx2ESTbiSMvZbzUZYMk4wghJ3UCqjS0mKfZoiiBC4hw6ocE+Iw03Bjx7gNfKwfr5IjQB0nZiCfc4P5m0tB6hwe/ahAbnIvC2CRt/KpUZERqMGFy3JDSVNn1euFNxowKmldA4wXDew35DBw8edAZn+r6djrwdhd966y02YEDdP0L3jSf9EA8aoXEfoQH8bi9NZLDjOhj6hx56qJ0q5/lOHAQirjw8FfV4iI1o3QDLhlcY1taEJsfALvCRBMcZ+n3ZIVg2yOq03ciBMOpAoHA6WG47HOvXmtAES1sFq5suHIEWU2hYVpkM1XOy0nZOkWES5nymEtKwsJaEJpdrb4QGOxWL3bijxFZlVPzkBwb+nnvuYTDdtG/fPj+vZDpOXIRm0aJF3DiNyvcwWHdEVT4mhRGh8SY0UBcuLQzjdWbEiBHWH4m4SEJc+STZeaiNqNj0sGatHWYZU/hDajEDNYlQ64PjduBDg0cjJOON02+T0ARMW6mnB7mQMJRkh5QwmZLxAd9Ua+G9pvfk6UC7bJTSGRnoSmjsebq6U5Pf5fCAoUMbAEYthiFZDFuEqoxjqxLdunUrO/nkk/nXTbAWzac//Wn261//utVrmX4eB6EBR+tCwxH45tJ448kM1E0TCU1cJCGOfDLd6BvCY0Jj8RSFYpIxRhHx+6pRBZwUjosNr+0bgsmSywiNK+moMtgUuW5fwiY06rSxbvY1JiaO6R8suzS6xBjsWyVso5jmq6eJyAzC3c4PPYcPbfwaZTsB7a9cCQ126q2DX+ZsHSqy+AGg8BP3UHFhtWC7sOqfcseBYjuE5r/+67/44kuPPvoo27JlC+vu7mZ///d/H4e4ieURB6G54oor+D/tqYY7AuM6iQkNLnwwxvAMx03DdRwkIa48MN7iOo52IPJKyxmTDC9j6EZoZIdUWNwONlmEr6LEonhobyjJaHexHMSxSEiDjCAhsGw2WZINOOTHF8yTlgRpk9DgkRC+UJ932m5liOVG6vDo+BnYRI6XAwNbV+613XD4dZAjkblEklziiLiGnl0JDeyijUdpMEkJcg2rN8ZxqIxAq3z/5m/+RloJ+O233+arBkNnp+sRdUe+bds2TmZgJ+3bShNSZ6hV9SSOMCAtXkdYMsRFEuLIB9YviuqIuh1EJXcn6WID6zS+OF1XQgORqvgLIzFKIs6ykYW+32lDpMX1kBBYNqeRbyJC0ppn7RKaOoHwmzbGR7rGJKNpigjWwLFnKprsJtKfp+kggfX4tn64XCSMJIHMvnEnNICLZ+UVldj9DIUZ16EyCK3yhmmmvXv3StFgLZq4Vy2VBIj4JuqO/KKLLuKE5geFwURmum2/kU4JTRwEIsw8VO3Rb9iPi2N5Herp6WHgXB7FEXU7iELmVKXJN1ps9r9RyVjflNH20VHFaRlm5dcyZvAIHaaNyZiTowhhLAxqeJoqyLQRfk8mjiIPOnt85WSBU6vwz9P8rAQMbBziQQFHuYieJRu6UHWW6LHyEgjN/fffz5555hnrB4vtwefGOEz5ckYDo+zId+zYwQ1RMZ9nqwz/TNtZH/1UF+c74j5MouEnLZFvUmf4jHt0vi+vSytXrvQDXeA4UbaDwMLQCxlHAPxu6vtNKfe0cmonjcTYIzDOaNI9jAQ18nAjTVJ8Q2+8R2gkUOyVgIGswPAX/nECY60kLL0Yy42q822VMRAa2O4Azs6fCIezTkeUHbn4smk6+c40jU75qUOqOgxhfkgIxHF7P4vh1zYW2xs6dGgkWyJE2Q78lDXFMRsBPh2HSJDZaISnfQBCE16mUaSk6rRb5fPqq68yP79W6WTpeVQdOUwNgFM1GFb6ssmeahL10k8dEXHpPJV/6j8gX+L16be//a0f+ALFiaodBBKCIhMChECoCBhNaEJFMiOJRdWRw4rLQGbG5PtqNVIQFrnwUz3CykuXdOYUh/M6NX369NBXD46qHfgpZ4pDCBAC0SAQmNDwT7PLVVZFa8tUYN2ZcpXB/GFSh6oTbyXLm2++yUdocLw//OEPbOTIkaxfv34sqvl7nF/c11F05EePHmXjxo3jxuea4mgiNMgZWNTLTp2CRTomne8oTWbgjwVEGTaKDfOIoh2EKR+lRQgQAsERCE5oFNsZlMv1hYLAaSmpQ9XRt5Jl4MCBfPNEEQ++eDrppJPY1772Nb4w3Cc+8Ql2++23i8danKPoyOGrMDA6sHT92lIvERoiNKHVgUmF/rxurVmzJtT2F0U7CFVASowQIAQCI2A0ofniF7/IHnjgAQu0BQsWsLPOOot99NFHPAzuv/GNb1jPdbiIoiOHkSwgNL2FAaEZMhVBzXIYjNAARvDDB9zDsyzrFqXs84ujOGbTpk3DsHV8HUU76FgoSoAQIAQ6QsBoQnP88cdLU07f+9732Pnnn28B+sILL7DPfvaz1r0OF1F05L29vdzoLCyOIsOsGJ0Bg48JjSA24kyEptmJWpAkmHaCRRoBqz179oTWBKNoB6EJRwkRAoRAWwgYTWg+//nPs6efftoCDlYOXrt2rXUP66rAujQ6HWF35DBNB8YGjM7PS5OJ0BChCb0OlAv9eB375S9/GVpTDLsdhCYYJUQIEAJtI2A0oYENFEePHs2OHDnC7rzzTnbsscdKK5PCDtxf+cpX2gY3jS+G3ZE/9NBD3NiMzPeEbsjEv3QdzjRC4z4K06p8xS7csM5RWEfY7SAsuSgdQoAQaB8BowkNjM587nOf40QGFtCbNWuWhCQs6jV+/HgpLOs3YXfky5Yt44TmfNrqwJPQEaFpn9Bc19gKYeJE7/2wgrTNsNtBkLwpLiFACESDgNGEBiCFT7c3bNjANm/e3IQwbIGg275OYXfkF198MSc04LzZ6p+2yc+J0LRPaNaUJvM6BiOq7733XlM7bScg7HbQjgz0DiFACISLgNGE5r777mP/9E//xKBzcx5/+ctf2Fe/+lX2u9/9zvko0/dhduSw/kz//vXPapfRztqehI4ITfuEBojwoHx9FernnnsulPYXZjsIRSBKhBAgBDpGwGhCA86sXvPyixcvZqVSqWOQ05RAmB35gQMH+D9nwHEdrT9DhMbFITqMkbkJDcfgsLZBCLMdpKl9kyyEgMkIGE1oTj/9dLZ9+3bX8n/++efZaaed5vo8iw/C7Mh37drFCU1PvuhpzMMwaFlPg0ZoOhuhgQ1POXFety6UZhdmOwhFIEqEECAEOkYgMKHJdXUx+NWq9jYHlXKZh1UytlLwcccdx2poCwcnmvAM1qrR6QizI3/22We5kRma70OEpsXoBBGazgjNxYWhvK7dfPPNoTTHMNtBKAJRIoQAIdAxAoEJDatVGP/hrGvVRphNcvDjOK5V/+Bb5XvmmWey9evXu0Zbt24d+9KXvuT6PIsPwuzIwb8I/jWPy/cjQkOEJtI6cEVxBK9rsHp3GEeY7SAMeSgNQoAQ6ByB4ISm8zwjSaEdQgMr3H79619nH3zwQZNM77//Pn82ZcqUpmdZDgizI9+0aRM3MrDfjgp/CrNHJWiExsainXpxdXEkr2tXXHFFKM0vzHYQikCUCCFACHSMgNGE5o033mCnnHIK95O5+uqr+efb8An3VVddxcPgGcTR6QizI//Nb37DjcxEIjQtCR0Rms4IzbwGoZk3b14ozTHMdhCKQJQIIUAIdIyA0YQG0Hv11VcZ7OEEC+t97GMf4z+4hjDd1qABfcPsyOGLE5hygi9Q2vnXbdI7RGg6IzQ/akw5wR+PMI4w20EY8lAahAAh0DkCxhMaAeFbb73FnnjiCfb4449L2x+I57qcw+zIH3zwQU5oYK8dk8hJO7oSoemM0FzZIDQLFy4MpSmG2Q5CEYgSIQQIgY4RIELTMYTZSiDMjvyxxx7jhGY07ePUktARoemM0FxWHMbrGqwNFcYRZjsIQx5KgxAgBDpHgAhN5xhmKoUwO3L4rB2mnAbkSy0NejujGjq9Q4SmM0IDe4VBXVu5cmUo7S3MdhCKQJQIIUAIdIwAEZqOIcxWAmF25G+//TY3MmBo7ipNIVLj8ek2EZrOCA04nkM9gy/rwjjCbAdhyENpEAKEQOcIEKHpHMNMpRBmRw57OfXp04cbGjDYOo2ohK0LEZrOCM3wfL2ebdmyJZT2FmY7CEUgSoQQIAQ6RiAwoakxxmD5POcPwuHX6vATp1UaqucqA6SKZ3pY2B35+PHjOaG5vjiOCA2N0ERSB9aXprDufIHXM9huI4wj7HYQhkyUBiFACHSGgC9CU6kxlqvUWFe5yrpyFdbVVW7+QXiuwuOVYeFgh1xAgOD9KtoywRGlo1siNP7gC7sjh3VBYCrg8uLwSIyZqlyzGEYjNO2P0CwvTeB1rG/fvuzw4cP+KnqLWGG3gxbZ0WNCgBCIAQFPQgOkhJOYrhzr6uoK9stVGBAhOOBcJ0FdRGhiKFSvLMLuyGF7CCA0UwoDiNDQCE0kdWBBcRSvYxdeeKFX1Q70LOx2EChzikwIEAKRIOBKaDiZ4aMxAYmMRHxy9ZEdRIhohCaScvSdaNgdudigchB96eRpzGmEpv0RmgsbXziFtTElNJaw24HvBkgRCQFCIDIEXAlNuVprGpGBXbbLXV2skmv+QTg8bzWSg3fpDlMr1TREmOnrklbYHfl7773HCoW6f8Oq0iRPo64qI1PCiNC0T2hG5Xv4CA0s5BjWEXY7CEsuSocQIATaR8CV0ORy9jQTkJVaJYd21IbxG+evseN2tcwJj5PYQBqsWm5f0hZvqgxji1eMfBxFRz59+nRucGBqQFUOFDaVEaFpj9CsKU3mdQumNffv3x9am42iHYQmHCVECBACbSHgSmgEIYFRl/o3TUHSr7FKGRGiXDtpBMmPKQ1psBSSib1kyRJ2xhlnsOOOO46dffbZfOsFP5KsXr2aj4YVi0U/0a04UXTksNgZ+dF4G2wiNN74uJFe4T8zbdo0qw6HcRFFOwhDLkqDECAE2kegJaGpVtocVanZU1ZR+c1gtVUdIn6exus1a9awY489li1btoxt27aNjRs3jp144ols7969nuK+8sor7NRTT2Xf+ta3WBoIzY4dOzih6ZMv0AJ7Lo7BRGjaIzRTCwN53VqxYoVnmwj6kAhNUMQoPiGQfgRaEppKm59Zc6fihk8NERp1RYARmcmTJ1sPjxw5wk455RQGn0K7HfDZKkwHgoPkiBEjWhKagwcPcgdI6MDhB+t4wOgbXId1gNzDhtX32qH1aNSGmwiNGhfVHxERBqtP9+SLnND88Y9/DKu68nSI0IQKJyVGCKQCgZaEJpdrb4QGOxXXarAKTbSH6ATxOdocO0v9ww8/ZMcccwxbv369lNDw4cO5k60UiG4uvfRSViqVeIgfQjN79mylo3aYhAaEue6667jhOa8wSDn9h8vFxGsiNMEJzeLiGF6noJ4DaQ7zIEITJpqUFiGQDgRcCQ3+YgkW1fNLSWBkBhbW60KfarMahEZ7qIxktDl2lvru3bs50Xj00UelhM4//3zuSyMFNm4eeughPtX05ptv8hA/hCaOERoQ5g9/+AM3PjDttLbUS6TGMfVEhCY4oektDOB1CqZkwz6I0ISNKKVHCCSPgCuhwU69dQfhMl9kD8iN+AFxgZ+4t1cStj/frjsVR6+o7oTmnXfeYV/84helhQn9EBon8lF15LCvE/gAgXPwQvraqYnQEaEJRmjg66ZCPs/r086dO53VuOP7qNpBx4JRAoQAIdA2Aq6EhtWqvtaVEV9DuZ1r7ToVB1Qpa4Qm6JTT1q1b+YgOTFOJ38c+9jEGP7h/8cUXfSEWZUcOX14BoRlf6Ndk0FXlY1IYEZpghGZucQSvS7AkQBRHlO0gCnkpTUKAEGiNgDuhgXer5Y5ITbWcay1BSDFUxjGkpCNLBpyCe3t7rfTBTwC+XlI5BX/wwQfsueeek37whdO3v/1tHgYEyc8RZUf+xhtvWIvswf47qjIxNYwIjX9Cs6E0hQ1t7K599913+6nWgeNE2Q4CC0MvEAKEQCgIeBMayKJWYdVyfYVg7FejGpGB57CAHsSPchE9leYqQ6mKl6Yw+Gwb1p9Zvnw52759OyuXy/yzbSAGcMCXQzNnznQVOU1TTkLIuXPn8n/W5xcGE6FBfjREaPwTmuuKY3kdGjhgAIOVqKM4iNBEgSqlSQgki0BrQmPJZ68EDGQFVg7GP05gapU2FuGzMujoIouEBhSGr4NOP/10vh4NjNhs3rzZwuGcc87hn2ZbAY6LNBIa4RxcyhcY+EGoysXEMCI0/glNudCPE5oonIFFEyJCI5CgMyGgDwIBCE26lVYZyXRLnIx0UXfk4Byv467VAAAgAElEQVQstkK4rDiMCE1jlIYIjT9Cc0tpPCczMJ26b9++yBpJ1O0gMsEpYUKAEHBFgAiNKzR6PoijI4dNBME5uF++yO6kT7g5qSNC44/QiJWB58+fH2kDjKMdRKoAJU4IEAJNCBChaYJE74A4OnJYzXjChAmc1NAoTd2QE6FpTWiWNUZnYPd22N4jyiOOdhCl/JQ2IUAINCPgSmhgbRm+rky52vG5OdvwQ2jKyR+mcXXkYpQGlq7/OfnS0G7byEFa1VYhbFKhPyfBCxYs8FeZO4gVVzvoQER6lRAgBAIi4E5ocvZu2aovmoKEBZSpreiqTrKthDR/Ka6OHD5Bh0/SYerph4WhxvvS0AiN9wjNTaUyryvgO/P6669H3grjageRK0IZEAKEgIUAERoLCjMu4uzIH3vsMW6kuvMFtqo0yWhSQ4TGndDAujPj8vUvmxYvXhxLQ4yzHcSiEGVCCBACzJXQlHM5vqgerC3T6S8OnGmExh/KcXbk8MUT7E0FozTTDd+0kgiNO6G5trEJZU9PT6RfNuEWEmc7wPnSNSFACESHgCuhgQX1QvtFJ7+VMhEaCwrPi7g78h07dlirB99YKhs7SkOERk1o1pV62cB8iZPeVatWedbdMB/G3Q7ClJ3SIgQIATUC7oRGHT+1oURo/BVNEh05TCPAKM2ofA+D6QVVWekeRoRGTWguLQzjdWP06NEMdoaP60iiHcSlG+VDCJiKABEaw0o+iY78rbfeYgMGDOCG6+riSCI0jV2kgeTBD8iO7oROpd+K0kQGK0oDBg8//HCsLTGJdhCrgpQZIRAUgVqN1Wq1oG8FiF9PP8osiNAEKA4doibVkW/YsIEbLviM20QHYRqhkUdoYKQOdmUHMnPJJZcw8LeK80iqHcSpI+VFCPhGoFpm4stlWLIlkgPlAUvCRHEQoYkC1RSnmVRHDovtzZgxgxuw3sIA46aeiNDIhGZ+cVSd4Pb0sN27d8feYpJqB7ErChnWqqxarfDNb2EDXP7BB3z0AdeVCqu2Yb9q1bKVXlT2LxGsMpSpWxnA5tCCnPjjDVW+qXT9nRxrKs9ajVUrqN5A3clB3amyYFWnxio5IZsinxCwJ0ITAohZSiLJjhxWfy2V6g6g8GWLahpC1zAiNDahWV2axGCkDkZn1q1bl0jzSbIdxK0wbCIsDJzbOdi/cmyYuvjCq3HrZEZ+NVarAhmFX81BHtzLICihkeqHkwHVKvwrZ7d609UVkJhEPEpDhMaMlmFpmXRHvnLlSm7IYJ+nOwxaQZgITZ3QwFQTjNABmYFNTGHkLokj6XYQp85uBgv+4duGKphhqqERn6Z/9HEqp3VeeOSkzJyTNG5lEIzQyMRI5jM4/zpxBR+bWq2KRlq6WFeu4iBbXoWC02zWyetNP8+I0PhBSaM4SXfkhw4dYpMmTeIGbYpBU09EaOqEZkFjqglG6l5++eXEWlbS7SBOxd0IDciAjV+wUZo4NTA1r/aMPy5TmaAocJRGYBwEQyK8jmfSe8HIcCD5FCJ7BRGh8UJHw2dp6MhffPFF1t2YegIDp+s0E9bLD6GBUYs0/rAenVzDV019Gl813XHHHYm2rjS0g7gA8CI0bs9q4DMBPjblCqvAaAz3mwC/m7rfhP28zCpo6MAOr7BKpcxyls9EF/e7qMA//Koc3pXLsbLKkQdGAsr1BV6tkSTu+yP7bkh5KmR1xVmRfk5Kv+E7wnEoy74lNeSThIeoeDj4mMjTfHDv9DnxlFuk02X7nHCfpzLgXfdcsd+XyyAQYcCkxcF+3OpGHU95ZCcIGfZO17W0fD0gQuMLJn0ipaUjX7t2LTfeYODA0HViKLPwbpYJTRpJVppkSnvv4GVA3J5ho2iRCTCujekF/BwbMxwuvWcZZmGgnWfnv3w8OgH5OomNPc3hmqfnVIgjfa6bICFCFtloS/behQhgPDk5QoSO44ES8ZQbp+/ATuCN3xdhUBdxOMpOWU0leTExc6SD0xcJ4XwCfbWEdfMsI5GT/zMRGv9YaREzLYQGfCdmzpzJSc2YfF+2XvMF94jQpHP0KU3EKGxZRIeFjZbT8GCjhI0WDgfHTz66wP0n6qni567v5cQXVDIx6MqVG19WyeE4HbXMOL4gHbIBV8kqcMBnKX1Xo4rz62ISOcBGWXqAc2lcS9Mz9tQNxlApt8t7Igf8PsYOh7cSDcfFaTAm6y4/q0sgYdgqIyE0nFvohaMGvc4UoQn7n3hQsHSInxZCA1ju3bvXWnBvluY7cgNhA1KzvDjBmlaCawhLO5kL29BSevGQO9FfuRkecCqFffrqIyk2QYD3sKFT2Sr8HBs7HI7fw+E4vlo2bExluXB8kT5OW4QJ3dVnnL6DqEgveMQLQmgkcmDr01LuFoYfv48xxeGt8MBxcRqdEhqoWxW+LIA8PcjhbaGXVAQBbzJDaMImMyK9gHhlPnqaCA2A+dBDD1kGfklxrPZTT2tLvZa+cC3qoa7nNaXJbEBjr6Zrrrkm9gX03BpsmO0grQRN6I5JgNs0EPjG4AMbOscjHg0/x4YQh+P3cDiOL8lmvYCng+wRDcgYxxfRcdoiDOvSfI3TtwlGc7w2CQ1ftwX52JTLSuLYUu4Whh+/jzHF4a3wwHFxGu0TGoytPUUpYdtCLyluwBsiNAEBy3r0MDvysLC44YYbuJHvmy+ylaVJWht5kwgNfKI9odCfl+3EiRPZ+++/H1aV6TidNLaDjpVySQCTACA0dd+OuuMqOJoKJ1P8OjZ0KqOIn2NDiMPxezgcx5dks15wGEVrFEmMJtXPIjpOW4RhXZqvcfohExo8ctOQW3YQtvNrKXcLw4/fx5ji8FZ44Lg4DT+EBr/rnMpkAgfVdF4LvZrLy38IERr/WGkRM40dOXzKDWuSwD9d3f1pTCI0lxXrG0/29PSwV199NVXtJ43tICqA1KTBOzdsrFRGET/HhhCH4/dwOI6vls1BOKzF5cQic/WzWKUWp43zdNfQkb5IqOmFoCM0bunidNJFaNT414HAuOIyEzB5PvciNOIZED4V4REZtHHODKEB3cIelm8Dr8y/ktaOfM+ePZY/zUWFIaGXddh1p930TCE01xfHsULjM/Tf/OY3qWs3aW0HUQDlZbTc8sPGSkUS8HNs7HA4fg+H4/hq2dQEoF1Zm9/D6YfoQ4NHHiRDjfNLF6GxRlIU5EIqG0kfQBSTNwWGgrQ0vSdPGzaN7DQXVqCQTBGaQJpRZCUCae7IH3vsMcu/5JriaC1JjQmEBhydYfoQRtwWL16srIdJB6a5HYSNjWSYMMvwyAgTENUr+DkmKDgcv4fDcXw32dziq0TGcXGeqrgiDL/jZVRxvJZyuxKaKitbn2+njNBIxET2V5K/RrLlBgzlVaYd70EEV0KDyZ2CCIkCavNMhKZN4LL6Wto78hUrVnBDWMoX2LLSeO1Ije6EZl2pl43M9/AyhGnEDz/8MJVNJe3tIEzQ3EiDVx7YkKtIAn6ODT0Ox+/hcBzfVTZMDrjfT30jTf7lTGPBPzFThNPGeXrpJxvr+qJ/9YUE64sJChdpST6QAxx8LXLS8OmxMpWNNWzgyBcXlHyAbGLQWm55FMReWK+uGX4fY4rD4RN5+OTe68DxLVUaL+Bndf8r2KRS9mXCeVv5uBEaqVwVRMhKoL0LIjTt4ZbZt9LekcP6NLNnz+YGcXC+W7v9nnQmNOAEPL0wkJfd0KFD2b59+1LbTtLeDsIETjLKTovlkhE2ZKpX8HNs0HA4fg+H4/iessGKwhIZwIbUNoY4bZyni2pWMF+xWJm+TTq4c2xZLLhn5y+RGpwprPDrMPicCFj52Gn7kRtWA3ZiIPDD74swrpxEGkBmGytLeXyB4zdNEdVYVaG/9bUc1h2n6UJocHlLMuN3O7gmQtMBeFl8NQsd+YEDB9i4ceO4YZxQ6Jf6dVqC+NPoTGjmFkfwMisWi+zZZ59NdfPIQjtINYBxCscX9INNERu/sPMW6aKFA5uzCJi/lWZzSu2EWLqLYSk/iXjqIyeAyZEbR7FlkEeO3OLLOcAdfq8FyWp+2VcIERpfMOkTKSsdOWxc2LdvX24gdXIS1pXQLEVOwBs2bEh9g8lKO0g9kCSgJgiAn4/4lF+xGJ5TSzECw0ee7FEnZzTpHkaCGnn4J0FSCi1viNC0hEivCFnqyB955BFOaMC5VJdNLHUkNLcjJ+Brr702NYvnebXcLLUDLz3oGSGQFAJ8OgyRoKTkwPkSocFoGHCdtY585cqV9WmMfIHdVCpn3klYN0JzZ6mXDcv34WX0gx/8ILVOwM6mnbV24JSf7gkBQqAZASI0zZhoHZK1jvzIkSNs7ty53GD2z5fYqoyvJKwToYE9qCY1VgIeOXIk+/Of/5yZtpO1dpAZYElQQiBBBIjQJAh+EllnsSOHJfN7e+t7II3K9zD4NDiII26a4upEaC4pDOVEs6dPD9uxY0cS1bntPLPYDtpWll4kBAxBgAiNIQUt1MxqRw4rCQ8ZMoQb0GmFgQw+EU4TUfEriy6EZmFxNC8L8G964IEHRPXKzDmr7SAzAJOghEACCBChSQD0JLPMckf+3HPPsVKpxA0p7BPkl0SkKZ4OhAZ8mWDhQyAzt99+e5LVue28s9wO2laaXiQENEeACI3mBexUL+sd+aZNm6yRgUpxTOZITdYJDfgwgS8TkJkrr7ySgY9TFo+st4MsYk4yEwJRI0CEJmqEU5a+Dh35jTfeyA1qN98eYUKmSE2WCQ34LoEPE5AZ8GkC36asHjq0g6xiT3ITAlEhQIQmKmRTmq4OHTlsjzBr1ixuWAdlbHuErBIa8Fk6t7GtweDBgxn4NGX50KEdZBl/kp0QiAIBIjRRoJriNHXpyN955x1re4RyhrZHyCqhubw4nBNI8GFK+7YGfpqfLu3Aj64UhxAwBQEiNKaUdENPnTrynTt3sn79+nFDe0FhcCamnrJIaK4rjuUYw1TTxo0btWgxOrUDLQqElCAEQkCACE0IIGYpCd068s2bN7NCof7FzfziqNSTmqwRGtjWoE/ji6YlS5ZkYlsDP+1Rt3bgR2eKQwjojgARGt1L2KGfjh35mjVr6tMh+QK7uTQ+1aQmS4QGZB3e2NbgggsuYIcOHXLUpuze6tgOslsaJDkhEA4CRGjCwTEzqejYkcOnw1dccQUnNYPyJXZHaXJqSU1WCA04AcMChjDNNHz48Exta+CnMerYDvzoTXEIAZ0RIEKjc+kqdNO1I3/33XfZ+PHjuQEen2In4awQmiuLI+qjXqUS27Ztm6ImZTtI13aQ7VIh6QmBzhAgQtMZfpl7W+eO/NVXX2V9+/blhnhWYWgqR2myQGh+WiqzQj7PcfzlL3+ZuTruR2Cd24Ef/SkOIaAjAkRodCxVD51078gffPBBbohhqmRpcVzqSE3aCQ1M1w1srAS8cOFCbZyAnU1C93bg1JfuCQETECBCY0IpIx1N6MiXLl3KSU2/fJGtLk1KFalJM6EBv5lJhf4cuwkTJmR6JWBU5ZWXJrQDpeIUSAhojAARGo0LV6WaCR35wYMH+dL8MEqTNn+aNBOauQ2/mT59+rCXXnpJVX20CTOhHWhTWKQIIeATASI0PoHSJZopHflrr71m+dPMKQ5PzShNWgnNLaXxrNjwm7n77rt1qe6uepjSDlwBoAeEgIYIEKHRsFC9VDKpI7/33nv59AkY6mUpWZ8mjYQGNp0c1lhvZu7cudr6zeB2YVI7wHrTNSGgMwJEaHQuXYVuJnXkR48eZWCgYeppRL6H3VWakvhITRoJzSWFoRyjoUOHMqgfJhwmtQMTypN0JAQAASI0htUD0zryt956i8Hu0EBqflgYRoSme6qEwY3oE+3HHnvMmNZgWjswpmBJUaMRIEJjWPGb2JE/9NBDnNDA2ipJb42QphEamGoaku/m2CxatMiolmBiOzCqgElZIxEgQmNYsZvakc+fP58b7pH5HrY+wamnNBGaHzammkaMGMEOHDhgVEswtR0YVcikrHEIEKExrMhN7cjffvttNnBgfW+iecWR0rTL/zqmYaK8TwuhgV20i41dtB999FHDWgHjvkJdXV3G+AwZV8CksJEIEKFJuNiXLFnCzjjjDHbcccexs88+mz3++OOuEt14443sm9/8JjvxxBP57zvf+Y5nfFVCphIawGLjxo18lKYnX2RrEtrAMg2EBhbQm9hYQG/27NlGfNXkbAsmtwMnFnRPCOiCABGaBEtyzZo17Nhjj2XLli3jGwCOGzeOE5W9e/cqpQLnVlgFd+vWrez5559nI0eOZJ/5zGfY66+/royvCjS5Iz98+DCbNm0aJzXnFQYlMkqTBkKzuDiGY9Dd3c12796tqibah5ncDrQvXFLQWASI0CRY9DAiM3nyZEuCI0eOsFNOOYXNmzfPCvO6AAN9wgknsNtuu80rmvTM9I4ciCB88QQ/WEwuyuklVdpJExr4dH1wwxF4xYoVUt0w6cb0dmBSWZOu5iBAhCahsv7www/ZMcccw9avXy9JMHz4cFYoFKQwt5t33nmHHX/88cxrR2TYBgA6b/HbtWsXM913ADZdBEID+xapSEeUYUkTmquKI7nuUM8++OADt6qlfTgRGu2LmBQ0EAEiNAkVOgz1A7FwOmSef/753JfGj1gTJ05kZ555pqdhAh8JyMf5gw7d1AOwLxaL3LDDOixREhhn2kkSGvhMe0BjJ20vEmxCvSBCY0Ipk46mIUCEJqES75TQwLTUSSedxJ555hlPDWiERg3PddddxwlNudDPGEJzZWPzyVGjRrFDhw6pgTEklAiNIQVNahqFABGahIq7kymnBQsWcGfgJ598MrD01JHXIdu3bx8Dp1iYerqhOC42UpPUCA2MzvTL10elNm3aFLje6PYCtQPdSpT0IQRo64NE6wA4Bff29loygFPwqaee6ukUfPXVV7NPf/rTrN1l6qkjt+Bm119/PSc0kwsDtCc0VxdHcV3HjBnDPvroIxsEQ6+oHRha8KS21gjQCE2CxQufbcP6M8uXL2fbt29n5XKZf7b9xhtvcKmGDRvGZs6caUl41VVX8c+8165dy/bs2WP9gqzySh25BScDB2nxxdOK0sRYSE0SIzSw7szwxm7ad911lw2AwVfUDgwufFJdWwSI0CRctODLcfrpp3OiAiM2mzdvtiQ655xzGCxLLw5YgM/p3Av34Pjr96COXEYKsANSc1FhiLaEBqbUQMe+ffsat8WBXNr2HbUDGwu6IgR0QYAIjS4l6VMP6shloJ566ilu7PvkC+zOUm/kpCaJEZrewgCuI0yx0VFHgNoB1QRCQD8EiNDoV6aeGlFHLsMDfksw1QcjGAuLo7QjNLDFA+wyDvrt3LlTVt7gO2oHBhc+qa4tAkRotC1atWLUkTfjsmrVKm7wYX8j57oxYd/HPUIDG3ECmTn33HObFTc4hNqBwYVPqmuLABEabYtWrRh15M24wF5YYPRhJCPqTSvjJjRj8325buQMLJc7tQMZD7ojBHRAgAiNDqUYQAfqyNVgTZ8+nRt+GNEIe1QGpxcnoVlZmlQnaoUCe/PNN9WKGxpK7cDQgie1tUaACI3WxdusHHXkzZhACIxgwCjN+IhXDo6T0MxtrAx80UUXqZU2OJTagcGFT6priwARGm2LVq0YdeRqXMSaNMV8ngHpwKMqYV7HSWhg800gaTTd1Fzm1A6aMaEQQiDrCBChyXoJBpSfOnI1YEePHmWjR4/mBGBJcWzmCc1dpSmsO1/g+rz88stqpQ0OpXZgcOGT6toiQIRG26JVK0YduRoXCBUbVka5yF5cIzRiMT1YmBHIGh0yAtQOZDzojhDQAQEiNDqUYgAdqCN3B+uRRx7hIxqwTUCY00w4rbgIzazCUK7LokWL3BU2+Am1A4MLn1TXFgEiNNoWrVox6sjVuEDoW2+9xUkA+J1EtWpwXIQGnJtBD9pZW13e1A7UuFAoIZBlBIjQZLn02pCdOnJv0IQfDUzZ4JGVsK7jIDSwGSVs5QCEhvxn1OVN7UCNC4USAllGgAhNlkuvDdmpI/cGbd68eZwIXF4cnllCs7w0gesAm1EePnzYW2FDn1I7MLTgSW2tESBCo3XxNitHHXkzJjhk7dq1nAxMKQzILKFZUBzFdbjwwguxanSNEKB2gMCgS0JAEwSI0GhSkH7VoI7cG6ktW7ZwMjA0IsfgOKacLm44BP/kJz/xVtbgp9QODC58Ul1bBIjQaFu0asWoI1fjIkL37dvHCQ3s67S+NCX0UZo4CM3kwgCuw8aNG4VadHYgQO3AAQjdEgIaIECERoNCDKICdeTeaB05coT161f/Qui20oRMEpoh+W5OaJ5++mlvZQ1+Su3A4MIn1bVFgAiNtkWrVow6cjUuOPTcc8/lhGBxcUzmCA2sEAyjS/CF0/79+7FadI0QoHaAwKBLQkATBIjQaFKQftWgjrw1UvPnz+eE4MriiMwRmttLE7ns8IUTrRDsXtbUDtyxoSeEQFYRIEKT1ZJrU27qyFsDd+utt3JSMLMwJHOE5vriOC77pEmTWitqcAxqBwYXPqmuLQJEaLQtWrVi1JGrccGhd999NycFvRF8uh21U7D4ZPvSSy/FKtG1AwFqBw5A6JYQ+P/tnXuQFNX1x9dC0SQmmtIkFQ0klUSIFZNUkiqU/cdUTCqm4jyWNwu7vGR4LZBfAIkWBRIEFUXGKPjzAVIojx/PYJk1lBESjQIRoxUENItRQCRiIiZgeC2cX50727O3e7qne6ZvP+b2d6qG7cd9nPM5c29/uX1vtwYEIGg0CGIlLqAjd6e1fft2IWhGpPrW3AjNrEyTsJ1ftImPMwG0A2c2OAMCtUoAgqZWI1el3ejI3cHt27dPiIIBqWzNCZqp6cHC9pUrV7o7muAUaAcJDj5c15YABI22obV3DB25PRf5KK8O4lVCQTyLJuhbTsYzaJ555hnZJWxbCKAdWIBgFwQ0IABBo0EQK3EBHbk7rTNnzghBw6JmdXaC0lGaoAXNyFQ/Yfu2bdvcHU1wCrSDBAcfrmtLAIJG29DaO4aO3J6L9WhjY6MQBo8rfrhe0IJmcMdD9fbu3Wt1CfsSAbQDCQY2QUATAhA0mgTSqxvoyL2R4mXPPELDy6A3NUxS9g1a0DSk0sLu9957z5ujCU2FdpDQwMNtrQlA0Ggd3lLn0JGXMrE7wm+qZkGzMDNSmZhhYRSkoFmfbRE2s93Hjx+3cwvHOgigHeCnAAL6EYCg0S+mZT1CR14WT/Hk3LlzhTi4MzO8ZgTNymxhVCmbzeIpwcVI2m+gHdhzwVEQqGUCEDS1HL0qbEdH7g0aP8eFRzpuzzTVjKBZmh0jbB46dKg3JxOcCu0gwcGH69oSgKDRNrT2jqEjt+diPbps2TIhDlS//iDIW04P4bUH1jA67qMdOKLBCRCoWQIQNDUbuuoMR0fujdv69euFoPmf9OCaGaHJZ0YJm3n+Dz7lCaAdlOeDsyBQiwQgaGoxaj5sRkfuDd7mzZuFOBifHlAzgubuzHBh85w5c7w5meBUaAcJDj5c15YABI22obV3DB25PRfr0ZdeekmIg1GpfjUjaGZnmoXN+Xze6g72LQTQDixAsAsCGhCAoNEgiJW4gI7cG61du3YJcTA01admBM1t6aHC5qVLl3pzMsGp0A4SHHy4ri0BCBptQ2vvGDpyey7Wo/v37xfioF8qUzOC5hcdL6Zcu3at1R3sWwigHViAYBcENCAAQaNBECtxAR25N1pHjx4VgoaXbm/MTlQmaoJc5cTzfdhenv+DT3kCaAfl+eAsCNQiAQiaWoyaD5vRkXuD197eTul04TUCqxS+oDJIQWO8mHL79u3enExwKrSDBAcfrmtLAIJG29DaO4aO3J6L3dEgXlAZpKBp7Hgx5Z49e+zcwTGJANqBBCMOm21t1NbWFgdLYEMJgUJsaiE8EDQlwdP7ADpy7/EdN26cuIWj8gWVQQma32QnkvFiykOHDnl3MqEp0Q5iFPjWHNXV1YlvfR6iJkaRKZgixacu1xo782SDIGhkGgnYRkfuPcgzZswQgubezIjYz6FZk51QnPNz8uRJ704mNGVi2kFbK+VzOcp1fPM216O21nzxfC6XJzlJW6uUNxCt0Uq5DjFTV1dPJXqmrY1a8znK1ddTffGbo1y+lQIxp9r2wJzzefGV+XkqrmN0ikeo7L52ZXTGzBwvI23n+RzlWm1IVcS1jfL1BcFpGyOj0hj8haCJQRDCNCExHbkCqPfdd58QCb/KNMde0CzLjhW2Dho0SIHn+heRmHbQlqf6omCoo7r6vEUIyBcrvmjJosJyLoD/nbfl64ujMyX/+7faLvshtmVbo/jNFsSWiW9dHVWGycK4xMc6shu16uSWMwlQg0Ln+TpSwrVGRmkgaIxfQEL+JqYjVxBP431O09NDYi9oFmVuFoJmwoQJCjzXv4jEtAP5QmQnAkpEg1kkyP/TLxk98f0zMV/MzUJAHrkpXJQLoxet0miBnUDzbZS3Akq4GSMYfgRNPdVLo2mdo2rGCEvnaFu+KARzlDdG0aThN2dBUy1XOZ+9iPIGLthUEDTB8o1d6YnpyBWQf/rpp4VIaEkPjL2gmZ8ZIWydOXOmAs/1LyIx7aBE0Jj/x2+68HWMDpiFRYC/BZMosFwkTXZbzpnymQVYgNaai27LF2+D5fiWnTSyUhk/WdRZ/DTXSNRqGW2T6hRzkKTRN1NcZYN8cG3NVSvarI4Etw9BExzbWJacmI5cAf2dO3cKkdCs8GnBQU0KntHxlODFixcr8Fz/IhLTDkwXsI4LUvHCJ19M7S9WbTx/xWb+TedxnjeSE/NbjIm9dfX19vM2rD8r2Tb5oktEjhdkUYbZbrtbMtaqgt2XRy8qHaGR87oIGsMJnq9TnNNSEKjGGE4xSXEEx3zLyQ/X8nmNmqP9C0ETLf/Qa09MR66ALK8W4gfV8eohXkW0qWGS729QgnpY2vcAABvCSURBVGZyepCwdcOGDQo817+IxLQDWTQU/0ffMaphGumwFzTy/8pl4SAfLwqZYvmFsiwapeRHJV8g5bI5oVy+9Zz1fMkckZKagj4gixIfgqYoNMvbK7MpsC8dpZLZynzkvBVzlX9LHm0t74n6sxA06pnGusTEdOQKonD69GnKZDJCKKzKjvctZlgQBSVoRqT6Cju3bdumwHP9i6jVdsAC2+lrFzXThU0WHLlWaRSEVxB1Chr5Qud0AZSP19XnqLCQps0kROQLqZ1tchlynUTuIzAmv9yUk13lSo/5EDQmUVlfHA3L5fPUavfgF0lU1OelkRqLwLDn45OryVaPo0lKObsXBkHjzkirFLXakUcVhNGjR4sLyP9mR8dW0PDoUd9UQXi98847UaGqqXrj0A6chEm1x+0CIF/YTBfAuvrO1U/1ecpL8yNkceEkOuTjJj0hXXBLV1SZLZTLkOv0K2h4IrNYqh7a0m5VgqZTVBZHvSxCRRA0lnfzjrwt4ZXj3iksIWgkRNjUgUAcOvJa4jh79mwhaO7MDI+toFmRHS9szGazxKNK+LgTUN0OqhUhKvPZeS1f2Fg0yPvGRZMFiXxcFhdOokM+Hh9BYxYWboJKCCebVUWFOUP2z3exY0xkrtfEwz6D+aghSoy/rblOsVlnnsRtzui8J8cTgsaZE87UOAHVHXmN43A1f/ny5UIsTE03xlbQ/LpjyXZLS4urP0hQIODWDlQKDVVlVRM7WXgIoWK6bcAjAoVbB/YXQOe5LHK5pgt4SCM0cv2dF+wOQoYNdqMbJohmIWIIPKd5Kaasph1zOSYepnQV7Bg+8G1CVz9Ky7WPp/sITVmupt8ObjmVUseR0Am4deShGxTzCl944QUhaPjFj3GdFHx7pknYuGDBgpjTjMY8VYJCdTlh0JAvUIWRF/NFzRAD9hfAYAWNU53MpdRuM62y5w0x4EUIGKMiNn/NNZbbC0DQ+BQPTmzLcnPjbnCtUmSVI6jqHObQqCJZI+VA0FQWqIMHDxZu56TStFHBSqcgJgVPSg8UNiZhhZNqUaGqvMp+VeGltr+ASY/Y7zCl0gugXK5pRKKSi16ZtCZ7SoSJi4Awyi3JFxR3F3uqqdbwoUrxYOInBch0vIRPeT9MeaUyq3EvqDwQNEGRjWm5EDSVBaa9vZ0GDBggBMPS7BjfozSqBQ1PCB6Uygr7Xnvttcqci0FqVYJCZTkxwKLMBEfhYanB6WIl53eaW2O6tlV0IZYvoJZbGKYRCvOyZH6/VOftIUs+9ss4X3LBtjitbFf2w2HZtvROrbzdu5UstsjcjVE0S5Kyu07xpKq5mkf2TDEva0m4JyFowuUdeW0QNJWHgJ++yxfMeQomBqsWNE9mC28E5wnBJ06cqNw5hTlUigpVZTm5l5R2IF8Yy12EnC6Acn71gsZ8a8lqn1w3C5j6en5JpXklkGxTMdaxEzRmMWDMW2J7+QGFxks3C5ORpdVnYpm9WcwVfXTZcIonZ6uKq0kI2YhIF3vCOg1BExbpmNSTlI5cJe7Vq1cLQTMpPSh2IzQLMiOFbVOmTFHpsihTlahQWY4qJ5PSDuSLl1UwyCydLoByflk8yMdN5RpiwuutEvlCWTKiws+1kV5eKS7wkqAxVSx5Y9hQUp6URumm+wiNzMs0ydeyoqlz5IknA+dK3z7u0W6neBayV85VLk/+HXg0J7RkEDShobav6MEHH6Qvf/nLdOGFF1KvXr1ox44d9gk7jq5Zs4Z69uwp0l9zzTX029/+tmx668mkdORWv/3s79q1S1zgB6ayvp8YrHqEZlq6Udj22GOPObqoUlCoLMvR4BBOoB2EANljFfLF3kmjFF5MyXN/3MWDx2rDTyYmHjtVK81r4nROyRQf98ZVZh7f0RlGA0Gj+AdSSXH8P/+uXbvS0qVLaffu3cQPcbv00kvp/fffty3mxRdfpC5dutD8+fNpz549NGPGDLrggguIL7heP+jIvZLqTHfy5ElqaGgQwmFZdqyvURoVgkalqFBVViet2thCO4hTnFqLL3qs5ycYu5lmjMD4uCXjVkUizztx5VG0en6aNL+jK95kIGgijA+PyEyYMKFowdmzZ+mKK66gO++8s3hM3uDJqT/72c/kQ3TttdfSmDFjTMfK7aAjL0fH+Zwxj+aOzLDABY0qkVFtOc4U9DmDdlDbsZTnnrAIwkcNgVrnCkGj5ndQcSmnTp0Soy0bN2405W1ubqZ0Om06Zux069aNFi5caOyKv3yh/fa3v206Ju/w6AJ33saXlyHzfVrex8c7gU2bNokRmjHp/oEKmmpFSLl83r1MTkoImuTEGp4mhwAETUSx5jc5s7B46aWXTBZMmzZNzKUxHezY4dtLK1euNJ1atGgRff7znzcdk3dmzZolLXHsnFAHQSNTct823rydSaVobbalalHjdsupnDDhc/LD/camC8vJk/D8GfcIVZYCgqYyXkgNArVAAIImoiiFJWgwQqMuwHxrj0XFwswok7CQRYbbNj83hkUNf3nbLb3TeRZVLK7YngMHDqhzMiElQdAkJNBwM1EEIGgiCndYt5ys7qEjtxLxvr9s2TIhICamB1YtRJwESqXH78mMELaMHz+ezp07590JpBQE0A7wQwAB/QhA0EQYU54ULL9QkCcFX3nllWUnBd90000mi3v37o1JwSYiwe289dZbQkRkU2lft50qFS926cd13G5atWpVcA5rXDIEjcbBhWuJJQBBE2Hoedk2P3+G/+fPy7D5SZG8bPsf//iHsKqpqYl++ctfFi3kZdvnn38+3XvvvbR3717i+TFYtl3EE/gGj4SMHTtWiBp+oJ2d0Ajj2P9lJ1C643YTT/LGp3ICEDSVM0MOEIg7AQiaiCP0wAMPUPfu3cXzaHjEZvv27UWLrr/+eho2bFhxnzf4wXo9evQQ6b/5zW/iwXomOsHvrFixonCrJz0gMkFzV2a4sGHy5MnBO6xpDRA0mgYWbiWaAARNwsKPjtxfwN99910hJniEZGV2fCSiZmSqn7ABq5uqjyXaQfXskBME4koAgiaukQnILnTk/sFOnz5dCIrZmebQBc3j2cItL34Z5dGjR/07k9AS0A4SGni4rTUBCBqtw1vqHDryUiaVHvn9738vBM2QVIOvpdfVzLe5NT1E1D1v3rxKzUZ6iQDagQQDmyCgCQEIGk0C6dUNdOReSTmn++9//0v9+/cXwuKhzOjQRmk2ZCdSv1RG1PvnP//Z2UCccSWAduCKCAlAoOYIQNDUXMj8GYyO3B8/IzdP5uaH2k1ODwpN0PDKKq5z+PDh1N7ebpiCv1UQQDuoAhqygEDMCUDQxDxAqs1DR66GqPFMGp4cvCqkycGjOiYD49kz/mOIduCfIUoAgbgRgKCJW0QCtgcduTrA/N4tHjG5PdMU+CjNkmzhtQsNDQ304YcfqnMioSWhHSQ08HBbawIQNFqHt9Q5dOSlTKo98oc//EEImoGpLG308V4mL5ODp6YHi7rmz59frbnIJxFAO5BgYBMENCEAQaNJIL26gY7cKyn3dKdPn6ahQ4cKoeHnhZVugoafDMyvW+DRoNdff93dMKRwJYB24IoICUCg5ghA0NRcyPwZjI7cHz9r7ieffFIIjZtT/QK77fSrTLOoY9KkSXgRpTUAVe6jHVQJDtlAIMYEIGhiHJwgTENHrpbqP//5T+KH3PHoCc9zcRttqfQ838oalCqU/+yzz6o1PsGloR0kOPhwXVsCEDTahtbeMXTk9lz8HOWXhbKg+UV6sHJBk8+MEmUPGTKETp065cdM5JUIoB1IMLAJApoQgKDRJJBe3UBH7pWU93RvvPGGEB2ZVIpWZycoFTWjU4UH+C1fvty7QUjpSgDtwBUREoBAzRGAoKm5kPkzGB25P35OuadMmSJEze0K3++0tGOpdiaTIb61hY86AmgH6liiJBCICwEImrhEIiQ70JEHA3rLli1C0Khcwj2lY6n23XffHYzRCS4V7SDBwYfr2hKAoNE2tPaOoSO35+L3KC/hbmpqEqJmYWak79tO8lLt3bt3+zUP+S0E0A4sQLALAhoQgKDRIIiVuICOvBJalaVdsWKFEDQqlnDP6ViqPXnyZCzVriwMnlKjHXjChEQgUFMEIGhqKlz+jUVH7p+hUwk8z4Xnu/CKp2XZsVWP0vwmO5GGpBpEOZs3b3aqDsd9EEA78AEPWUEgpgQgaGIamKDMQkceFNlCufPmzRNCZHp6SNWCZlHmZlHGoEGD6MSJE8EanNDS0Q4SGni4rTUBCBqtw1vqHDryUiYqj/zlL38RYqRPKk3rsi1ViZqW9EBRxsMPP6zSNJQlEUA7kGBgEwQ0IQBBo0kgvbqBjtwrqerSnT17lkaPHi0EyfzMiIoFzcrseEqnUiL//v37qzMCuVwJoB24IkICEKg5AhA0NRcyfwajI/fHz0vudevWCUFSzeRg471Nt9xyi5eqkKZKAmgHVYJDNhCIMQEImhgHJwjT0JEHQdVcppgcnC5MDl6eHed5lIYnAzel+ggxhMnAZqaq99AOVBNFeSAQPQEImuhjEKoF6MjDwT1z5kwhTGammzwLmsc6ngzct29fOn78eDiGJrQWtIOEBh5ua00Agkbr8JY6h468lEkQR/74xz8KQTM4lSUeefHylu1b0o0iD7/sEp9gCaAdBMsXpYNAFAQgaKKgHmGd6MjDgX/y5EkaOLCwWumRbM5V0GzMTqT+qcJtqldeeSUcIxNcC9pBgoMP17UlAEGjbWjtHUNHbs8liKM80sIP2bvVwzNpHsoUVkY1NjbSmTNngjAHZUoE0A4kGNgEAU0IQNBoEkivbqAj90rKf7pt27Z5vu1k3G66//77/VeMElwJoB24IkICEKg5AhA0NRcyfwajI/fHr5LcfNupf//+QtTwhF+neTQ8x2ZAKivS7dy5s5IqkLZKAmgHVYJDNhCIMQEImhgHJwjT0JEHQdW5zPnz5wuhMiM91FHQPJrNiTT8qgN+azc+wRNAOwieMWoAgbAJQNCETTzi+tCRhxuALVu2CLEyPNXXUdDw0m6ea3PXXXeFa1yCa0M7SHDw4bq2BCBotA2tvWPoyO25BHX0ww8/FGKFBcvq7ARbUTMq1U+kwcP0gopCabloB6VMcAQEap0ABE2tR7BC+9GRVwhMQfJJkyYJwbIgM7JE0KzJTii+u+nIkSMKakMRXgigHXihhDQgUFsEIGhqK16+rUVH7hthxQUsW7ZMCJpfpAeXCJp8ZpQ4N378+IrLRYbqCaAdVM8OOUEgrgQgaOIamYDsQkceENgyxfKD8viW05BUQ4mg4WfU8LmHHnqoTAk4pZoA2oFqoigPBKInAEETfQxCtQAdeai4RWXHjh2jdDothMsqyzyakR3zZ7Zu3Rq+YQmuEe0gwcGH69oSgKDRNrT2jqEjt+cS9NGWlhYhaO7PjCqO0qzPtlAmlRLHDx8+HLQJKF8igHYgwcAmCGhCAIJGk0B6dQMduVdSatM9+OCDQrjcJj2P5uGO5880NzfTuXPn1FaI0soSQDsoiwcnQaAmCUDQ1GTYqjcaHXn17Pzk5CXZPFdmTLp/cYRmXmaYODZnzhw/RSNvFQTQDqqAhiwgEHMCEDQxD5Bq89CRqybqrbw333xTiBd+xYHxCoSp6UZx7IknnvBWCFIpI4B2oAwlCgKB2BCAoIlNKMIxBB15OJyttZw4caI4Mdh4wJ4xIfj555+3Jsd+wATQDgIGjOJBIAICEDQRQI+ySnTk0dHP5QrvbOLl282pPsUH6h04cCA6oxJaM9pBQgMPt7UmAEGjdXhLnUNHXsokrCMPPPCAuMXEc2mML08Ibm9vD8sE1NNBAO0APwUQ0I8ABI1+MS3rETrysngCPclv0t61axe9+uqrxS+/6wmf8AmgHYTPHDWCQNAEIGiCJhyz8tGRxywgMCcSAmgHkWBHpSAQKAEImkDxxq9wdOTxiwksCp8A2kH4zFEjCARNAIImaMIxKx8decwCAnMiIYB2EAl2VAoCgRKAoAkUb/wKR0cev5jAovAJoB2Ezxw1gkDQBCBogiYcs/LRkccsIDAnEgJoB5FgR6UgECgBCJpA8cavcHTk8YsJLAqfANpB+MxRIwgETQCCJmjCMSsfHXnMAgJzIiGAdhAJdlQKAoESgKAJFG/8CkdHHr+YwKLwCaAdhM8cNYJA0AQgaIImHLPy0ZHHLCAwJxICaAeRYEelIBAoAQiaQPHGr3B05PGLCSwKnwDaQfjMUSMIBE0AgiZowjErHx15zAICcyIhgHYQCXZUCgKBEoCgCRSvc+H/+te/qLGxkT796U/TJZdcQiNHjqRjx445ZuD0LS0t1KNHD7rooouoW7duNHHiRProo48c89idQEduRwXHkkYA7SBpEYe/SSAAQRNRlG+88Ub6zne+Q9u3b6cXXniBvv71r9PgwYMdreGXGvbp04eeeuop2rdvHz333HN01VVXUd++fR3z2J1AR25HBceSRgDtIGkRh79JIABBE0GU9+zZQ3V1dfTyyy8Xa3/mmWfovPPOo0OHDhWPuW2sWbOGunbtSmfOnHFLWjyPjryIAhsJJoB2kODgw3VtCUDQRBDaJUuW0KWXXmqqmUVJly5daMOGDabj5XYeffRRuvzyy8sloZMnTxJ33sb34MGDQkzxPj4gkFQCEDRJjTz81pkABE0E0Z07d66YC2Ot+nOf+xwtXrzYeth2/4MPPqDu3bvTbbfdZnveODhr1iwhYHhESP5C0BiE8DeJBCBokhh1+Kw7AQgahRGePn26STTIAsLY3rt3L/kVNNwZ9+rVi3gezunTp8t6gBGasnhwMqEEIGgSGni4rTUBCBqF4T1y5AixYCn3PXXqFPm55fSf//yHevfuTTfccAOdOHGiYuvRkVeMDBk0JIB2oGFQ4VLiCUDQRPATMCYF79y5s1j75s2bXScFcyd83XXX0fXXX08ff/xxMW8lG7zMm0eLeC4Nl4cvGCTxN2DMJav0sQeVtDWkBQEQCJcABE24vIu18e2i7373u7Rjxw7605/+JJZgy8u23333XerZs6c4z5n4onPttdfSt771LbFs+/Dhw2R829vbi+W6bRgduXELDH/Nc4vAI1k8uD3gAwIgoAcBCJqI4sgPymMBc/HFF9NnPvMZGjFihOnBem+//bYYSdm6dauwkP86XWw5rdfP2bNnxegM/880if8zj4PPhqjkv3GwJ4k28O+f+XN7wAcEQEAPAhA0esQRXtQQARYQLE75Lz4gAAIgAAJqCEDQqOGIUkDAMwEIGs+okBAEQAAEPBOAoPGMCglBQA0BCBo1HFEKCIAACMgEIGhkGtgGgRAI8LOB+IGH/BcfEAABEAABNQQgaNRwRCkgAAIgAAIgAAIREoCgiRA+qgYBEAABEAABEFBDAIJGDUeUAgIgAAIgAAIgECEBCJoI4aNqEAABEAABEAABNQQgaNRwRCkgAAIgAAIgAAIREoCgiRA+qgYBEAABEAABEFBDAIJGDUeUAgIgAAIgAAIgECEBCJoI4aNqEAABEAABEAABNQQgaNRwRCkgAAIgAAIgAAIREoCgiRA+qgYBEAABEAABEFBDAIJGDUeUAgI1Q2Dr1q3ibd9Hjx6tGZthKAiAAAi4EYCgcSOE89oQGDZsmLiQ19XV0QUXXEBf+9rXaPbs2XTmzJlIfWS7MplMaDZA0ISGGhWBAAiESACCJkTYqCpaAiwcbrzxRjp8+DC98847tHjxYjrvvPNo3rx5FRvW3t5OZ8+erTifXQZVgubUqVN2xZccg6ApQYIDIAACGhCAoNEgiHDBGwE74fDjH/+YrrvuOlqwYAFdc8019MlPfpK+9KUv0bhx4+jYsWPFgh9//HG65JJLaNOmTXT11VdTly5d6O233xZvzJ4yZQpdccUVIm+vXr2IBYPxMfL97ne/o2984xv0qU99in7yk5/Qe++9J5LwW7d5xEj+GvkPHDhA/fv3F/V+9rOfpXQ6Leo0yjb8ueOOO+iLX/wifeUrXxGnli9fTt///vfp4osvpi984Qs0ePBgev/9941swj6uD7ecikiwAQIgoAEBCBoNgggXvBEwBICcmkXC9773PVq4cCFt2bJFCIbnnnuOevbsKUSNkZaFCd+mqq+vpxdffJHeeOMN+vjjj+nmm28Wx55//nnat28f3XPPPXThhRfS3/72N5HVyPejH/2IXn75ZXrllVeEIGpsbBTnWTQNGDCgOHLEo0c80nL69GmRbuTIkfTXv/6V9uzZQ5yH7TJGYtgfFi1NTU30+uuviy8XumTJEmptbaW33nqLtm3bRr1796af/vSnhisQNEUS2AABENCJAASNTtGEL2UJyILm3Llz9OyzzwrxMXXq1JJ8a9eupcsuu6x4nIUJj2q89tprxWP79+8XIzWHDh0qHuONG264gW699VZxzMjHYsf4LFq0SIycGPuyXcaxJ554QogXttP4sJD5xCc+QZs3bxaHOB+PwBgCx0hn/ctCim03Rpxwy8lKCPsgAAI6EICg0SGK8METARYAfKuIb/t07dqVzj//fGpubqbjx48LcfPDH/5Q3DriUY+LLrpIiAAeheEPCxPOIwuMp59+WqTh8uQvl8ujLkY+vo0lfzZs2CDm7hjH7AQNiyzDVrlsnvPDc3/4w/l45Mf62blzJ910003UrVs3MYLD9bOg2b17t0gKQWMlhn0QAAEdCEDQ6BBF+OCJgCEA2traiEdXjNVNPBeGbxP9/Oc/F7do3nzzTXHbRp5nwoKG59DIn9WrVwvRwbefuEz5y7eO+GOXb+PGjUJgGGXZCZqxY8cSz8eRyzS2P/roI5HVLh+LMx5Z4ttTfBts7969YkSHfXn11VdFPggagzz+ggAI6EQAgkanaMKXsgTsBABnWLdunZgfI69amjNnjhAdxsRZO2HCwoeFAgsHp49dPqugGT16tBhRkct45JFHiCcC//vf/5YPm7bt/OHRGbaJJxQbH759BUFj0MBfEAABXQlA0OgaWfhVQsBOAHAinhfDF/x8Pi8m0vIqoSuvvFIcKydoOO+QIUPE6qL169fT3//+d9qxY4dYBs63o/jjRdDMnTuXunfvLiYaf/DBB2JCMN/quuqqq+gHP/iBEExcNo+sTJw4kQ4ePCjKtvPnyJEj4tbYtGnThC+8KqtHjx4QNIIY/gEBENCZAASNztGFbyYCdgLASHDfffeJpc886ZaXVbOoYZHjJmh4NdLMmTOFqOFVULx8uqGhQaxM4rK9CBoWIbx8nOfucJ0sXPjDt614js/ll18ubol99atfJR7NMUZtnPxZuXKlsIdvo/EKp6eeegqCxgg0/oIACGhLAIJG29DCMRAAARAAARBIDgEImuTEGp6CAAiAAAiAgLYEIGi0DS0cAwEQAAEQAIHkEICgSU6s4SkIgAAIgAAIaEsAgkbb0MIxEAABEAABEEgOAQia5MQanoIACIAACICAtgQgaLQNLRwDARAAARAAgeQQ+H8NfeyX+02SYQAAAABJRU5ErkJggg==)"
      ],
      "metadata": {
        "id": "2geVwRZ6GKEh"
      }
    },
    {
      "cell_type": "code",
      "metadata": {
        "id": "byHVVjDJ4VDO"
      },
      "source": [
        "#Graficar violinplot con el área de superficie polar topológica de los fármacos orales\n",
        "sns.violinplot(y=\"TPSA\", data=df_oral_descriptors, palette=\"BuPu\")\n",
        "#Agregar puntos para cada dato\n",
        "sns.stripplot(y=\"TPSA\", data=df_oral_descriptors, color='midnightblue', alpha=0.5)"
      ],
      "execution_count": null,
      "outputs": []
    },
    {
      "cell_type": "code",
      "source": [
        "#Violinplot de la fracción de carbonos sp3 por vía de administración\n",
        "sns.violinplot(x=\"Via_admon\", y=\"CSP3\", data=df, palette=\"flare\")"
      ],
      "metadata": {
        "id": "prayleDCXSLm"
      },
      "execution_count": null,
      "outputs": []
    },
    {
      "cell_type": "markdown",
      "source": [
        "También podemos utilizar los gráficos de violín para comparar dos descriptores entre sí y visualizar una posible correlación entre ambos. Por ejemplo, al graficar el número de anillos vs. la masa molar exacta podemos observar que cuando uno aumenta el otro también (directamente proporcionales):"
      ],
      "metadata": {
        "id": "KOgf8XPjhLtf"
      }
    },
    {
      "cell_type": "code",
      "metadata": {
        "id": "XSEOIogxlf24"
      },
      "source": [
        "#Violinplot del número de anillos vs. masa molar de los fármacos orales\n",
        "ax = sns.violinplot(x = 'NumRings', y = 'MW', data = df_oral_descriptors, palette=\"rainbow\")\n",
        "#Establecer límites para ambos ejes\n",
        "ax.set_xlim(0.5, 7.5)\n",
        "ax.set_ylim(0, 1600)\n",
        "#Tamaño de gráfico\n",
        "plt.gcf().set_size_inches(10, 5)"
      ],
      "execution_count": null,
      "outputs": []
    },
    {
      "cell_type": "markdown",
      "source": [
        "Documentación de *violinplots* con `seaborn`: https://seaborn.pydata.org/generated/seaborn.violinplot.html"
      ],
      "metadata": {
        "id": "ILbg_lDGNrF6"
      }
    },
    {
      "cell_type": "markdown",
      "metadata": {
        "id": "nKKjp5gSB2yb"
      },
      "source": [
        "#Análisis de Correlación\n",
        "---"
      ]
    },
    {
      "cell_type": "markdown",
      "metadata": {
        "id": "zlnysPgGnKXf"
      },
      "source": [
        "Otro aspecto importante para entender nuestros datos es estudiar la correlación entre las variables. Si queremos, por ejemplo, observar la correlación entre logP y TPSA, podemos hacer este gráfico de dispersión con histogramas marginales usando \"`sns.jointplot`\"\n"
      ]
    },
    {
      "cell_type": "code",
      "metadata": {
        "id": "6P-sHZO8u-an"
      },
      "source": [
        "joint_plt = sns.jointplot(x='logP', y='TPSA', data=df, kind='reg')"
      ],
      "execution_count": null,
      "outputs": []
    },
    {
      "cell_type": "markdown",
      "source": [
        "\n",
        "Se observa una pendiente no muy pronunciada, se infiere que la relación no es exactamente lineal y se tenga una correlación baja."
      ],
      "metadata": {
        "id": "7soZgBI-gXj0"
      }
    },
    {
      "cell_type": "markdown",
      "metadata": {
        "id": "mPYCDngtCHYB"
      },
      "source": [
        "##Pair Plot"
      ]
    },
    {
      "cell_type": "markdown",
      "metadata": {
        "id": "RQsi7A_gp5c4"
      },
      "source": [
        "Otra forma de visualizar la correlación entre las variables\n",
        "es trazar una matriz de correlación con la función `pairplot` de Seaborn. Por ejemplo, acá trazamos la correlación de seis de las columnas del dataset: \"logP\", \"TPSA\", \"MW\", \"RotBonds\", \"HBD\" y \"HBA\".\n"
      ]
    },
    {
      "cell_type": "code",
      "metadata": {
        "id": "LM3gv4xHlcD1"
      },
      "source": [
        "sns.pairplot(df[[\"logP\", \"TPSA\", \"MW\", \"RotBonds\", \"HBD\", \"HBA\"]], corner=\"true\")\n",
        "#corner=True omite la representación de la mitad superior de la matriz"
      ],
      "execution_count": null,
      "outputs": []
    },
    {
      "cell_type": "markdown",
      "metadata": {
        "id": "hqn5Tqnq5fH5"
      },
      "source": [
        "##Coeficiente de Correlación de Pearson\n",
        " Podemos calcular la correlación entre dos variables con el coeficiente de correlación _Pearson_ y el _valor p_.\n",
        "\n",
        "El _coeficiente de correlación de Pearson_ (r) nos permite observar fácilmente las dependencias lineales entre dos conjuntos de datos.\n",
        "* Un valor de +1 significa correlación lineal positiva total,\n",
        "* 0 significa que no hay correlación lineal, y\n",
        "* -1, correlación lineal negativa total.\n",
        "\n",
        "Las correlaciones positivas implican que a medida que *x* aumenta, también lo hace *y*. Las correlaciones negativas implican que a medida que *x* aumenta, *y* disminuye.\n",
        "\n",
        "El _valor p_ indica aproximadamente la probabilidad de que los conjuntos de datos no correlacionados tengan un coeficiente de correlación _Pearson_ al menos tan extremo como el determinado para esos conjuntos de datos. Si esta probabilidad es inferior al 5% (P<0,05), significa que el coeficiente de correlación es estadísticamente significativo.\n",
        "\n",
        "**Hay que tener cuidado porque la correlación no implica causalidad. Cuando dos variables están correlacionadas, puede haber o no una conexión causal, y esta conexión puede ser además indirecta.**\n",
        "\n"
      ]
    },
    {
      "cell_type": "code",
      "metadata": {
        "id": "Nkw6LNd_vVOC"
      },
      "source": [
        "#Importar la  función PearsonR del módulo \"stats\" de la librería SciPy\n",
        "from scipy.stats import pearsonr\n",
        "#Definir una función para obtener la correlación entre dos variables\n",
        "def get_corr(col1, col2, temp_df):\n",
        "    pearson_corr, p_value = pearsonr(temp_df[col1], temp_df[col2])\n",
        "    print(\"La correlación entre {} y {} es {:.2f}\".format(col1, col2, pearson_corr))\n",
        "    print(\"El valor-P de esta correlación es {:.^e}\".format(p_value))\n",
        "#Usamos la función para obtener la correlación entre logP y TPSA\n",
        "get_corr('logP', 'TPSA', df)"
      ],
      "execution_count": null,
      "outputs": []
    },
    {
      "cell_type": "markdown",
      "source": [
        "Hay una correlación negativa entre logP y TPSA ( r = -0.21 ), siendo esta significativa al obtener un valor de p inferior al 5%.\n",
        "También significa que a medida que *x* aumenta, *y* disminuye. Sin embargo, la correlación no es alta al no acercarse a -1."
      ],
      "metadata": {
        "id": "QogGtteH2Q11"
      }
    },
    {
      "cell_type": "markdown",
      "metadata": {
        "id": "yLeSManpCCqN"
      },
      "source": [
        "##Mapa de calor (*heat map*)"
      ]
    },
    {
      "cell_type": "markdown",
      "metadata": {
        "id": "kw2jkn8-V_5O"
      },
      "source": [
        "Los  mapas de calor o *heat maps* son representaciones gráficas que nos permiten observar la correlación entre variables (descriptores) evitando así ruido e información redundante.\n",
        "\n",
        "\n",
        "Podemos crear un DataFrame con el coeficiente de correlación de Pearson para cada par de columnas (usando la función `df.corr()`) y luego, usar `Matplotlib` y `Seaborn` para crear un _heatmap_ de los coeficientes.\n"
      ]
    },
    {
      "cell_type": "code",
      "metadata": {
        "id": "KjxaFVDTn9KA"
      },
      "source": [
        "# Calculamos la correlación con el coeficiente de Pearson usando Pandas:\n",
        "correlation = df_oral_descriptors.corr(method='pearson')\n",
        "# Creamos una nueva figura con Matplotlib y definimos el tamaño:\n",
        "fig=plt.gcf()\n",
        "fig.set_size_inches(9,9)\n",
        "# Heatmap de correlación usando Seaborn:\n",
        "sns.heatmap(correlation, annot=False,square=True)"
      ],
      "execution_count": null,
      "outputs": []
    },
    {
      "cell_type": "markdown",
      "metadata": {
        "id": "HTJ7k0tXQDZ9"
      },
      "source": [
        " Cuando se comparan varias variables al mismo tiempo es difícil comprender cómo se comportan los datos. Así que podríamos añadir al *heatmap* los coeficientes de cada comparación y trazar sólo la matriz de correlación triangular inferior (ya que es un gráfico simétrico, y la información del triángulo superior es redundante).\n"
      ]
    },
    {
      "cell_type": "code",
      "metadata": {
        "id": "zOvo07nZq2EF"
      },
      "source": [
        "#Calcular correlación\n",
        "correlation = df_oral_descriptors.corr()\n",
        "# np.triu es una función de Numpy que proporciona el triángulo superior de una matriz cuadrada\n",
        "upper_triangle = np.triu(correlation)\n",
        "fig=plt.gcf()\n",
        "fig.set_size_inches(10,10)\n",
        "sns.heatmap(data=correlation,mask=upper_triangle,square=True,annot=True)"
      ],
      "execution_count": null,
      "outputs": []
    },
    {
      "cell_type": "markdown",
      "source": [
        "#Análisis de núcleos base o *scaffolds*"
      ],
      "metadata": {
        "id": "dl9DBXobiEYa"
      }
    },
    {
      "cell_type": "markdown",
      "source": [
        "En esta sección visualizaremos los *scaffolds* o *frameworks* de las moléculas presentes en la base de datos y calcularemos su frecuencia. Utilizaremos la definición de [Bemis y Murcko](https://pubs.acs.org/doi/10.1021/jm9602928), la cual remueve las cadenas laterales de la estructura original manteniendo los anillos y los *linkers*:"
      ],
      "metadata": {
        "id": "DyuqXRA3zuS2"
      }
    },
    {
      "cell_type": "markdown",
      "source": [
        "![image.png](data:image/png;base64,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)"
      ],
      "metadata": {
        "id": "78OAq1gn487o"
      }
    },
    {
      "cell_type": "markdown",
      "source": [
        "Nueva columna con los *scaffolds* de Bemis/Murcko:"
      ],
      "metadata": {
        "id": "mLPmSk6_RfKb"
      }
    },
    {
      "cell_type": "code",
      "source": [
        "#Añadir nueva columna y visualizar SMILES\n",
        "PandasTools.AddMurckoToFrame(df, \"ROMol\")\n",
        "df[['canonical_smiles', 'Murcko_SMILES']]"
      ],
      "metadata": {
        "id": "T_xGqy1hRZYF"
      },
      "execution_count": null,
      "outputs": []
    },
    {
      "cell_type": "code",
      "source": [
        "#Añadir una columna con los scaffolds en tipo Mol\n",
        "PandasTools.AddMoleculeColumnToFrame(df, smilesCol=\"Murcko_SMILES\", molCol='scaffold')\n",
        "df.head(1)"
      ],
      "metadata": {
        "id": "z4uaYebC10xG"
      },
      "execution_count": null,
      "outputs": []
    },
    {
      "cell_type": "code",
      "source": [
        "#Hacer una copia del dataframe con el que estamos trabajando\n",
        "df_b= df.copy()\n",
        "#Eliminar columnas tipo Mol\n",
        "df_b.drop(\"ROMol\", axis=1, inplace=True)\n",
        "df_b.drop(\"scaffold\", axis=1, inplace=True)\n",
        "#Conservar columnas seleccionadas\n",
        "df_b = df_b[['canonical_smiles','Murcko_SMILES', 'MW','HBD','HBA','TPSA','RotBonds',\n",
        "             'logP', 'CSP3','HetAtoms', 'NumRings', 'Via_admon']]"
      ],
      "metadata": {
        "id": "FaeqcrUW3KrV"
      },
      "execution_count": null,
      "outputs": []
    },
    {
      "cell_type": "code",
      "source": [
        "#Visualizar copia del dataframe\n",
        "print(f\"DataFrame shape: {df_b.shape}\")\n",
        "df_b.head(2)"
      ],
      "metadata": {
        "id": "sqjoEJKz3ZX9"
      },
      "execution_count": null,
      "outputs": []
    },
    {
      "cell_type": "code",
      "source": [
        "#Agrupar datos por scaffold y contarlos\n",
        "amount = df_b.groupby(['Murcko_SMILES']).size()\n",
        "print(f\"Dataset with {amount.shape[0]} different entries:\",amount.sort_values(ascending=False))\n",
        "#Nuevo dataframe con SMILES de scaffolds y su conteo, ordenados de mayor a menor\n",
        "df_sca_all = pd.DataFrame (amount, columns = ['Amount'] )\n",
        "df_sca_all=df_sca_all.sort_values(by='Amount', ascending= False)\n",
        "df_sca_all=df_sca_all.reset_index(level=None, drop=False)\n",
        "print ('All:', df_sca_all.shape, df_sca_all.columns)\n",
        "df_sca_all"
      ],
      "metadata": {
        "id": "dGw8fKen5Kfg"
      },
      "execution_count": null,
      "outputs": []
    },
    {
      "cell_type": "code",
      "source": [
        "#El dataframe cuenta con moléculas sin scaffold (moléculas lineales con fila vacía), anotamos en la línea la leyenda \"Linear molecule\":\n",
        "df_sca_all.at[1, 'Murcko_SMILES']='Linear molecule'"
      ],
      "metadata": {
        "id": "1CJn2GObXu7e"
      },
      "execution_count": null,
      "outputs": []
    },
    {
      "cell_type": "code",
      "source": [
        "#Añadir columna de frecuencia, considerar el número total de registros para el cálculo.\n",
        "df_sca_all.reset_index(drop=True, inplace=True)\n",
        "df_sca_all[\"Frecuency\"] = (df_sca_all['Amount'] / 1677)*100\n",
        "print(f\"Total Frecuency in Database: {sum(df_sca_all['Frecuency'])}, different entries:{sum(df_sca_all['Amount'])}, different Murcko Smiles:\",\n",
        "      len(df_sca_all['Murcko_SMILES']) )\n",
        "df_sca_all = df_sca_all[['Murcko_SMILES', 'Amount', 'Frecuency']]\n",
        "df_sca_all"
      ],
      "metadata": {
        "id": "xtILQsyT5zr-"
      },
      "execution_count": null,
      "outputs": []
    },
    {
      "cell_type": "code",
      "source": [
        "#Añadir columna tipo Mol al dataframe con frecuencias de scaffolds\n",
        "PandasTools.AddMoleculeColumnToFrame(df_sca_all, smilesCol='Murcko_SMILES')\n",
        "df_sca_all[0:1]"
      ],
      "metadata": {
        "id": "Kr5TYUM96V25"
      },
      "execution_count": null,
      "outputs": []
    },
    {
      "cell_type": "code",
      "source": [
        "#Visualizar scaffolds con su conteo\n",
        "PandasTools.FrameToGridImage(df_sca_all[0:10], column='ROMol', legendsCol='Amount', molsPerRow=5)"
      ],
      "metadata": {
        "id": "dTG7Ghxc65dC"
      },
      "execution_count": null,
      "outputs": []
    },
    {
      "cell_type": "markdown",
      "source": [
        "#Concatenar bases de datos"
      ],
      "metadata": {
        "id": "XBdjyn95Ia_-"
      }
    },
    {
      "cell_type": "markdown",
      "source": [
        "Abriremos un [archivo .csv](https://github.com/DIFACQUIM/Cursos/blob/main/Datasets/DNMT1_curada.csv) que será un nuevo *dataframe* llamado \"DNMT1\". Este archivo contiene datos de compuestos con concentración inhibitoria 50 (IC50) reportada en ChEMBL:"
      ],
      "metadata": {
        "id": "o244W0XrJgUU"
      }
    },
    {
      "cell_type": "code",
      "source": [
        "#Cargar el archivo:\n",
        "DNMT1=pd.read_csv(\"https://github.com/DIFACQUIM/Cursos/raw/refs/heads/main/Datasets/DNMT1_curada.csv\", delimiter=',')\n",
        "#Obtener información sobre el número de filas y columnas de la base de datos\n",
        "print(f\"DataFrame shape: {DNMT1.shape}.\")\n",
        "DNMT1.head(1)"
      ],
      "metadata": {
        "id": "QnLBz28xFSqu"
      },
      "execution_count": null,
      "outputs": []
    },
    {
      "cell_type": "markdown",
      "source": [
        "Imprimir columnas y unificar nombres:\n",
        "\n"
      ],
      "metadata": {
        "id": "V_GwgWrqPsE7"
      }
    },
    {
      "cell_type": "code",
      "source": [
        "#Ver columnas\n",
        "print(df.columns)\n",
        "print(DNMT1.columns)"
      ],
      "metadata": {
        "id": "quK6IndfLZ3m"
      },
      "execution_count": null,
      "outputs": []
    },
    {
      "cell_type": "code",
      "source": [
        "#Nueva columna para especificar base de datos\n",
        "df['DATASET'] = 'CHEMBL'"
      ],
      "metadata": {
        "id": "4pYFIHvJPqAj"
      },
      "execution_count": null,
      "outputs": []
    },
    {
      "cell_type": "code",
      "source": [
        "# Seleccionar columnas\n",
        "df = df[['molecule_chembl_id', 'NEW_SMILES', 'DATASET']]\n",
        "DNMT1 = DNMT1[['ID', 'SMILES', 'Data set']]\n",
        "\n",
        "# Cambiar nombre a columnas\n",
        "df.columns = [\"ID\", \"SMILES\", \"DATABASE_NAME\"]\n",
        "DNMT1.columns = [\"ID\", \"SMILES\", \"DATABASE_NAME\"]\n",
        "\n",
        "# Unir (concatenar) bases de datos\n",
        "DATA = pd.concat([df, DNMT1], axis=0).reset_index(drop=True)\n",
        "DATA.head()"
      ],
      "metadata": {
        "id": "e4kLksdNVXOV"
      },
      "execution_count": null,
      "outputs": []
    },
    {
      "cell_type": "markdown",
      "source": [
        "## *Quantitative Estimate of Drug-Likeness*"
      ],
      "metadata": {
        "id": "D1E7aDqYcRK1"
      }
    },
    {
      "cell_type": "markdown",
      "source": [
        "El QED es una medida para estimar las cualidades tipo fármaco de un compuesto. Está basado en ocho propiedades con relevancia farmacéutica: masa molar, coeficiente de partición, aceptores y donadores de puente de hidrógeno, área polar superficial, enlaces rotables, anillos aromáticos, y el número de alertas por grupos funcionales. El punto de corte que suele usarse es QED > 0.67. <br>\n",
        "Referencia: https://doi.org/10.1038/nchem.1243"
      ],
      "metadata": {
        "id": "wX0JO8w6BDtp"
      }
    },
    {
      "cell_type": "code",
      "source": [
        "#Añadimos la columna tipo Mol a la base de datos completa\n",
        "PandasTools.AddMoleculeColumnToFrame(DATA,'SMILES','Molecule',includeFingerprints=True)\n",
        "print([str(x) for x in  DATA.columns])"
      ],
      "metadata": {
        "id": "LDJPrrrUZpMl"
      },
      "execution_count": null,
      "outputs": []
    },
    {
      "cell_type": "code",
      "source": [
        "#Visualizamos las primeras líneas del nuevo DataFrame\n",
        "DATA.head(3)"
      ],
      "metadata": {
        "id": "l_3ndeTXZ1Y0"
      },
      "execution_count": null,
      "outputs": []
    },
    {
      "cell_type": "code",
      "source": [
        "#Calculamos el QED\n",
        "QEDlist = []\n",
        "\n",
        "for mol in DATA['Molecule']:\n",
        "    if mol is not None and isinstance(mol, Chem.Mol):\n",
        "        qed_value = Chem.QED.qed(mol)\n",
        "    else:\n",
        "        qed_value = None\n",
        "    QEDlist.append(qed_value)\n",
        "\n",
        "\n",
        "DATA['QED']=QEDlist\n",
        "DATA.head(3)"
      ],
      "metadata": {
        "id": "APayv7ltaYF6"
      },
      "execution_count": null,
      "outputs": []
    },
    {
      "cell_type": "code",
      "source": [
        "#Graficar boxplot\n",
        "ax = sns.boxplot(x=\"DATABASE_NAME\", y=\"QED\", data=DATA, palette=\"BuPu\")\n",
        "#Título de ejes\n",
        "plt.xlabel('Base de datos', size=14)\n",
        "plt.ylabel('QED', size=14)"
      ],
      "metadata": {
        "id": "52Zi-v6_h808"
      },
      "execution_count": null,
      "outputs": []
    },
    {
      "cell_type": "markdown",
      "source": [
        "## *Synthetic Accessibility Score*"
      ],
      "metadata": {
        "id": "WdfXqDyCcoL7"
      }
    },
    {
      "cell_type": "markdown",
      "source": [
        "El SAscore asigna un número entre 1 (fácil de obtener) y 10 (muy difícil de obtener) a un compuesto para estimar su accesibilidad sintética. Está basado en una combinación de contribuciones de fragmentos y una penalización por complejidad. El punto de corte suele establecerse en SAscore menor o igual a 6. <br>\n",
        "Referencia: https://doi.org/10.1186/1758-2946-1-8"
      ],
      "metadata": {
        "id": "13bbIx-XBG9x"
      }
    },
    {
      "cell_type": "code",
      "source": [
        "#Importar módulos necesarios:\n",
        "import os\n",
        "from rdkit.Chem import RDConfig\n",
        "import sys\n",
        "sys.path.append(os.path.join(RDConfig.RDContribDir, 'SA_Score'))\n",
        "import sascorer"
      ],
      "metadata": {
        "id": "Z-U0eLk_anQT"
      },
      "execution_count": null,
      "outputs": []
    },
    {
      "cell_type": "code",
      "source": [
        "#Calcular SAscore\n",
        "SAlist = []\n",
        "\n",
        "for mol in DATA['Molecule']:\n",
        "    if mol is not None and isinstance(mol, Chem.Mol):\n",
        "        SA = sascorer.calculateScore(mol)\n",
        "    else:\n",
        "        SA = None\n",
        "    SAlist.append(SA)\n",
        "\n",
        "DATA['SA']=SAlist\n",
        "DATA.head(3)"
      ],
      "metadata": {
        "id": "mhUmkzSsbg0t"
      },
      "execution_count": null,
      "outputs": []
    },
    {
      "cell_type": "code",
      "source": [
        "#Graficar boxplot\n",
        "ax = sns.boxplot(x=\"DATABASE_NAME\", y=\"SA\", data=DATA, palette=\"Blues\")\n",
        "#Título de ejes\n",
        "plt.xlabel('Base de datos', size=14)\n",
        "plt.ylabel('SAscore', size=14)"
      ],
      "metadata": {
        "id": "K8IdJTDUjxvx"
      },
      "execution_count": null,
      "outputs": []
    },
    {
      "cell_type": "code",
      "source": [
        "#Eliminar molecula tipo Mol y guardar el archivo en formato .csv\n",
        "DATA.drop(\"Molecule\", axis=1, inplace=True)\n",
        "DATA.to_csv(\"DATA.csv\", index=False)"
      ],
      "metadata": {
        "id": "BOUEpfUIka9F"
      },
      "execution_count": null,
      "outputs": []
    },
    {
      "cell_type": "markdown",
      "source": [
        "#Para saber maś:"
      ],
      "metadata": {
        "id": "Bt61ne386waM"
      }
    },
    {
      "cell_type": "markdown",
      "source": [
        "[*Practical chemoinformatics*](http://practicalcheminformatics.blogspot.com/)\n",
        "\n",
        "[*Practical chemoinformatics - EDA*](http://practicalcheminformatics.blogspot.com/2021/10/exploratory-data-analysis-with.html)\n",
        "\n",
        "[*Visualization of chemical datasets and EDA*](https://insilico-notebook.com/en/chemdata-eda/)\n",
        "\n",
        "[*Python guides*](https://www.statology.org/python-guides/)\n",
        "\n",
        "[Representaciones gráficas en python](http://research.iac.es/sieinvens/python-course/matplotlib.html)\n",
        "\n",
        "[*Violinplots*](https://datagy.io/seaborn-violinplot/)\n",
        "\n",
        "\n",
        "\n",
        "[*Progress on open chemoinformatic tools for expanding and exploring the chemical space*](https://link.springer.com/article/10.1007/s10822-021-00399-1)"
      ],
      "metadata": {
        "id": "OBxILQvdViha"
      }
    },
    {
      "cell_type": "markdown",
      "source": [
        "[Bases de datos desde python](https://www.tutorialesprogramacionya.com/pythonya/detalleconcepto.php?punto=81&codigo=81&inicio=75) <br>\n",
        "[Relaciones cuantitativas estructura-propiedad (*QSPR*)](https://chem.libretexts.org/Courses/Intercollegiate_Courses/Cheminformatics/05%3A_5._Quantitative_Structure_Property_Relationships/5.05%3A_Python_Assignment)"
      ],
      "metadata": {
        "id": "eIQ-GeXWxuH4"
      }
    }
  ]
}