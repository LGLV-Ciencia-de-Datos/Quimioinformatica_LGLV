{
  "cells": [
    {
      "cell_type": "markdown",
      "id": "c11acc27",
      "metadata": {
        "pycharm": {
          "name": "#%% md\n"
        },
        "id": "c11acc27"
      },
      "source": [
        "### Build a QSAR model in 8 lines of Python\n",
        "When I encounter a new dataset.  I often want to construct a simple model to get a quick idea of how easy or hard it will be to model the data.  Over the years, I've put together several scripts to do this.  Recently, I've come across a few Python packages that make this whole task a lot easier.  One thing I like about the workflow below is that it's flexible.  I can change the input format, the descriptors, or the machine learning model by changing one line of code.  This script doesn't take the place of rigorous validation but it provides a quick place to start.  "
      ]
    },
    {
      "cell_type": "code",
      "id": "5883a44e",
      "metadata": {
        "pycharm": {
          "name": "#%%\n"
        },
        "ExecuteTime": {
          "end_time": "2025-05-05T22:12:08.002972Z",
          "start_time": "2025-05-05T22:12:08.001236Z"
        },
        "id": "5883a44e"
      },
      "source": [
        "import sys\n",
        "IN_COLAB = 'google.colab' in sys.modules\n",
        "if IN_COLAB:\n",
        "    !pip install rdkit pandas datamol molfeat numpy scikit-learn yellowbrick"
      ],
      "outputs": [],
      "execution_count": null
    },
    {
      "cell_type": "code",
      "execution_count": null,
      "id": "ad300921",
      "metadata": {
        "pycharm": {
          "name": "#%%\n"
        },
        "id": "ad300921"
      },
      "outputs": [],
      "source": [
        "import pandas as pd\n",
        "import datamol as dm\n",
        "from molfeat.calc import FPCalculator\n",
        "from molfeat.trans import MoleculeTransformer\n",
        "import numpy as np\n",
        "from sklearn.model_selection import train_test_split\n",
        "from sklearn.ensemble import HistGradientBoostingRegressor\n",
        "from yellowbrick.regressor import prediction_error, residuals_plot"
      ]
    },
    {
      "cell_type": "markdown",
      "id": "41037477",
      "metadata": {
        "pycharm": {
          "name": "#%% md\n"
        },
        "id": "41037477"
      },
      "source": [
        "**1.** Read the data into a [Pandas](https://pandas.pydata.org/) dataframe"
      ]
    },
    {
      "cell_type": "code",
      "execution_count": null,
      "id": "e33f7474",
      "metadata": {
        "pycharm": {
          "name": "#%%\n"
        },
        "id": "e33f7474"
      },
      "outputs": [],
      "source": [
        "filename = \"https://raw.githubusercontent.com/PatWalters/yamc/main/data/Carbonic.smi\"\n",
        "df = pd.read_csv(filename,sep=\" \",names=[\"SMILES\",\"Name\",\"pIC50\"])"
      ]
    },
    {
      "cell_type": "markdown",
      "id": "8488ccfb",
      "metadata": {
        "pycharm": {
          "name": "#%% md\n"
        },
        "id": "8488ccfb"
      },
      "source": [
        "**2.** Instantiate a Fingerprint calculator from the awesome [molfeat](https://m2d2.io/blog/posts/introducing-molfeat-a-hub-of-molecular-featurizers/) package. This package has several descriptor types available.\n",
        "```python\n",
        ">>> from molfeat.calc import FP_FUNCS\n",
        ">>> FP_FUNCS.keys()\n",
        "dict_keys(['maccs', 'avalon', 'ecfp', 'fcfp', 'topological', 'atompair', 'rdkit', 'pattern', 'layered', 'map4', 'secfp', 'erg', 'estate', 'avalon-count', 'rdkit-count', 'ecfp-count', 'fcfp-count', 'topological-count', 'atompair-count'])\n",
        "```"
      ]
    },
    {
      "cell_type": "code",
      "execution_count": null,
      "id": "6ff42711",
      "metadata": {
        "pycharm": {
          "name": "#%%\n"
        },
        "id": "6ff42711"
      },
      "outputs": [],
      "source": [
        "calc = FPCalculator(\"ecfp\")"
      ]
    },
    {
      "cell_type": "markdown",
      "id": "98a1b30f",
      "metadata": {
        "pycharm": {
          "name": "#%% md\n"
        },
        "id": "98a1b30f"
      },
      "source": [
        "**3.** Instantiate a molecule transfomer from molfeat.  This object takes a list of SMILES as input and returns descriptors.  It's very flexible and can run in parallel.  [Check it out!](https://molfeat-docs.datamol.io/stable/tutorials/types_of_featurizers.html)"
      ]
    },
    {
      "cell_type": "code",
      "execution_count": null,
      "id": "4e9bd7ae",
      "metadata": {
        "pycharm": {
          "name": "#%%\n"
        },
        "id": "4e9bd7ae"
      },
      "outputs": [],
      "source": [
        "trans = MoleculeTransformer(calc)"
      ]
    },
    {
      "cell_type": "markdown",
      "id": "6bda1548",
      "metadata": {
        "pycharm": {
          "name": "#%% md\n"
        },
        "id": "6bda1548"
      },
      "source": [
        "**4-5.** Calculate the fingerprints.  Note the use of the function from [datamol](https://datamol.io) that silences logging messages from the RDKit.  This is more polite version of my rd_shut_the_hell_up function in [useful_rdkit_utils](https://github.com/PatWalters/useful_rdkit_utils)."
      ]
    },
    {
      "cell_type": "code",
      "execution_count": null,
      "id": "f8cedeaa",
      "metadata": {
        "pycharm": {
          "name": "#%%\n"
        },
        "id": "f8cedeaa"
      },
      "outputs": [],
      "source": [
        "%%time\n",
        "with dm.without_rdkit_log():\n",
        "    df['fp'] = trans.transform(df.SMILES.values)"
      ]
    },
    {
      "cell_type": "markdown",
      "id": "ec6f5322",
      "metadata": {
        "pycharm": {
          "name": "#%% md\n"
        },
        "id": "ec6f5322"
      },
      "source": [
        "**6.** Split the data into training and test sets.  I like to do this with dataframes.  That way I don't have to remember the order in which train_X, test_X, train_y, and test_y are returned by [train_test_split](https://scikit-learn.org/stable/modules/generated/sklearn.model_selection.train_test_split.html)"
      ]
    },
    {
      "cell_type": "code",
      "execution_count": null,
      "id": "37a488a6",
      "metadata": {
        "pycharm": {
          "name": "#%%\n"
        },
        "id": "37a488a6"
      },
      "outputs": [],
      "source": [
        "train, test = train_test_split(df)"
      ]
    },
    {
      "cell_type": "markdown",
      "id": "d0ff42cd",
      "metadata": {
        "pycharm": {
          "name": "#%% md\n"
        },
        "id": "d0ff42cd"
      },
      "source": [
        "**7.** Instantiate an sklearn style regressor.  In this case I used [HistGradientBoostingRegressor](https://scikit-learn.org/stable/modules/generated/sklearn.ensemble.HistGradientBoostingRegressor.html), which is the scikit-learn implementation of [LightGBM](https://lightgbm.readthedocs.io/en/latest/Python-Intro.html).  You can easily plug in any scikit-learn compatible regressor like [RandomForest](https://scikit-learn.org/stable/modules/generated/sklearn.ensemble.RandomForestRegressor.html) or [XGBoost](https://xgboost.readthedocs.io/en/stable/python/python_intro.html).\n",
        "```python\n",
        "from lightgbm import LGBMRegressor\n",
        "model = LGBMRegressor()\n",
        "from sklearn.ensemble import RandomForestRegressor\n",
        "model = RandomForestRegressor()\n",
        "from xgboost import XGBRegressor\n",
        "model = XGBRegressor()\n",
        "```"
      ]
    },
    {
      "cell_type": "code",
      "execution_count": null,
      "id": "21d70cae",
      "metadata": {
        "pycharm": {
          "name": "#%%\n"
        },
        "id": "21d70cae"
      },
      "outputs": [],
      "source": [
        "model = HistGradientBoostingRegressor()"
      ]
    },
    {
      "cell_type": "markdown",
      "id": "042568ca",
      "metadata": {
        "pycharm": {
          "name": "#%% md\n"
        },
        "id": "042568ca"
      },
      "source": [
        "**8.** Use [YellowBrick](https://www.scikit-yb.org/en/latest/) to build a model and visualize its performance. The **Loss** reported in the plot below is the [$R^2$](https://scikit-learn.org/stable/modules/generated/sklearn.metrics.r2_score.html) for the model."
      ]
    },
    {
      "cell_type": "code",
      "execution_count": null,
      "id": "04b4caa7",
      "metadata": {
        "pycharm": {
          "name": "#%%\n"
        },
        "id": "04b4caa7"
      },
      "outputs": [],
      "source": [
        "%%time\n",
        "visualizer = prediction_error(model,np.stack(train.fp),train.pIC50,np.stack(test.fp),test.pIC50)"
      ]
    },
    {
      "cell_type": "markdown",
      "id": "a8248e84",
      "metadata": {
        "pycharm": {
          "name": "#%% md\n"
        },
        "id": "a8248e84"
      },
      "source": [
        "**8.** Use [YellowBrick](https://www.scikit-yb.org/en/latest/) to build a model and visualize its performance. The **Loss** reported in the plot below is the [$R^2$](https://scikit-learn.org/stable/modules/generated/sklearn.metrics.r2_score.html) for the model."
      ]
    },
    {
      "cell_type": "code",
      "execution_count": null,
      "id": "c082ffd0",
      "metadata": {
        "pycharm": {
          "name": "#%%\n"
        },
        "id": "c082ffd0"
      },
      "outputs": [],
      "source": [
        "%%time\n",
        "visualizer = prediction_error(model,np.stack(train.fp),train.pIC50,np.stack(test.fp),test.pIC50)"
      ]
    },
    {
      "cell_type": "markdown",
      "id": "ec329324",
      "metadata": {
        "pycharm": {
          "name": "#%% md\n"
        },
        "id": "ec329324"
      },
      "source": [
        "### Bonus\n",
        "Plot the residuals for the training and test sets"
      ]
    },
    {
      "cell_type": "code",
      "execution_count": null,
      "id": "e5853f4b",
      "metadata": {
        "pycharm": {
          "name": "#%%\n"
        },
        "id": "e5853f4b"
      },
      "outputs": [],
      "source": [
        "viz = residuals_plot(model,np.stack(train.fp), train.pIC50, np.stack(test.fp), test.pIC50, is_fitted=True)"
      ]
    },
    {
      "cell_type": "code",
      "execution_count": null,
      "id": "f98624bd",
      "metadata": {
        "pycharm": {
          "name": "#%%\n"
        },
        "id": "f98624bd"
      },
      "outputs": [],
      "source": []
    }
  ],
  "metadata": {
    "kernelspec": {
      "display_name": "Python 3 (ipykernel)",
      "language": "python",
      "name": "python3"
    },
    "language_info": {
      "codemirror_mode": {
        "name": "ipython",
        "version": 3
      },
      "file_extension": ".py",
      "mimetype": "text/x-python",
      "name": "python",
      "nbconvert_exporter": "python",
      "pygments_lexer": "ipython3",
      "version": "3.11.3"
    },
    "colab": {
      "provenance": []
    }
  },
  "nbformat": 4,
  "nbformat_minor": 5
}