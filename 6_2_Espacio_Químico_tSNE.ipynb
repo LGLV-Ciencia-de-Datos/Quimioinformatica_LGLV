{
  "nbformat": 4,
  "nbformat_minor": 0,
  "metadata": {
    "colab": {
      "provenance": [],
      "include_colab_link": true
    },
    "kernelspec": {
      "name": "python3",
      "display_name": "Python 3"
    },
    "language_info": {
      "name": "python"
    },
    "gpuClass": "standard"
  },
  "cells": [
    {
      "cell_type": "markdown",
      "metadata": {
        "id": "view-in-github",
        "colab_type": "text"
      },
      "source": [
        "<a href=\"https://colab.research.google.com/github/LGLV/APS-Failure-at-Scania-Trucks-Data-Set/blob/main/6_2_Espacio_Qu%C3%ADmico_tSNE.ipynb\" target=\"_parent\"><img src=\"https://colab.research.google.com/assets/colab-badge.svg\" alt=\"Open In Colab\"/></a>"
      ]
    },
    {
      "cell_type": "markdown",
      "source": [
        "# Incrustación de vecinos estocásticos distribuidos en t (t-SNE)\n",
        "\n",
        "---\n",
        "Realizó: Ana Chávez, Fernanda Saldívar, Armando Rufino y Hector Ortíz\n",
        "\n",
        "Contacto: anachavez3026@gmail.com, fer.saldivarg@gmail.com"
      ],
      "metadata": {
        "id": "o3cP9t0hVqTg"
      }
    },
    {
      "cell_type": "code",
      "source": [
        "from IPython.utils import io\n",
        "import tqdm.notebook\n",
        "import os, sys, random\n",
        "total = 100\n",
        "with tqdm.notebook.tqdm(total=total) as pbar:\n",
        "    with io.capture_output() as captured:\n",
        "      # Instalar rdkit\n",
        "      !pip -q install rdkit.pypi==2021.9.4\n",
        "      pbar.update(25)\n",
        "      # Instalar molplotly\n",
        "      !pip install molplotly\n",
        "      pbar.update(50)\n",
        "      # Instalar jupyter-dash\n",
        "      !pip install jupyter-dash\n",
        "      pbar.update(75)\n",
        "      # Instalar el diseño de aplicación dash\n",
        "      !pip install dash-bootstrap-components\n",
        "      pbar.update(100)"
      ],
      "metadata": {
        "id": "42InOXmwva3o"
      },
      "execution_count": null,
      "outputs": []
    },
    {
      "cell_type": "code",
      "source": [
        "# Importar blibliotecas\n",
        "import numpy as np\n",
        "import pandas as pd\n",
        "from rdkit import Chem\n",
        "from rdkit.Chem import MACCSkeys, AllChem\n",
        "from scipy.spatial.distance import pdist"
      ],
      "metadata": {
        "id": "o7vixJPuOCa7"
      },
      "execution_count": null,
      "outputs": []
    },
    {
      "cell_type": "code",
      "source": [
        "# Leer bases de datos\n",
        "\n",
        "#BIOFACQUIM\n",
        "url_biofacquim = \"https://raw.githubusercontent.com/DIFACQUIM/Cursos/main/Datasets/BIOFACQUIM.V2_curada.csv\"\n",
        "BIOFACQUIM = pd.read_csv(url_biofacquim)\n",
        "\n",
        "#FDA\n",
        "url_fda = \"https://raw.githubusercontent.com/DIFACQUIM/Cursos/main/Datasets/FDA_2022_july_05_curada.csv\"\n",
        "FDA = pd.read_csv(url_fda)\n",
        "\n",
        "#DNMT1\n",
        "url_dnmt1 = \"https://raw.githubusercontent.com/DIFACQUIM/Cursos/main/Datasets/DNMT1_curada.csv\"\n",
        "DNMT1 = pd.read_csv(url_dnmt1)\n",
        "DNMT1.head(2)"
      ],
      "metadata": {
        "id": "93jdGdkrQovY"
      },
      "execution_count": null,
      "outputs": []
    },
    {
      "cell_type": "code",
      "source": [
        "# Ver columnas\n",
        "print(FDA.columns)\n",
        "print(BIOFACQUIM.columns)\n",
        "print(DNMT1.columns)"
      ],
      "metadata": {
        "id": "8PU5v5QhQz-G"
      },
      "execution_count": null,
      "outputs": []
    },
    {
      "cell_type": "code",
      "source": [
        "# Seleccionar columnas\n",
        "FDA = FDA[['ID', 'NEW_SMILES', \"Data set\"]]\n",
        "BIOFACQUIM = BIOFACQUIM[['ID', 'SMILES', \"Data set\"]]\n",
        "DNMT1 = DNMT1[['ID', 'SMILES', \"Data set\"]]\n",
        "# Cambiar nombre a columnas\n",
        "FDA.columns = [\"ID\", \"SMILES\", \"Data set\"]\n",
        "BIOFACQUIM.columns = ['ID',  'SMILES', \"Data set\"]\n",
        "DNMT1.columns = [\"ID\", \"SMILES\", \"Data set\"]\n",
        "FDA.head(2)"
      ],
      "metadata": {
        "id": "YnFFGlpcQ3QN"
      },
      "execution_count": null,
      "outputs": []
    },
    {
      "cell_type": "code",
      "source": [
        "# Unir (concatenar) bases de datos\n",
        "data = pd.concat([FDA, BIOFACQUIM, DNMT1], axis=0).reset_index(drop=True)"
      ],
      "metadata": {
        "id": "mvmz7VTIQ79o"
      },
      "execution_count": null,
      "outputs": []
    },
    {
      "cell_type": "code",
      "source": [
        "# Generar descriptores\n",
        "# Importar bibliotecas\n",
        "from rdkit import Chem\n",
        "from rdkit.Chem import Descriptors\n",
        "from rdkit.Chem import rdMolDescriptors\n",
        "\n",
        "#Calcular descriptores moleculares\n",
        "data[\"HBA\"] = [Descriptors.NumHAcceptors(y) for y in (Chem.MolFromSmiles(x) for x in data[\"SMILES\"])]\n",
        "data[\"HBD\"] = [Descriptors.NumHDonors(y) for y in (Chem.MolFromSmiles(x) for x in data[\"SMILES\"])]\n",
        "data[\"RB\"] = [Descriptors.NumRotatableBonds(y) for y in (Chem.MolFromSmiles(x) for x in data[\"SMILES\"])]\n",
        "data[\"LogP\"] = [Descriptors.MolLogP(y) for y in (Chem.MolFromSmiles(x) for x in data[\"SMILES\"])]\n",
        "data[\"TPSA\"] = [Descriptors.TPSA(y) for y in (Chem.MolFromSmiles(x) for x in data[\"SMILES\"])]\n",
        "data[\"MW\"] = [Descriptors.MolWt(y) for y in (Chem.MolFromSmiles(x) for x in data[\"SMILES\"])]\n",
        "data.head(2)"
      ],
      "metadata": {
        "id": "5SHPzC35RI9b"
      },
      "execution_count": null,
      "outputs": []
    },
    {
      "cell_type": "code",
      "source": [
        "# Entrenar modelo t-SNE\n",
        "from sklearn.manifold import TSNE\n",
        "from sklearn.preprocessing import StandardScaler\n",
        "data_tsne = data.copy()\n",
        "data_tsne = data_tsne.drop(labels = [\"Data set\", \"ID\",\"SMILES\"],axis = 1)\n",
        "data_tsne = StandardScaler().fit_transform(data_tsne)\n",
        "tsne = TSNE(n_components=2, verbose=1, perplexity=40, n_iter=300)\n",
        "tsne_results = tsne.fit_transform(data_tsne)\n",
        "tsne_results"
      ],
      "metadata": {
        "id": "wpjiKLNc4m9E"
      },
      "execution_count": null,
      "outputs": []
    },
    {
      "cell_type": "code",
      "source": [
        "# Seleccionar impormación complementaria\n",
        "label = data[[\"Data set\", \"ID\", \"SMILES\"]]\n",
        "label = label.to_numpy()\n",
        "label.shape"
      ],
      "metadata": {
        "id": "yh0w-Y2ekIT9"
      },
      "execution_count": null,
      "outputs": []
    },
    {
      "cell_type": "code",
      "source": [
        "# Concatenar arrays de numpy\n",
        "arr = np.concatenate((label, tsne_results), axis = 1)\n",
        "arr.shape"
      ],
      "metadata": {
        "id": "cImZWajKkeU0"
      },
      "execution_count": null,
      "outputs": []
    },
    {
      "cell_type": "code",
      "source": [
        "# Crear un nuevo dataframe\n",
        "tsne_dataset = pd.DataFrame(data=arr, columns = ['Data set',\"ID\", \"SMILES\",'axis 1', 'axis 2'] )\n",
        "tsne_dataset.head(2)"
      ],
      "metadata": {
        "id": "30A-aoIzjCRg"
      },
      "execution_count": null,
      "outputs": []
    },
    {
      "cell_type": "code",
      "source": [
        "# Graficar\n",
        "import plotly.express as px\n",
        "import molplotly\n",
        "fig_tsne = px.scatter(tsne_dataset,\n",
        "                            x='axis 1',\n",
        "                            y='axis 2',\n",
        "                            #symbol='Minimum Degree',\n",
        "                            color='Data set',\n",
        "                            color_discrete_sequence=[\"indigo\", \"green\", 'orange',],\n",
        "                            title='t-SNE',\n",
        "                            labels={'Axis 1': 'axis 1',\n",
        "                                    'Axis 2': 'axis 2'},\n",
        "                            width=600,\n",
        "                            height=500)\n",
        "app_marker = molplotly.add_molecules(fig=fig_tsne,\n",
        "                                         df=tsne_dataset,\n",
        "                                         smiles_col='SMILES',\n",
        "                                         title_col='ID',\n",
        "                                         color_col='Data set'\n",
        "                                        )\n",
        "\n",
        "#fig_tsne.show()\n",
        "#app_marker.run_server(mode='inline', port=8060, height=1000)\n",
        "app_marker.run(port=8060)"
      ],
      "metadata": {
        "id": "0Uw9do76CAqK"
      },
      "execution_count": null,
      "outputs": []
    },
    {
      "cell_type": "code",
      "source": [
        "#==============================================================================#"
      ],
      "metadata": {
        "id": "aLKF4RoiTh8O"
      },
      "execution_count": null,
      "outputs": []
    },
    {
      "cell_type": "markdown",
      "source": [
        "## Para saber más:\n",
        "* Medina-Franco JL, Sánchez-Cruz N, López-López E, Díaz-Eufracio BI. Progress on open chemoinformatic tools for expanding and exploring the chemical space. J Comput Aided Mol Des. 2022, 36, 341-354. DOI: [10.1007/s10822-021-00399-1](https://link.springer.com/article/10.1007/s10822-021-00399-1).\n",
        "* Medina-Franco JL, Chávez-Hernández AL, López-López E, Saldívar-González FI. Chemical Multiverse: An Expanded View of Chemical Space. Mol Inform. 2022, 41, e2200116. DOI: [10.1002/minf.202200116](https://onlinelibrary.wiley.com/doi/10.1002/minf.202200116).\n",
        "* Greener JG, Kandathil SM, Moffat L, Jones DT. A guide to machine learning for biologists. Nat Rev Mol Cell Biol. 2022, 23, 40-55. DOI:[10.1038/s41580-021-00407-0](https://www.nature.com/articles/s41580-021-00407-0).\n",
        "* Bender A, Schneider N, Segler M, Patrick Walters W, Engkvist O, Rodrigues T. Evaluation guidelines for machine learning tools in the chemical sciences. Nat Rev Chem. 2022, 6, 428-442. DOI: [10.1038/s41570-022-00391-9](https://www.nature.com/articles/s41570-022-00391-9)."
      ],
      "metadata": {
        "id": "-g2EPPlmg9R_"
      }
    }
  ]
}