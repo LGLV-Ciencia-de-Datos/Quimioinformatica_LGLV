{
  "nbformat": 4,
  "nbformat_minor": 0,
  "metadata": {
    "colab": {
      "provenance": [],
      "include_colab_link": true
    },
    "kernelspec": {
      "name": "python3",
      "display_name": "Python 3"
    },
    "language_info": {
      "name": "python"
    }
  },
  "cells": [
    {
      "cell_type": "markdown",
      "metadata": {
        "id": "view-in-github",
        "colab_type": "text"
      },
      "source": [
        "<a href=\"https://colab.research.google.com/github/LGLV/APS-Failure-at-Scania-Trucks-Data-Set/blob/main/7_4_Panorama_y_acantilados_de_actividad__Similitud.ipynb\" target=\"_parent\"><img src=\"https://colab.research.google.com/assets/colab-badge.svg\" alt=\"Open In Colab\"/></a>"
      ]
    },
    {
      "cell_type": "markdown",
      "source": [
        "# **Activity Cliffs**\n",
        "\n",
        "---\n",
        "---\n",
        "\n",
        "\n",
        "Última modificación: 28-02-2025\n",
        "\n",
        "\n",
        "---\n",
        "---\n"
      ],
      "metadata": {
        "id": "AhdGReZtVza8"
      }
    },
    {
      "cell_type": "markdown",
      "source": [
        "# ***Contenido***\n",
        "- [***0 - Librerias a emplear***](#0)\n",
        "- [***1 - Obtención de base de datos***](#1)\n",
        "  - [**1.1 - Carga y lectura de base de datos**](#1.1)\n",
        "  - [**1.2 - Pretratamiento de la base de datos**](#1.2)\n",
        "- [***2 - Diferencias de actividad***](#2)\n",
        "  - [**2.1 - Implementación 1: ciclo iterativo**](#2.1)\n",
        "  - [**2.2 - Implementación 2: matriz comparativa**](#2.2)\n",
        "    - [**2.2.1 - Visualización (Heat map)**](#2.3)\n",
        "- [***3 - Cálculo de similitud molecular.***](#3)\n",
        "  - [**3.1 - Implementación 1: ciclo iterativo**](#3.1)\n",
        "  - [**3.2 - Implementación 2: matriz comparativa**](#3.2)\n",
        "    - [**3.2.1 - Visualización (Heat map)**](#3.3)\n",
        "- [***4 - Visualización y análisis de datos***](#4)\n",
        "  - [**4.1 - SAS map y Panoramas de actividad**](#4.1)\n",
        "  - [**4.2 - Identificación de *activity cliffs* (ACs)**](#4.2)\n",
        "     - [*4.2.1 - Establecimiento de umbrales relativos y absolutos*](#4.2.1)\n",
        "     - [*4.2.2 - Visualización de ACs*](#4.2.2)\n",
        "- [***5 - Referencias***](#5)\n",
        "\n"
      ],
      "metadata": {
        "id": "y29QHu0uXFGk"
      }
    },
    {
      "cell_type": "markdown",
      "source": [
        "<a name='0'></a>\n",
        "# ***Librerias a emplear***"
      ],
      "metadata": {
        "id": "nFKgIHsCXMKZ"
      }
    },
    {
      "cell_type": "code",
      "source": [
        "import time\n",
        "tic =time.time()\n",
        "from IPython.utils import io # permite uso de instancias \"input - output.\"\n",
        "import tqdm.notebook\n",
        "total = 100\n",
        "with tqdm.notebook.tqdm(total=total) as pbar:\n",
        "    with io.capture_output() as captured:\n",
        "      pbar.update(20)\n",
        "      !pip install rdkit\n",
        "      !pip install molplotly #Libreria, extensión de plotly, para visualización de estructuras en 2D\n",
        "      !pip install Pillow   # generación de imágenes.\n",
        "      !pip install jupyter-dash    # librería para la visualización de datos de forma interactiva.\n",
        "      !pip install dash-bootstrap-components  # diseño de aplicación dash.\n",
        "      !pip install datamol  # librería para el manejo de moléculas. Documentación: https://github.com/datamol-io/datamol\n",
        "      !pip install sklearn  # librería para el uso de machine learning en Python. Documentación: https://scikit-learn.org/stable/\n",
        "      !pip install yellowbrick # librería para la visualización de modelos tipo machine learning. Documentación: https://www.scikit-yb.org/en/latest/\n",
        "      !pip install molfeat\n",
        "      !pip install kaleido\n",
        "      !pip install dash-bootstrap-components\n",
        "      pbar.update(20)\n",
        "\n",
        "      import os, sys, random, requests\n",
        "      import pandas as pd\n",
        "      import rdkit as rk # URL para consultar documentación y manual de uso: https://www.rdkit.org/docs/\n",
        "      from rdkit import Chem, DataStructs\n",
        "      from rdkit.Chem import AllChem, Draw, rdFMCS  # visualización y uso de estructuras.\n",
        "      from rdkit.Chem.Draw import rdMolDraw2D, IPythonConsole, rdDepictor\n",
        "      rdDepictor.SetPreferCoordGen(True)\n",
        "      IPythonConsole.drawOptions.minFontSize=25   # Instancias para la creación de imágenes.\n",
        "      pbar.update(20)\n",
        "      from rdkit.Geometry import DataStructs\n",
        "      import numpy as np               # URL para consultar documentación y manual de uso: https://numpy.org/doc/\n",
        "      from numpy.ma.core import shape\n",
        "      import math\n",
        "      import seaborn as sns            # URL para consultar documentación y manual de uso: https://seaborn.pydata.org/\n",
        "      import matplotlib.pyplot as plt\n",
        "      import plotly.express as px      # URL para consultar documentación y manual de uso: https://plotly.com/python/\n",
        "      import plotly.graph_objects as go\n",
        "      from PIL import Image, ImageDraw, ImageFont   # importación de la librería Pillow, visualización de imagenes, ImageDraw:fuente que desee el usuario\n",
        "      pbar.update(20)\n",
        "      from  jupyter_dash import JupyterDash\n",
        "      import dash\n",
        "      from dash import dcc, html, dash_table\n",
        "      from dash.dependencies import Input, Output   # Generación de aplicación web.\n",
        "      import dash_bootstrap_components as dbc\n",
        "      from google.colab import files # descargar archivos\n",
        "      from pydoc import classify_class_attrs\n",
        "      import base64     # instancias para la codificación de información.\n",
        "      from io import BytesIO\n",
        "      import datamol as dm\n",
        "      from molfeat.calc import FPCalculator, FP_FUNCS\n",
        "      from molfeat.trans import MoleculeTransformer\n",
        "      from sklearn.model_selection import train_test_split\n",
        "      from sklearn.ensemble import HistGradientBoostingRegressor, RandomForestRegressor\n",
        "      from yellowbrick.regressor import prediction_error, residuals_plot\n",
        "      from sklearn.metrics import mean_squared_error, mean_absolute_error, r2_score, mean_absolute_percentage_error,classification_report, confusion_matrix, accuracy_score   # accuracy_score:importación de métricas\n",
        "      from lightgbm import LGBMRegressor\n",
        "      from xgboost import XGBRegressor\n",
        "      import networkx as nx\n",
        "      from functools import reduce\n",
        "      pbar.update(20)\n",
        "toc =time.time()\n",
        "print(\"Time: \"+ str((toc-tic))+\" s\")"
      ],
      "metadata": {
        "id": "Gnszv_5VXVNn"
      },
      "execution_count": null,
      "outputs": []
    },
    {
      "cell_type": "markdown",
      "source": [
        "El objetivo de este estudio de caso es realizar un análisis de similitud química de una serie de compuestos que actúan sobre el target biológico denominado GPR40. Este target es de interés para estudios relacionados a la diabetes tipo II. La base de datos química fue obtenida a partir de CHEMBL.\n",
        "Los parámetros que serán usados para realizar el análisis de similitud son: IC50 y el Coeficiente de Tanimoto."
      ],
      "metadata": {
        "id": "1AGnnUpSSgKt"
      }
    },
    {
      "cell_type": "markdown",
      "source": [
        "<a name='1'></a>\n",
        "\n",
        "#**Sección 1. Obtención de base de datos.**\n",
        "La base de datos puede ser cargada a través de dos métodos:\n",
        "1. Cargando y leyendo el archivo (.csv, .xlsx) directamente\n",
        "2. Usando la API de ChEMBL.\n",
        "\n"
      ],
      "metadata": {
        "id": "fnNJ1mKEOikJ"
      }
    },
    {
      "cell_type": "markdown",
      "source": [
        "<a name='1.1'></a>\n",
        "\n",
        "## Carga y lectura de base de datos:"
      ],
      "metadata": {
        "id": "pnf9SsmJbbmr"
      }
    },
    {
      "cell_type": "code",
      "source": [
        "url=\"https://raw.githubusercontent.com/DIFACQUIM/Cursos/main/Datasets/08_Similitud_GPR40.csv\"\n",
        "database_original_direct = pd.read_csv(url)\n",
        "print(database_original_direct.info())\n",
        "database_original_direct[0:2]"
      ],
      "metadata": {
        "id": "eimOGhu9LAgw"
      },
      "execution_count": null,
      "outputs": []
    },
    {
      "cell_type": "markdown",
      "source": [
        "<a name='1.2'></a>\n",
        "\n",
        "## Pretratamiento de la base de datos.\n",
        "Limpieza de base de datos con la función \"*difference*\" (únicamente se extraen las columnas de interés).\n",
        "Para la eliminación de duplicados se considero la representación molecular InChI.\n",
        "\n",
        "Para cuantificar el panorama de actividad se emplea el **indice SALI **(Indice del panorama estructura-actividad):\n",
        "\n",
        "    SALI(i,j) = |Ai − Aj|/ 1 − sim(i,j)\n",
        "El valor SALI será empleado para mapear lo anterior en un mapa SAS usando una escala de color continua desde x(valores bajos SALI) hasta y (valores altos SALI asociados con ACs). Para este segmento consideramos que dos compuestos están conectados si tienen un score SALI superior al limite de corte establecido (mayor al 70 u 80% de todos los scores) https://pubs.rsc.org/en/content/articlehtml/2023/dd/d3dd00098b"
      ],
      "metadata": {
        "id": "RBCrW8-jO-Cq"
      }
    },
    {
      "cell_type": "code",
      "source": [
        "db_treatment = database_original_direct.drop(database_original_direct.columns.difference(['Molecule ChEMBL ID',\n",
        "                                                                                          'Smiles',\n",
        "                                                                                          'Standard Value']), axis=1)\n",
        "db_treatment= db_treatment.rename(columns={'Standard Value':'IC50'})\n",
        "db_treatment= db_treatment.sort_values(by=['IC50']).reset_index(drop=True) #Ordenamos con respecto a IC50 para obtener una mejor visualización en la siguiente sección\n",
        "\n",
        "\n",
        "#Creación de la columna \"InChI\"\n",
        "InChI_column = []\n",
        "for i in db_treatment['Smiles']:     # Para cada compuesto 'i' dentro de la base de datos, toma su representación SMILES y conviértela a InChI.\n",
        "  i = Chem.MolFromSmiles(i)\n",
        "  n_inchi = Chem.MolToInchiKey(i)\n",
        "  InChI_column.append(n_inchi)\n",
        "db_treatment.insert(2, 'InChI', InChI_column) #Adición de columna generada con la representación InChI.\n",
        "\n",
        "\n",
        "#Creación de columna \"pIC50\" (-log Ic50)\n",
        "db_treatment[\"pIC50\"] = db_treatment[\"IC50\"].apply(lambda x: -1 * math.log10(x*(10**-9)))\n",
        "      # Nota: antes de aplicar el logaritmo, debemos convertir las unidades de valor de IC50 [para este caso en específico, 1 ^ -9 ].\n",
        "\n",
        "#Eliminación de moléculas duplicados\n",
        "print(f\"Datos originales: {db_treatment.shape}\")\n",
        "db_treatment.drop_duplicates(subset=['InChI', 'Smiles'])\n",
        "print(f\"Datos tras eliminación de duplicados: {db_treatment.shape}\")\n",
        "db_treatment"
      ],
      "metadata": {
        "id": "Z6NqJ14BjusB"
      },
      "execution_count": null,
      "outputs": []
    },
    {
      "cell_type": "markdown",
      "source": [
        "<a name='2'></a>\n",
        "\n",
        "#**Sección 2. Diferencias de actividad**"
      ],
      "metadata": {
        "id": "2QBMiAzWhB7P"
      }
    },
    {
      "cell_type": "markdown",
      "source": [
        "<a name='2.1'></a>\n",
        "\n",
        "## **Implementación 1: ciclo iterativo.**"
      ],
      "metadata": {
        "id": "X0IjDIUztHe7"
      }
    },
    {
      "cell_type": "markdown",
      "source": [
        "Caso de ciclo iterativo para cada compuesto dentro de la base de datos pretratada.\n",
        "\n",
        "\n",
        "\n",
        "Instrucciones propuestas: creación de una lista que almacena todos los posibles resultados de las comparaciones, posteriormente, se itera sobre cada uno de los compuestos dentro de la base; es decir, se inicia una instancia \"for\" que pretende recorrer/iterar todos los compuestos. Este ciclo, llamémosle \"principal\", tiene la funcionalidad de elegir un elemento fijo con el que se va a comparar con el resto de compuestos.\n",
        "\n",
        "Dentro de esa misma instancia, se inicializa un \"sub - ciclo\" que pretende recorrer/iterar a la par del ciclo principal todos los compuestos de la base de datos pretratada. Sin embargo, este sub - ciclo tiene la característica de que la variable iterativa inicia una posición por delante del ciclo, pues este sub - ciclo va a comparar el elemento fijo que se elegió en el ciclo principal y el elemento variable que se eligió en este sub - ciclo.\n",
        "\n",
        "Finalmente, las casos de comparación son almacenados en la lista que se creó en un principio.\n"
      ],
      "metadata": {
        "id": "sR5Fl_lyhyDL"
      }
    },
    {
      "cell_type": "code",
      "source": [
        "comparacion_actividad = [] #Lista donde se almacenaran las comparaciones\n",
        "\n",
        "#Ciclo principal de iteración y elección del elemento fijo de comparación\n",
        "for i in range(len(db_treatment)):\n",
        "    elemento_fijo = db_treatment.iloc[i]   # nota: 'iloc' solo funciona para localización de datos tipo integers o booleanos.\n",
        "\n",
        "      # Sub - ciclo: elección de elemento variable y comparación.\n",
        "    for j in range(i+1, len(db_treatment)):    # \"i+1\" para asegurarnos de que se empieza a iterar un elemento después del 'elemento_fijo'.\n",
        "        elemento_variable = db_treatment.iloc[j]\n",
        "\n",
        "        # Comparación de valores de actividad.\n",
        "        diferencia_actividad = abs(elemento_fijo[\"pIC50\"] - elemento_variable[\"pIC50\"])\n",
        "\n",
        "        # Adición de los casos de comparación a la lista de resultados creada en el primer paso.\n",
        "        comparacion_actividad.append({'Compuesto A': elemento_fijo['Molecule ChEMBL ID'],\n",
        "                                      'pIC50 A': elemento_fijo['pIC50'],\n",
        "                                      'Compuesto B': elemento_variable['Molecule ChEMBL ID'],\n",
        "                                      'pIC50 B': elemento_variable['pIC50'],\n",
        "                                      'Diferencia de actividad': diferencia_actividad})\n",
        "\n",
        "# Dataframe con los resultados de comparación.\n",
        "actividad_db = pd.DataFrame(comparacion_actividad)\n",
        "actividad_db\n",
        "# Nota: agregar sección de comprobación de n repeticiones posibles sin repetir. Comprobación  = n(n-1) / 2  ; donde \"n\" es el número de compuestos dentro de la base de datos."
      ],
      "metadata": {
        "id": "DgMd8TL6zJ_w"
      },
      "execution_count": null,
      "outputs": []
    },
    {
      "cell_type": "markdown",
      "source": [
        "<a name='2.2'></a>\n",
        "\n",
        "##**Implementación 2: matriz comparativa**"
      ],
      "metadata": {
        "id": "4mggZJ3BtFMB"
      }
    },
    {
      "cell_type": "markdown",
      "source": [
        "Lo anterior se puede simplificar al genera una matriz comparativa considerando unicamente los valores de pIC50 y el resultado de la diferencia de actividad."
      ],
      "metadata": {
        "id": "CBGfpV-Vm4GG"
      }
    },
    {
      "cell_type": "code",
      "source": [
        "%%time\n",
        "hmap=pd.DataFrame()\n",
        "for i in db_treatment.index:\n",
        "    for j in db_treatment.index:\n",
        "        a = db_treatment.loc[i,'pIC50'] #elemento fijo\n",
        "        b = db_treatment.loc[j,'pIC50'] #elemento variable\n",
        "        diferencia_actividad = abs(a - b)\n",
        "        hmap.loc[db_treatment.loc[i,'Molecule ChEMBL ID'],db_treatment.loc[j,'Molecule ChEMBL ID']]=diferencia_actividad\n",
        "hmap"
      ],
      "metadata": {
        "id": "hnSsZpdCjsDK"
      },
      "execution_count": null,
      "outputs": []
    },
    {
      "cell_type": "markdown",
      "source": [
        "<a name='2.3'></a>\n",
        "\n",
        "###**Visualización (Heat map)**"
      ],
      "metadata": {
        "id": "A_jJZ1iQn2y3"
      }
    },
    {
      "cell_type": "code",
      "source": [
        "palette= sns.blend_palette(['cyan','lightcyan','lightcoral', 'firebrick'],72)\n",
        "palette"
      ],
      "metadata": {
        "id": "gmUdGEEMn4Zq"
      },
      "execution_count": null,
      "outputs": []
    },
    {
      "cell_type": "code",
      "source": [
        "fig, ax = plt.subplots(figsize=(18,18))\n",
        "sns.heatmap(hmap,square = True, xticklabels=hmap.columns, yticklabels=hmap.index, cmap=palette,\n",
        "            cbar_kws={'shrink':0.8,\n",
        "                      'orientation':'horizontal','spacing':'uniform',\n",
        "                      'pad':0.02})\n",
        "ax.figure.axes[1].tick_params(axis=\"x\", labelsize=15) #Tamaño de ticks en cbar\n",
        "ax.figure.axes[1].set_xlabel('Diferencia de actividad (∆pIC50)', size=15, weight='bold') #Etiqueta de cbar\n",
        "ax.tick_params(labelsize=1)\n",
        "plt.xticks (np.arange(len(hmap.index))+0.5, hmap.index,rotation=90)\n",
        "plt.yticks (np.arange(len(hmap.columns))+0.5, hmap.columns, rotation=0)\n",
        "ax.xaxis.tick_top()\n",
        "plt.tick_params ('both',width=1,labelsize=8)\n",
        "plt.show()"
      ],
      "metadata": {
        "id": "-a_5OLUyn8ok"
      },
      "execution_count": null,
      "outputs": []
    },
    {
      "cell_type": "markdown",
      "source": [
        "<a name='3'></a>\n",
        "\n",
        "#**Sección 3. Cálculo de similitud molecular.**\n",
        "\n",
        "En esta sección se generara un loop iterativo para la obtención de fingerprints (radiales del tipo ECFP6 con ayuda de RDKit) y, posteriormente se empleará el coeficiente de Tanimoto para el establecimeinto del cálculo de similitud.\n",
        "\n",
        "  Nota: pueden utilizarse otro tipo de representaciones moleculares, no necesariamente fingerprints ECFP6.\n"
      ],
      "metadata": {
        "id": "6F4_hZrHXCwy"
      }
    },
    {
      "cell_type": "markdown",
      "source": [
        "<a name='3.1'></a>\n",
        "## **Implementación 1: ciclo iterativo.**"
      ],
      "metadata": {
        "id": "uPjg-8xmkqKk"
      }
    },
    {
      "cell_type": "code",
      "source": [
        " tic =time.time()\n",
        "comparacion_estructura = [] # Lista en donde se almacenan los casos de comparación.\n",
        "for i in range(len(db_treatment)):\n",
        "    elemento_fijo_id = db_treatment.loc[[i], [\"Molecule ChEMBL ID\"]]\n",
        "    elemento_fijo_df = db_treatment.loc[[i], [\"Smiles\"]]    # iteración sobre todos los compuestos de la base de datos, en este caso, su representación tipo SMILES.\n",
        "    elemento_fijo_str = elemento_fijo_df.to_string(index = False, header = False)     # al recorrer/iterar sobre cada uno de los elementos, su reconocimiento no es directamente \"string\" (que es lo que necesitamos para el método 'GetMorgan'), sino que se obtiene como un \"dataframe\" por lo que el método \"tostring\" permite realizar esta conversión.\n",
        "    elemento_fijo_mol = Chem.MolFromSmiles(elemento_fijo_str)    # al contar con el compuesto en su representación SMILES y en formato string, entoces podemos utilizar RDKit para generar un objeto tipo \"mol\".\n",
        "    fps_elemento_fijo = AllChem.GetMorganFingerprintAsBitVect(elemento_fijo_mol, 2, nBits = 1024)  # Morgan toma ese objeto tipo mol y genera un fingerprint. Al mismo tiempo, al utilizar Morgan el usuario tiene que definir un radio a partir el cual se emplea para la generación del fingerprint: en este caso utilizamos \"2\". El término \"n = 1024\" es el tamaño del vector de bits generado.\n",
        "\n",
        "    for j in range(i+1, len(db_treatment)):               #Sub ciclo donde se genera el fingerprint para \"elemento_variable\".\n",
        "\n",
        "        elemento_variable_id = db_treatment.loc[[j], [\"Molecule ChEMBL ID\"]]\n",
        "        elemento_variable_df = db_treatment.loc[[j], [\"Smiles\"]]\n",
        "        elemento_variable_str = elemento_variable_df.to_string(index = False, header = False)\n",
        "        elemento_variable_mol = Chem.MolFromSmiles(elemento_variable_str)\n",
        "        fps_elemento_variable = AllChem.GetMorganFingerprintAsBitVect(elemento_variable_mol, 3, nBits = 2048) #ECFP6\n",
        "\n",
        "        diferencia_estructura = DataStructs.TanimotoSimilarity(fps_elemento_fijo, fps_elemento_variable)\n",
        "\n",
        "        comparacion_estructura.append({\"Compuesto A\": elemento_fijo_id.to_string(index = False, header = False),\n",
        "                                       \"Smiles A\": elemento_fijo_str,\n",
        "\n",
        "                                      \"Compuesto B\": elemento_variable_id.to_string(index = False, header = False),\n",
        "                                       \"Smiles B\": elemento_variable_str,\n",
        "\n",
        "                                      \"Similitud estructural (Tanimoto)\": diferencia_estructura})\n",
        "\n",
        "estructura_db = pd.DataFrame(comparacion_estructura)  # dataframe con todas las comparaciones posibles de similitud estructural.\n",
        "toc =time.time()\n",
        "print(\"Time: \"+ str((toc-tic))+\" s\")\n",
        "estructura_db\n",
        "\n",
        "# Nota : esta sección de código puede reducirse en la parte de la conversión \"dataframe\" a \"string\". Si desde un principio en la base de datos pretratada especificamos \"dtype=string\" para la columna SMILES ya no es necesario realizar la conversión."
      ],
      "metadata": {
        "id": "p2AeNNEA4H4g"
      },
      "execution_count": null,
      "outputs": []
    },
    {
      "cell_type": "markdown",
      "source": [
        "<a name='3.1'></a>\n",
        "\n",
        "##**Implementación 2: matriz de similitud**"
      ],
      "metadata": {
        "id": "dSiwXtMkL7kf"
      }
    },
    {
      "cell_type": "code",
      "source": [
        "def tanimoto_calc(smi1, smi2):\n",
        "    mol1 = Chem.MolFromSmiles(smi1)\n",
        "    mol2 = Chem.MolFromSmiles(smi2)\n",
        "    fp1 = AllChem.GetMorganFingerprintAsBitVect(mol1, 3, nBits=2048)\n",
        "    fp2 = AllChem.GetMorganFingerprintAsBitVect(mol2, 3, nBits=2048)\n",
        "    s = round(DataStructs.TanimotoSimilarity(fp1,fp2),3)\n",
        "    return s"
      ],
      "metadata": {
        "id": "qot07yiuEaYx"
      },
      "execution_count": null,
      "outputs": []
    },
    {
      "cell_type": "code",
      "source": [
        "db_treatment.sort_values(by=[\"Molecule ChEMBL ID\"], ascending=False, inplace=True) #Se ordena con respecto al ID para obtener una mejor visualización\n",
        "db_treatment.reset_index(drop=True, inplace=True)\n",
        "\n",
        "tic =time.time()\n",
        "hmap_similarity=pd.DataFrame()\n",
        "for i in db_treatment.index:\n",
        "    for j in db_treatment.index:\n",
        "        a=db_treatment.loc[i].at['Smiles']\n",
        "        b=db_treatment.loc[j].at['Smiles']\n",
        "        alignment= tanimoto_calc(a,b)\n",
        "        hmap_similarity.loc[db_treatment.loc[i,'Molecule ChEMBL ID'],db_treatment.loc[j,'Molecule ChEMBL ID']]=alignment\n",
        "toc =time.time()\n",
        "print(\"Time: \"+ str((toc-tic))+\" s\")\n",
        "\n",
        "hmap_similarity"
      ],
      "metadata": {
        "id": "yL9zN21pHVcI"
      },
      "execution_count": null,
      "outputs": []
    },
    {
      "cell_type": "markdown",
      "source": [
        "<a name='3.3'></a>\n",
        "\n",
        "###**Visualización (Heat map)**"
      ],
      "metadata": {
        "id": "LyU4g_aIMCsI"
      }
    },
    {
      "cell_type": "code",
      "source": [
        "palette= sns.blend_palette(['green','greenyellow','yellow', 'orange'],72)\n",
        "palette"
      ],
      "metadata": {
        "id": "DkZBz0O6HdEN"
      },
      "execution_count": null,
      "outputs": []
    },
    {
      "cell_type": "code",
      "source": [
        "fig, ax = plt.subplots(figsize=(18,18))\n",
        "sns.heatmap(hmap_similarity,square = True, xticklabels=hmap_similarity.columns, yticklabels=hmap_similarity.index, cmap=palette,\n",
        "            cbar_kws={'shrink':0.8,\n",
        "                      'orientation':'horizontal','spacing':'uniform',\n",
        "                      'pad':0.02})\n",
        "ax.figure.axes[1].tick_params(axis=\"x\", labelsize=15) #Tamaño de ticks en cbar\n",
        "ax.figure.axes[1].set_xlabel('Similitud molecular', size=15, weight='bold') #Etiqueta de cbar\n",
        "ax.tick_params(labelsize=1)\n",
        "plt.xticks (np.arange(len(hmap_similarity.index))+0.5, hmap_similarity.index,rotation=90)\n",
        "plt.yticks (np.arange(len(hmap_similarity.columns))+0.5, hmap_similarity.columns, rotation=0)\n",
        "ax.xaxis.tick_top()\n",
        "plt.tick_params ('both',width=1,labelsize=8)\n",
        "plt.show()"
      ],
      "metadata": {
        "id": "x_7xsankJSwl"
      },
      "execution_count": null,
      "outputs": []
    },
    {
      "cell_type": "markdown",
      "source": [
        "### Determinación de valores SALI"
      ],
      "metadata": {
        "id": "tZEt6klBjtSM"
      }
    },
    {
      "cell_type": "markdown",
      "source": [
        "Para cuantificar el panorama de actividad se emplea el indice SALI (Indice del panorama estructura-actividad):\n",
        "\n",
        "\n",
        "```\n",
        "# SALIi,j = |Ai − Aj|/1 − sim(i,j)\n",
        "\n",
        "```\n",
        "El valor SALI será empleado para mapear lo anterior en un mapa SAS usando una escala de color continua desde x(valores bajos SALI) hasta y (valores altos SALI asociados con ACs).\n",
        "Para este segmento consideramos que dos compuestos están conectados si tienen un score SALI superior al limite de corte establecido (mayor al 70 u 80% de todos los scores)\n",
        "https://pubs.rsc.org/en/content/articlehtml/2023/dd/d3dd00098b\n"
      ],
      "metadata": {
        "id": "atPAIPoXCQTR"
      }
    },
    {
      "cell_type": "code",
      "source": [
        "merge=actividad_db.merge(right=estructura_db, on=['Compuesto A', 'Compuesto B']) #Juntamos los DF\n",
        "merge= merge[['Compuesto A',\t'pIC50 A', 'Smiles A','Compuesto B',\t'pIC50 B','Smiles B','Diferencia de actividad',\t'Similitud estructural (Tanimoto)']]\n",
        "\n",
        "merge['pIC50 A'] = merge['pIC50 A'].round(4)\n",
        "merge['pIC50 B'] = merge['pIC50 B'].round(4)\n",
        "merge['Diferencia de actividad'] = merge['Diferencia de actividad'].round(4)\n",
        "merge['Similitud estructural (Tanimoto)'] = merge['Similitud estructural (Tanimoto)'].round(4)\n",
        "merge['Valor de SALI'] = (merge['Diferencia de actividad'] / (1 - merge['Similitud estructural (Tanimoto)'])).round(4)   # para obtener el valor de SALi podemos usar la expresión aritmética directamente sin necesidad de iterar sobre todos los renglones de las columnas.\n",
        "\n",
        "\n",
        "merge"
      ],
      "metadata": {
        "id": "oL4nQ4sHM6R1"
      },
      "execution_count": null,
      "outputs": []
    },
    {
      "cell_type": "markdown",
      "source": [
        "<a name='4'></a>\n",
        "\n",
        "#**Sección 4. Visualización y análisis de datos**\n",
        "La elección de la métrica para definir si algo es un \"*activity cliff*\" (ACs) depende en gran medida del contexto específico del problema y de los objetivos. Sin embargo, algunas métricas comunes que son posibles de considerar son:\n",
        "\n",
        "\n",
        "1. **Umbral Absoluto:** Puedes establecer un umbral absoluto para la diferencia de actividad y considerar cualquier diferencia que supere ese umbral como un \"activity cliff\". Por ejemplo, podrías decidir que cualquier diferencia mayor que 1.5 es un \"*cliff*\".\n",
        "\n",
        "2. **Umbral Relativo:** En lugar de un umbral absoluto, podrías considerar un umbral relativo en función de la variabilidad de tus datos. Por ejemplo, podrías definir \"*activity cliffs*\" como aquellas diferencias que superan cierto múltiplo de la desviación estándar.\n",
        "\n",
        "3. **Percentil:** Podrías identificar \"*activity cliffs*\" basándote en ciertos percentiles de la distribución de las diferencias. Por ejemplo, podrías considerar aquellos que están por encima del 90% superior como \"*cliffs*\".\n",
        "\n",
        "4. **Criterios Biológicos o Químicos:** Dependiendo del dominio de tu problema, podrías incorporar conocimientos biológicos o químicos para definir \"activity *cliffs*\". Por ejemplo, podrías considerar como \"*cliffs*\" aquellas diferencias que conduzcan a cambios significativos en la estructura química."
      ],
      "metadata": {
        "id": "VSrgwWt0S05f"
      }
    },
    {
      "cell_type": "code",
      "source": [
        "# Creamos el heatmap con Plotly\n",
        "fig = go.Figure(data=go.Heatmap(\n",
        "    z=merge[\"Valor de SALI\"],\n",
        "    x=merge[\"Compuesto B\"],\n",
        "    y=merge[\"Compuesto A\"],\n",
        "    hoverongaps=False\n",
        "))\n",
        "\n",
        "# Configuramos el layout\n",
        "fig.update_layout(\n",
        "    title='Heatmap del valor SALI',\n",
        "    xaxis_title='Compuesto B',\n",
        "    yaxis_title='Compuesto A'\n",
        ")\n",
        "\n",
        "# Mostramos el heatmap\n",
        "fig.show()"
      ],
      "metadata": {
        "id": "SjPHEI0cTY6B"
      },
      "execution_count": null,
      "outputs": []
    },
    {
      "cell_type": "markdown",
      "source": [
        "Un valor alto de SALI sugiere que los compuestos son estructuralmente similares pero tienen efectos biológicos o químicos muy diferentes."
      ],
      "metadata": {
        "id": "9UVTwKa5ISSn"
      }
    },
    {
      "cell_type": "markdown",
      "source": [
        "<a name='4.1'></a>\n",
        "\n",
        "##**SAS map o Panorama de actividad**"
      ],
      "metadata": {
        "id": "UHxIg6j4t-l2"
      }
    },
    {
      "cell_type": "code",
      "source": [
        "fig_scatter = px.scatter(db_treatment,\n",
        "                         x=\"Molecule ChEMBL ID\",\n",
        "                         y=\"pIC50\",\n",
        "                         title='Activity landscape',\n",
        "                         width=1200,\n",
        "                         height=800)\n",
        "# This adds a dashed line for what a perfect model _should_ predict\n",
        "y = db_treatment[\"pIC50\"].values\n",
        "fig_scatter.show()"
      ],
      "metadata": {
        "id": "cjnt4SHe5lRD"
      },
      "execution_count": null,
      "outputs": []
    },
    {
      "cell_type": "code",
      "source": [
        "# Datos del gráfico de dispersión\n",
        "similitud = merge['Similitud estructural (Tanimoto)']\n",
        "diferencia_actividad = merge['Diferencia de actividad']\n",
        "# Crear el gráfico de dispersión\n",
        "plt.figure(figsize=(8, 6))\n",
        "plt.scatter(similitud, diferencia_actividad, color='gray', alpha=0.5)\n",
        "plt.title('SAS Map')\n",
        "plt.xlabel('Similitud estructural (Tanimoto)')\n",
        "plt.ylabel('Diferencia de actividad')\n",
        "plt.grid(True)\n",
        "plt.legend()\n",
        "plt.show()"
      ],
      "metadata": {
        "id": "DseOmMaIP5Y_"
      },
      "execution_count": null,
      "outputs": []
    },
    {
      "cell_type": "markdown",
      "source": [
        "![image.png](data:image/png;base64,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)"
      ],
      "metadata": {
        "id": "EPBibH8sOny_"
      }
    },
    {
      "cell_type": "markdown",
      "source": [
        "<a name='4.2'></a>\n",
        "## **Identificación de \"activity cliffs\" (ACs).**"
      ],
      "metadata": {
        "id": "woLotDBfT9vA"
      }
    },
    {
      "cell_type": "code",
      "source": [
        "def SAS_map(df, similarity_column, dif_activity_col, sali_col, umbral_x=None, umbral_y=None, set_title=str):\n",
        "    # Crear el gráfico de dispersión\n",
        "    plt.figure(figsize=(8, 6))\n",
        "    sns.set(style=\"whitegrid\", font_scale=1.2)\n",
        "\n",
        "    plt.scatter(df[similarity_column], df[dif_activity_col], color='gray', alpha=0.2)\n",
        "\n",
        "    # Si se proporcionan umbrales, identificar los puntos en el cuarto cuadrante\n",
        "    if umbral_x is not None and umbral_y is not None:\n",
        "        puntos_cuarto_cuadrante = df[(df[similarity_column] > umbral_x) & (df[dif_activity_col] > umbral_y)]\n",
        "        plt.scatter(puntos_cuarto_cuadrante[similarity_column], puntos_cuarto_cuadrante[dif_activity_col],\n",
        "                    c=puntos_cuarto_cuadrante[sali_col], cmap='coolwarm', s=100, alpha=0.8)\n",
        "        plt.colorbar(label='SALI value')\n",
        "        plt.axvline(x=umbral_x, color='red', linestyle='--', label='Umbral X')\n",
        "        plt.axhline(y=umbral_y, color='blue', linestyle='--', label='Umbral Y')\n",
        "    else:\n",
        "        plt.scatter(df[similarity_column], df[dif_activity_col],\n",
        "                    c=df[sali_col], cmap='coolwarm', s=100, alpha=0.8)\n",
        "        plt.colorbar(label='SALI value')\n",
        "\n",
        "    plt.title(set_title)\n",
        "    plt.xlabel(similarity_column)\n",
        "    plt.ylabel(dif_activity_col)\n",
        "    plt.grid(True)\n",
        "    plt.legend()\n",
        "    return plt.show()"
      ],
      "metadata": {
        "id": "U1Q_KQuJ_i7X"
      },
      "execution_count": null,
      "outputs": []
    },
    {
      "cell_type": "code",
      "source": [
        "# Ejemplo de uso sin umbrales\n",
        "SAS_map(merge, similarity_column='Similitud estructural (Tanimoto)', dif_activity_col='Diferencia de actividad',\n",
        "        sali_col='Valor de SALI', set_title= 'SAS map')"
      ],
      "metadata": {
        "id": "aw0CtXZw_98n"
      },
      "execution_count": null,
      "outputs": []
    },
    {
      "cell_type": "code",
      "source": [
        "'''\n",
        "El umbral X calculado representa el valor de similitud estructural por encima del cual se encuentran el 10 %\n",
        "de los pares con la mayor similitud en la base de datos.\n",
        "El umbral Y corresponde a una unidad logarítmica\n",
        "'''\n",
        "similarity_scores=merge['Similitud estructural (Tanimoto)'].tolist()\n",
        "top_10_percent = int(0.1 * len(similarity_scores)) # Calcula el número de pares en el 10 % superior\n",
        "sorted_similarity_scores = sorted(similarity_scores, reverse=True) # Ordena las similitudes estructurales de mayor a menor\n",
        "print(sorted_similarity_scores)\n",
        "umbral_x = sorted_similarity_scores[top_10_percent - 1] # #El percentil 10 de los compuestos con mayor similitud.\n",
        "print(\"Umbral del top 10 %:\", umbral_x)\n",
        "umbral_y = 1  # 1 unidad logarítmica\n",
        "# Ejemplo de uso con umbrales\n",
        "SAS_map(merge, similarity_column='Similitud estructural (Tanimoto)', dif_activity_col='Diferencia de actividad',\n",
        "        sali_col='Valor de SALI', umbral_x=umbral_x, umbral_y=umbral_y, set_title='SAS map')"
      ],
      "metadata": {
        "id": "MVsgfEhN_la9"
      },
      "execution_count": null,
      "outputs": []
    },
    {
      "cell_type": "code",
      "source": [
        "print(f\"Estadística de la columna 'Diferencia de actividad': {merge['Diferencia de actividad'].describe()}\")\n",
        "print(f\"Estadística de la columna 'Similitud estructural (Tanimoto)': {merge['Similitud estructural (Tanimoto)'].describe()}\")\n",
        "print(f\"Estadística de la columna 'Valor de SALI': {merge['Valor de SALI'].describe()}\")"
      ],
      "metadata": {
        "id": "e4xB_mNhDtK1"
      },
      "execution_count": null,
      "outputs": []
    },
    {
      "cell_type": "markdown",
      "source": [
        "Considerando la información anterior, podemos establecer dos tipos de umbrales, unos absolutos (25%, 50%, 75%) y unos realtivos considerando:\n",
        "1. Diferencia de Actividad (pIC50):\n",
        "    - Dado que la media es 1.388 y la desviación estándar es 0.990511, se podría considerar umbrales que estén en el rango de 1 a 2 desviaciones estándar de la media.\n",
        "    Por ejemplo, podriamos definir como \"alta\" diferencia de actividad aquellas mayores que, por ejemplo, 2.5 (media + 2 * desviación estándar).\n",
        "2. Similitud Estructural (Tanimoto):\n",
        "  - Podrías definir como \"alta\" similitud aquella mayor que, por ejemplo, 0.482 (media + 2 * desviación estándar)."
      ],
      "metadata": {
        "id": "kyopnhNgHgQH"
      }
    },
    {
      "cell_type": "markdown",
      "source": [
        "<a name='4.2.1'></a>\n",
        "\n",
        "### **Establecimiento de umbrales relativos y absolutos**"
      ],
      "metadata": {
        "id": "eVw-lJTJl1W6"
      }
    },
    {
      "cell_type": "code",
      "source": [
        "#Umbrales absolutos--->  considerando el 25%, 50% y 75% en ambos casos\n",
        "thresholds_ActivityDiff_25= 0.600000\n",
        "thresholds_Similarity_25 = 0.111100\n",
        "thresholds_ActivityDiff_50= 1.210000\n",
        "thresholds_Similarity_50 = 0.136400\n",
        "thresholds_ActivityDiff_75= 2.023100\n",
        "thresholds_Similarity_75 = 0.237950"
      ],
      "metadata": {
        "id": "hBuBsqOgAx1r"
      },
      "execution_count": null,
      "outputs": []
    },
    {
      "cell_type": "code",
      "source": [
        "# Ejemplo de uso con umbrales\n",
        "SAS_map(merge, similarity_column='Similitud estructural (Tanimoto)', dif_activity_col='Diferencia de actividad',\n",
        "        sali_col='Valor de SALI', umbral_x=thresholds_Similarity_25, umbral_y=thresholds_ActivityDiff_25, set_title='SAS map 25%')"
      ],
      "metadata": {
        "id": "-1m6Xn9ZAzhD"
      },
      "execution_count": null,
      "outputs": []
    },
    {
      "cell_type": "code",
      "source": [
        "# Ejemplo de uso con umbrales\n",
        "SAS_map(merge, similarity_column='Similitud estructural (Tanimoto)', dif_activity_col='Diferencia de actividad',\n",
        "        sali_col='Valor de SALI', umbral_x=thresholds_Similarity_50, umbral_y=thresholds_ActivityDiff_50, set_title='SAS map 50%')"
      ],
      "metadata": {
        "id": "8uXGk9JjBfVQ"
      },
      "execution_count": null,
      "outputs": []
    },
    {
      "cell_type": "code",
      "source": [
        "# Ejemplo de uso con umbrales\n",
        "SAS_map(merge, similarity_column='Similitud estructural (Tanimoto)', dif_activity_col='Diferencia de actividad',\n",
        "        sali_col='Valor de SALI', umbral_x=thresholds_Similarity_75, umbral_y=thresholds_ActivityDiff_75, set_title='SAS map 75%')"
      ],
      "metadata": {
        "id": "DZxWtZkHBlkR"
      },
      "execution_count": null,
      "outputs": []
    },
    {
      "cell_type": "code",
      "source": [
        "#Umbrales Relativos considerando promedio + 2 veces la desviación estandar\n",
        "thresholds_ActivityDiff_rel= merge['Diferencia de actividad'].mean() + 2 * merge['Diferencia de actividad'].std()\n",
        "thresholds_Similarity = merge['Similitud estructural (Tanimoto)'].mean() + 2 * merge['Similitud estructural (Tanimoto)'].std()\n",
        "# Ejemplo de uso con umbrales\n",
        "SAS_map(merge, similarity_column='Similitud estructural (Tanimoto)', dif_activity_col='Diferencia de actividad',\n",
        "        sali_col='Valor de SALI', umbral_x=thresholds_Similarity, umbral_y=thresholds_ActivityDiff_rel, set_title='SAS map prom+2sdt%')"
      ],
      "metadata": {
        "id": "AkHoSQlFLBZ8"
      },
      "execution_count": null,
      "outputs": []
    },
    {
      "cell_type": "code",
      "source": [
        "#Umbrales Relativos considerando promedio + 2 veces la desviación estandar y una diferencia de actividad menor a 0.1\n",
        "y_cut_value_cliffs = 0.1\n",
        "# Ejemplo de uso con umbrales\n",
        "SAS_map(merge, similarity_column='Similitud estructural (Tanimoto)', dif_activity_col='Diferencia de actividad',\n",
        "        sali_col='Valor de SALI', umbral_x=thresholds_Similarity, umbral_y=y_cut_value_cliffs, set_title='SAS map prom+2sdt%')\n"
      ],
      "metadata": {
        "id": "bmtzRu7CB4JE"
      },
      "execution_count": null,
      "outputs": []
    },
    {
      "cell_type": "markdown",
      "source": [
        "<a name='4.2.2'></a>\n",
        "\n",
        "### **Visualización de ACs**"
      ],
      "metadata": {
        "id": "6OMk19F6l5wf"
      }
    },
    {
      "cell_type": "code",
      "source": [
        "\"\"\"import kaleido\n",
        "from kaleido.scopes.plotly import PlotlyScope\n",
        "# Import specific visualization tool for chemical structures\n",
        "import molplotly\n",
        "from dash import dcc, html\n",
        "from dash.dependencies import Input, Output\n",
        "from jupyter_dash import JupyterDash\"\"\""
      ],
      "metadata": {
        "id": "A9XitWEnEwc-"
      },
      "execution_count": null,
      "outputs": []
    },
    {
      "cell_type": "code",
      "source": [
        "import molplotly\n",
        "def visualizacion_activity_cliffs_dinamico(df, title='', umbral_x=None, umbral_y=None, port = 8780):\n",
        "    # Filtrar datos si se proporcionan umbrales\n",
        "    if umbral_x is not None and umbral_y is not None:\n",
        "        df_filtered = df[(df[\"Similitud estructural (Tanimoto)\"] > umbral_x) &\n",
        "                         (df[\"Diferencia de actividad\"] > umbral_y)]\n",
        "    else:\n",
        "        df_filtered = df.copy()\n",
        "\n",
        "    # Crear la visualización principal\n",
        "    fig_sasmap = px.scatter(\n",
        "        df_filtered,\n",
        "        x=\"Similitud estructural (Tanimoto)\",\n",
        "        y=\"Diferencia de actividad\",\n",
        "        color=\"Valor de SALI\",\n",
        "        color_continuous_scale=['blue', 'red'],\n",
        "        hover_data=[\"Compuesto A\", \"Compuesto B\"]\n",
        "    )\n",
        "\n",
        "    # Agregar moléculas con MolPlotly\n",
        "    smiles_cols = ['Smiles A','Smiles B']\n",
        "\n",
        "    app_maker = molplotly.add_molecules(fig=fig_sasmap, df=df_filtered, smiles_col=smiles_cols, caption_cols=['Compuesto A', 'Compuesto B',   'Valor de SALI'])\n",
        "\n",
        "    # Determinar el entorno (Colab/Jupyter o local)\n",
        "    try:\n",
        "        # Si estamos en Jupyter o Colab\n",
        "        app_maker.serve_kernel_port_as_iframe()\n",
        "    except AttributeError:\n",
        "        # Si estamos en un entorno local\n",
        "        app_maker.run_server(mode='inline', port=port, height=600, debug=False, threaded=True)\n",
        "\n",
        "\n",
        "    #return fig_sasmap.show()"
      ],
      "metadata": {
        "id": "BsrO64uJNbBI"
      },
      "execution_count": null,
      "outputs": []
    },
    {
      "cell_type": "code",
      "source": [
        "# Llamar a la función con el dataframe `merge`\n",
        "visualizacion_activity_cliffs_dinamico(merge, title='SAS Map')"
      ],
      "metadata": {
        "id": "-Wr8v-84Ttzs"
      },
      "execution_count": null,
      "outputs": []
    },
    {
      "cell_type": "code",
      "source": [
        "# Ejemplo de uso con umbrales\n",
        "visualizacion_activity_cliffs_dinamico(merge, title='SAS Map', umbral_x=umbral_x, umbral_y=1, port=8540)"
      ],
      "metadata": {
        "id": "5PnARqwXDfag"
      },
      "execution_count": null,
      "outputs": []
    },
    {
      "cell_type": "code",
      "source": [
        "!kill $(lsof -t -i:8064)  # Reemplaza el puerto 8064 con el que estás utilizando"
      ],
      "metadata": {
        "id": "yKIPbuGwSw1Z"
      },
      "execution_count": null,
      "outputs": []
    },
    {
      "cell_type": "markdown",
      "source": [
        "<a name='5'></a>\n",
        "\n",
        "# ***Referencias***:\n",
        "* Bajorath, Jürgen. 2014. “Exploring Activity Cliffs from a Chemoinformatics Perspective.” Molecular Informatics 33 (6-7): 438–42.\n",
        "* David, Laurianne, Amol Thakkar, Rocío Mercado, and Ola Engkvist. 2020. “Molecular Representations in AI-Driven Drug Discovery: A Review and Practical Guide.” Journal of Cheminformatics 12 (1): 56.\n",
        "* Pérez-Villanueva, Jaime, Oscar Méndez-Lucio, Olivia Soria-Arteche, and José L. Medina-Franco. 2015. “Activity Cliffs and Activity Cliff Generators Based on Chemotype-Related Activity Landscapes.” Molecular Diversity 19 (4): 1021–35.\n"
      ],
      "metadata": {
        "id": "kKNf15l1JLld"
      }
    }
  ]
}
