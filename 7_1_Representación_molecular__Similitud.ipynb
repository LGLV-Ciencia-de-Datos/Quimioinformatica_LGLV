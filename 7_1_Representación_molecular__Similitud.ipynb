{
  "nbformat": 4,
  "nbformat_minor": 0,
  "metadata": {
    "colab": {
      "provenance": [],
      "toc_visible": true,
      "include_colab_link": true
    },
    "kernelspec": {
      "name": "python3",
      "display_name": "Python 3"
    },
    "language_info": {
      "name": "python"
    }
  },
  "cells": [
    {
      "cell_type": "markdown",
      "metadata": {
        "id": "view-in-github",
        "colab_type": "text"
      },
      "source": [
        "<a href=\"https://colab.research.google.com/github/LGLV/APS-Failure-at-Scania-Trucks-Data-Set/blob/main/7_1_Representaci%C3%B3n_molecular__Similitud.ipynb\" target=\"_parent\"><img src=\"https://colab.research.google.com/assets/colab-badge.svg\" alt=\"Open In Colab\"/></a>"
      ]
    },
    {
      "cell_type": "markdown",
      "source": [
        "#**Huellas digitales moleculares (molecular fingerprints)**\n",
        "\n",
        "\n",
        "---\n",
        "\n",
        "\n",
        "\n",
        "---\n",
        "\n"
      ],
      "metadata": {
        "id": "-5Kw6AfvgYEw"
      }
    },
    {
      "cell_type": "markdown",
      "source": [
        "Última actualización: 28-02-2025.\n",
        "\n",
        "---\n",
        "\n",
        "\n",
        "\n",
        "---\n",
        "\n",
        "\n",
        "\n",
        "\n"
      ],
      "metadata": {
        "id": "hgvtAMurX-B1"
      }
    },
    {
      "cell_type": "markdown",
      "source": [
        "# ***Tabla de Contenido***\n",
        "- [0 - ***Librerias: cargado e instalación***](#0)\n",
        "- [1 - ***Introducción***](#1)\n",
        "- [2 - ***Representaciones***](#2)\n",
        "  - [2.1 - ***Grafos***](#2.1)\n",
        "    - [2.1.1 - ***2D***](#2.1.1)\n",
        "    - [2.1.2 - ***3D***](#2.1.2)\n",
        "  - [2.2 - ***Huellas moleculares***](#2.2)\n",
        "    - [2.2.1 - ***Basadas en subestructuras o diccionarios***](#2.2.1)\n",
        "        - [A - ***MACCS (Molecular ACCess System) Keys***](#2.2.1A)\n",
        "        - [A.1 - ***Visualización gráfica de la huella molecular***](#2.2.1A1)\n",
        "        - [B - ***PubChem***](#2.2.1B)\n",
        "    - [2.2.2 - ***Topológicas o basadas en rutas***](#2.2.2)\n",
        "        - [***Huellas moleculares circulares***](#2.2.2.1)\n",
        "        - [A - ***Conectividad extendida (ECFP)***](#2.2.2A)\n",
        "        - [B - ***De clase funcional (FCFP)***](#2.2.2B)\n",
        "- [3 - ***Ejercicio***](#3)\n",
        "- [4 - ***Referencias y fuentes de consulta***](#4)\n",
        "\n",
        "---\n",
        "\n",
        "\n",
        "\n",
        "---\n",
        "\n",
        "\n"
      ],
      "metadata": {
        "id": "g53srq99rB8D"
      }
    },
    {
      "cell_type": "markdown",
      "source": [
        "<a name='0'></a>\n",
        "\n",
        "# **Librerias: cargado e instalación**"
      ],
      "metadata": {
        "id": "89t9vQ6rrFsr"
      }
    },
    {
      "cell_type": "code",
      "execution_count": null,
      "metadata": {
        "id": "rByellb8aRDV"
      },
      "outputs": [],
      "source": [
        "import time\n",
        "from IPython.utils import io\n",
        "import tqdm.notebook\n",
        "import os, sys, random\n",
        "total = 100\n",
        "with tqdm.notebook.tqdm(total=total) as pbar:\n",
        "    with io.capture_output() as captured:\n",
        "        pbar.update(30)\n",
        "        !pip install rdkit\n",
        "        !pip install PubChemPy\n",
        "        !pip install kora py3Dmol\n",
        "        import kora.install.rdkit\n",
        "        import py3Dmol\n",
        "\n",
        "        pbar.update(30)\n",
        "        import pandas as pd\n",
        "        from rdkit import Chem, DataStructs, RDConfig\n",
        "        from rdkit.Chem import MACCSkeys, AllChem, RDKFingerprint, Draw, Descriptors, PandasTools, Pharm2D\n",
        "        from rdkit.Chem.Pharm2D import Gobbi_Pharm2D, Generate\n",
        "        import pubchempy as pcp\n",
        "        import matplotlib.pyplot as plt\n",
        "        import numpy as np\n",
        "        pbar.update(40)"
      ]
    },
    {
      "cell_type": "markdown",
      "source": [
        "<a name='1'></a>\n",
        "\n",
        "# **1 - Introducción**\n",
        "Las huellas digitales moleculares (*molecular fingerprints*) son un tipo de descriptor molecular que codifica la estructura de una molécula en una secuencia de *bits* de manera que se pueda comparar y analizar computacionalmente.\n",
        "\n",
        "La mayoría de los métodos usan solamente grafos moleculares en 2D y son llamados huellas digitales 2D; sin embargo, algunos métodos son capaces de almacenar información en 3D, más notablemente las huellas moleculares farmacofóricas.\n",
        "Existen varios tipos de huellas digitales, incluyendo huellas digitales basadas en subestructuras, como las \"claves MACCS\" (key MACCS), y huellas digitales topológicas, que codifican la topología general o la conectividad de la molécula sin codificar explícitamente subestructuras específicas.\n",
        "\n",
        "En aspectos generales, las huellas digitales **basadas en subestructuras** se crean codificando la presencia o ausencia de subestructuras específicas en la molécula, mientras que las huellas digitales **topológicas** codifican la conectividad o forma general de la molécula. Las huellas digitales topológicas se pueden subdividir en huellas digitales basadas en rutas, que codifican la presencia o ausencia de rutas particulares en la representación gráfica de la molécula, y huellas digitales circulares, que codifican la presencia o ausencia de subestructuras circulares o patrones particulares.\n",
        "\n",
        "Las huellas digitales se utilizan típicamente para calcular la similitud entre dos moléculas, lo que se puede utilizar para identificar moléculas que son estructuralmente similares y que pueden tener una actividad biológica similar, lo que las convierte en posibles candidatos a fármacos. Las puntuaciones de similitud se calculan típicamente comparando las huellas digitales de dos moléculas y calculando una puntuación de similitud.\n",
        "\n",
        "El uso de huellas digitales moleculares en quimioinformática tiene muchas ventajas, incluyendo la capacidad de representar estructuras moleculares complejas de manera eficiente computacionalmente y la capacidad de comparar grandes bases de datos de moléculas de manera rápida y precisa. Sin embargo, también hay limitaciones en el uso de huellas digitales, como la incapacidad de capturar todos los aspectos de la similitud molecular y el potencial de falsos positivos o falsos negativos en los cálculos de similitud.\n",
        "\n",
        "En general, las huellas digitales moleculares son una herramienta poderosa en quimioinformática que se utilizan ampliamente en el descubrimiento de fármacos, ciencias de materiales y otras áreas de investigación. La elección del tipo de huella digital dependerá de la aplicación específica y las propiedades de las moléculas que se estén analizando.\n",
        "\n",
        "Nota: La generación de los diversos fingerprints de este script consideran el SMILES de la aspirina como input para fines prácticos."
      ],
      "metadata": {
        "id": "leNdMCitgGMf"
      }
    },
    {
      "cell_type": "markdown",
      "source": [
        "<a name='2'></a>\n",
        "\n",
        "# **2 - Representaciones:**"
      ],
      "metadata": {
        "id": "h_5EZPtAKxL7"
      }
    },
    {
      "cell_type": "markdown",
      "source": [
        "<a name='2.1'></a>\n",
        "## 2.1 - Grafos"
      ],
      "metadata": {
        "id": "yqB7qKb6Kn7O"
      }
    },
    {
      "cell_type": "markdown",
      "source": [
        "<a name='2.1.1'></a>\n",
        "### **2.1.1 - 2D**"
      ],
      "metadata": {
        "id": "5DRd3oDEK4Ij"
      }
    },
    {
      "cell_type": "code",
      "source": [
        "list_of_smiles = ['OCCc1ccn2cnccc12','C1CC1Oc1cc2ccncn2c1','CNC(=O)c1nccc2cccn12']\n",
        "mol_list = [Chem.MolFromSmiles(smi) for smi in list_of_smiles]\n",
        "for mol in mol_list:\n",
        "  tmp=AllChem.Compute2DCoords(mol)\n",
        "\n",
        "\n",
        "# Asignar nombres a las moléculas (opcional si no están definidos)\n",
        "for idx, mol in enumerate(mol_list):\n",
        "    if mol is not None:  # Evitar errores si hay SMILES inválidos\n",
        "        mol.SetProp(\"_Name\", f\"Mol {idx+1}\")\n",
        "\n",
        "\"\"\"\n",
        "img = Draw.MolToImage(mol_list[1], size=(300, 300))\n",
        "img.show()\n",
        "\"\"\"\n",
        "\n",
        "img_grid = Draw.MolsToGridImage(\n",
        "    mol_list,\n",
        "    molsPerRow=3,\n",
        "    subImgSize=(250, 250),\n",
        "    legends=[mol.GetProp(\"_Name\") if mol is not None else \"Unknown\" for mol in mol_list]\n",
        ")\n",
        "\n",
        "#img_grid.save(\"mol_grid.png\")  # Guardar la imagen en un archivo\n",
        "img_grid"
      ],
      "metadata": {
        "id": "FPQ5h7Wxc8v1"
      },
      "execution_count": null,
      "outputs": []
    },
    {
      "cell_type": "markdown",
      "source": [
        "### **2.1.2 - 3D**"
      ],
      "metadata": {
        "id": "YcsJABDdK9Vw"
      }
    },
    {
      "cell_type": "code",
      "source": [
        "def show_3d_figure(smi, style='stick'): #'sphere'\n",
        "    mol = Chem.MolFromSmiles(smi)\n",
        "    mol = Chem.AddHs(mol)\n",
        "    AllChem.EmbedMolecule(mol)\n",
        "    AllChem.MMFFOptimizeMolecule(mol, maxIters=200)\n",
        "    mol = Chem.RemoveHs(mol)\n",
        "    mblock = Chem.MolToMolBlock(mol)\n",
        "\n",
        "    view = py3Dmol.view(width=200, height=200)\n",
        "    view.addModel(mblock, 'mol')\n",
        "    view.setStyle({style:{}})\n",
        "    view.zoomTo()\n",
        "    view.show()"
      ],
      "metadata": {
        "id": "B4Re_vDoMrE7"
      },
      "execution_count": null,
      "outputs": []
    },
    {
      "cell_type": "code",
      "source": [
        "# example\n",
        "for i in list_of_smiles:\n",
        "  show_3d_figure(i)"
      ],
      "metadata": {
        "id": "LCukxZLEK__c"
      },
      "execution_count": null,
      "outputs": []
    },
    {
      "cell_type": "markdown",
      "source": [
        "<a name='2.2'></a>\n",
        "\n",
        "## **2.2- Huellas moleculares**"
      ],
      "metadata": {
        "id": "qBlvSVxPr8q6"
      }
    },
    {
      "cell_type": "markdown",
      "source": [
        "<a name='2.2.1'></a>\n",
        "\n",
        "#### **2.2.1- Basadas en subestructuras o diccionarios**\n",
        "\n",
        "\n",
        "Las firmas basadas en subestructuras se generan mediante la codificación de la presencia o ausencia de una carácteristica o subestructuras específicas en una molécula de una lista dada de claves estructurales. Esto implica definir un conjunto de subestructuras o fragmentos moleculares que se consideran importantes o relevantes para una aplicación específica y, luego, generar una firma binaria que codifique si cada una de estas subestructuras está presente o ausente en la molécula. Algunas de las huellas basadas en subestructuras más comunes son:"
      ],
      "metadata": {
        "id": "rrhuRqKqNnZ0"
      }
    },
    {
      "cell_type": "markdown",
      "source": [
        "<a name='2.2.1A'></a>\n",
        "\n",
        "##### **A - MACCS (Molecular ACCess System) Keys**\n",
        " Viene en dos variantes de fierente longitud de bits, una con **960** y otra con **166** claves estructurales basadas en patrones SMARTS. La más corta es la más comúnmente usada debido a su longitud relativamente corta pero cubre la mayor parte de las características químicas de interés para el descubrimiento de fármacos y cribado virtual. Además, diversos softwares son capaces de calcularlos, lo cual no es cierto para la versión larga.\n",
        "A continuación, un ejemplo de código en el cual se establece el uso de MACCS keys"
      ],
      "metadata": {
        "id": "ug--zlJ9sme2"
      }
    },
    {
      "cell_type": "code",
      "source": [
        "def get_similarity_matrix(fingerprints, similarity_metric=DataStructs.TanimotoSimilarity):\n",
        "    \"\"\"\n",
        "    Calcula la matriz de similitud entre huellas moleculares (fingerprints).\n",
        "\n",
        "    Parámetros:\n",
        "    - fingerprints: Lista de huellas moleculares generadas con RDKit.\n",
        "    - similarity_metric: Función de similitud a utilizar (Tanimoto, Dice, etc.).\n",
        "\n",
        "    Retorna:\n",
        "    - matriz: DataFrame de Pandas con los valores de similitud.\n",
        "    \"\"\"\n",
        "\n",
        "    # Crear una matriz vacía\n",
        "    n = len(fingerprints)\n",
        "    matrix = pd.DataFrame(index=range(1, n + 1), columns=range(1, n + 1), dtype=float)\n",
        "\n",
        "    # Calcular la similitud y llenar la matriz\n",
        "    for i in range(n):\n",
        "        for j in range(i, n):  # Solo llenar la mitad superior para evitar cálculos redundantes\n",
        "            sim_value = round(similarity_metric(fingerprints[i], fingerprints[j]), 3)\n",
        "            matrix.iloc[i, j] = sim_value\n",
        "            matrix.iloc[j, i] = sim_value  # La matriz es simétrica\n",
        "\n",
        "    return matrix\n",
        "\n",
        "# Ejemplo de uso\n",
        "# fps = [AllChem.GetMorganFingerprintAsBitVect(mol, 2) for mol in mol_list]\n",
        "# sim_matrix = get_similarity_matrix(fps)\n",
        "# print(sim_matrix)\n"
      ],
      "metadata": {
        "id": "V4_bRpoU26UG"
      },
      "execution_count": null,
      "outputs": []
    },
    {
      "cell_type": "code",
      "source": [
        "# Generar las MACCS Keys para cada molécula\n",
        "fps = [MACCSkeys.GenMACCSKeys(x) for x in mol_list]\n",
        "# Convertir las MACCS Keys en una representación legible\n",
        "for i, fp in enumerate(fps):\n",
        "    fps_bits=list(fp.GetOnBits())\n",
        "    print(f\"Molécula {i+1}:\")\n",
        "    print(f\"MACCS Key: {fp.ToBitString()}\")\n",
        "    print(f\"Lista de bits activos: {fps_bits}\")\n",
        "get_similarity_matrix(fps)"
      ],
      "metadata": {
        "id": "tsM3Z16BdUbH"
      },
      "execution_count": null,
      "outputs": []
    },
    {
      "cell_type": "markdown",
      "source": [
        "<a name='2.2.1A1'></a>\n",
        "\n",
        "##### A.1 - Visualización gráfica de la huella mecular\n",
        "###### Gráfico de barras o histograma"
      ],
      "metadata": {
        "id": "4XwWh6d-t-qT"
      }
    },
    {
      "cell_type": "code",
      "source": [
        "def visualización_fps_completa(fps):\n",
        "  bit_counts = [fps.GetBit(id) for id in range(fps.GetNumBits())]   # Contar la frecuencia de cada bit activo\n",
        "  # Crear un histograma\n",
        "  plt.figure(figsize=(9,4))\n",
        "  plt.bar(range(len(bit_counts)), bit_counts)\n",
        "  plt.xlabel(\"Índice del bit\")\n",
        "  plt.ylabel(\"Frecuencia\")\n",
        "  plt.title(\"Histograma de la Huella molecular\")\n",
        "  plt.tight_layout()\n",
        "  plt.show()"
      ],
      "metadata": {
        "id": "yC95DJIstFaa"
      },
      "execution_count": null,
      "outputs": []
    },
    {
      "cell_type": "code",
      "source": [
        "def visualización_fps_activos(fps, mol_images):\n",
        "    for fp, i in enumerate(fps):\n",
        "        bit_counts = [i.GetBit(id) for id in range(i.GetNumBits())]     # Contar la frecuencia de cada bit activo\n",
        "        active_indices = [i for i, bit in enumerate(bit_counts) if bit != 0]  # Obtener los índices de los bits activos\n",
        "\n",
        "        x_labels = [str(i) for i in active_indices]  # Crear una lista de etiquetas para el eje x con los índices activos\n",
        "\n",
        "        # Crear un subplot con dos filas y una columna\n",
        "        fig, ax = plt.subplots(2, 1, figsize=(15, 8), gridspec_kw={'height_ratios': [3, 1]})\n",
        "\n",
        "        # Plotear el histograma en el primer subplot\n",
        "        ax[0].bar(active_indices, [bit_counts[i] for i in active_indices])\n",
        "        ax[0].set_xlabel(\"Índice del bit\")\n",
        "        ax[0].set_ylabel(\"Frecuencia\")\n",
        "        ax[0].set_title(f\"Histograma de la Huella molecular de la Molécula {fp+1}:\")\n",
        "        ax[0].set_yticks(np.arange(0, max(bit_counts) + 1, step=1.0))\n",
        "        ax[0].set_xticks(active_indices)\n",
        "        ax[0].set_xticklabels(x_labels, rotation=90)\n",
        "\n",
        "        # Plotear la imagen de la molécula en el segundo subplot\n",
        "        ax[1].imshow(mol_images[fp])\n",
        "        ax[1].axis('off')  # Desactivar los ejes para la imagen\n",
        "\n",
        "        plt.tight_layout()\n",
        "        plt.show()"
      ],
      "metadata": {
        "id": "ZFk8JTLLziOC"
      },
      "execution_count": null,
      "outputs": []
    },
    {
      "cell_type": "code",
      "source": [
        "mol_images = [Draw.MolToImage(mol, size=(300, 300)) for mol in mol_list]\n",
        "\n",
        "visualización_fps_activos(fps=fps,mol_images=mol_images)"
      ],
      "metadata": {
        "id": "1z_m0G16uUyy"
      },
      "execution_count": null,
      "outputs": []
    },
    {
      "cell_type": "markdown",
      "source": [
        "<a name='2.2.1B'></a>\n",
        "\n",
        "##### **B - PubChem**\n",
        "Cuenta con **881** claves estructurales. Son empleados por PubChem para la búsqueda por similitud y por vecinos. Está implementado en ChemFP y en CDK.\n",
        "A continuación, un ejemplo de código en el cual se establece el uso de las huellas moleculares de PubChem."
      ],
      "metadata": {
        "id": "3AvoWE7Vwry8"
      }
    },
    {
      "cell_type": "code",
      "source": [
        "# Nombre o identificador del compuesto que deseas buscar\n",
        "compound_name = \"aspirin\"\n",
        "\n",
        "# Realiza la búsqueda en PubChem\n",
        "compounds = pcp.get_compounds(compound_name, 'name')\n",
        "if compounds:\n",
        "    # Obtiene el primer resultado (puede haber múltiples resultados)\n",
        "    compound = compounds[0]\n",
        "    # Obtiene la huella molecular de PubChem\n",
        "    fingerprint = compound.fingerprint\n",
        "    posiciones_no_cero = {}\n",
        "    # Enumerar el string y agregar las posiciones a un diccionario\n",
        "    for i, valor in enumerate(fingerprint):\n",
        "        if valor != '0':\n",
        "            posiciones_no_cero[i] = valor\n",
        "\n",
        "    print(f\"Nombre del compuesto: {compound.synonyms[0]}\")\n",
        "    print(f\"Lista de bits activos (posición:valor)= {posiciones_no_cero}\")\n",
        "    print(f\"Huella molecular PubChem: {fingerprint}\")\n",
        "\n",
        "else:\n",
        "    print(f\"No se encontraron resultados para '{compound_name}'.\")"
      ],
      "metadata": {
        "id": "vdkK9NmyfZ9W"
      },
      "execution_count": null,
      "outputs": []
    },
    {
      "cell_type": "markdown",
      "source": [
        "<a name='2.2.2'></a>\n",
        "\n",
        "### **2.2.2 - Topológicas o basadas en rutas**\n",
        "Las firmas topológicas se generan mediante la codificación de la conectividad o forma general de una molécula, sin codificar explícitamente subestructuras específicas. Trabajan al analizar todos los fragmentos de la molécula siguiendo un camino (usualmente lineal) hasta un cierto número de enlaces, y después combinar cada una de estas rutas (secuencias de átomos o enlaces) para crear la huella molecular. Lo anterior significa que cualquier molécula puede producir una huella molecular significativa y su longitud puede ser ajustada. Son usados comúnmente para una veloz búsqueda y filtrado por subestructuras. Se debe tomar en cuenta que un solo bit no se puede rastrear hasta una característica determinada y un bit determinado puede estar configurado por más de una característica diferente (colisión de bits). La mayoría de los softwares implementan estas huellas moleculares o basadas en ellas. Daylight es el ejemplo más común de este tipo de huellas moleculares.\n",
        "A continuación, un ejemplo de código en el cual se establece el uso de las huellas moleculares topológicas."
      ],
      "metadata": {
        "id": "a1xkab7fw7_W"
      }
    },
    {
      "cell_type": "code",
      "source": [
        "# Crear una molécula a partir de un SMILES\n",
        "smiles = list_of_smiles[0]\n",
        "mol_list = [Chem.MolFromSmiles(s) for s in ['CCOC', 'CCO', smiles]]\n",
        "fpgen = AllChem.GetRDKitFPGenerator() #Inicializamos un generador de fps\n",
        "fingerprints = [fpgen.GetFingerprint(mol) for mol in mol_list]\n",
        "# Imprimir información de cada huella molecular\n",
        "for idx, fp in enumerate(fingerprints, start=1):\n",
        "    print(f\"Molécula {idx}:\")\n",
        "    print(f\"Huella molecular: {fp.ToBitString()}\")\n",
        "    print(f\"Lista de bits activos: {list(fp.GetOnBits())}\\n\")\n",
        "get_similarity_matrix(fingerprints)"
      ],
      "metadata": {
        "id": "sV-UBG0AoJJr"
      },
      "execution_count": null,
      "outputs": []
    },
    {
      "cell_type": "markdown",
      "source": [
        "<a name='2.2.2.1'></a>\n",
        "\n",
        "#### **Huellas moleculares circulares**\n",
        "Las firmas circulares también pertenecen al tipo topológico, sin embargo son un tanto diferentes ya que estas no se centran en la búsqueda de rutas, sino en el ambiente de cada átomo hasta un determinado radio. No son adecuados para búsquedas por subestructura pero si para búsquedas de similitud estructural completa."
      ],
      "metadata": {
        "id": "uX_YM0w4x0P_"
      }
    },
    {
      "cell_type": "markdown",
      "source": [
        "<a name='2.2.2A'></a>\n",
        "\n",
        "#### **A - Conectividad extendida (ECFP, Extended-Connectivity Fingerprints)**\n",
        "La huella molecular circular basada en el algoritmo de Morgan es la estándar, la cual fue diseñada específicamente para su uso en modelado estructura-actividad. Representan el vecindario atómico circular y produce una huella molecular de longitud variable. Son usadas comúnmente considerando un diámetro de 4 Å (ECFP4) y 6 Å (ECFP6). Notables softwares proporcionan estas huellas moleculares, tales como: Pipeline Pilot, Chemaxon’s JChem, CDK y RDKit.\n",
        "A continuación, un ejemplo de código en el cual se establece el uso de las huellas moleculares circulares."
      ],
      "metadata": {
        "id": "v90O8YvverIR"
      }
    },
    {
      "cell_type": "code",
      "source": [
        "def get_Morgan_fps(smiles_list, radius, nBits):\n",
        "\n",
        "    # Crear una molécula a partir de un SMILES\n",
        "    mol_list = [Chem.MolFromSmiles(s) for s in smiles_list]\n",
        "    fpgen = AllChem.GetMorganGenerator(radius=radius, fpSize = nBits) #Generador con radio X\n",
        "    fingerprints = [fpgen.GetFingerprint(mol) for mol in mol_list]\n",
        "    # Imprimir información de cada huella molecular\n",
        "    for idx, fp in enumerate(fingerprints, start=1):\n",
        "        print(f\" Molécula {idx}:\")\n",
        "        print(f\"  Huella molecular: {fp.ToBitString()}\")\n",
        "        print(f\"    Lista de bits activos: {list(fp.GetOnBits())}\")\n",
        "\n",
        "    print(\"Matriz de Similitud:\")\n",
        "    return get_similarity_matrix(fingerprints)\n",
        "\n",
        "get_Morgan_fps(smiles_list=list_of_smiles, radius=2, nBits=2048) #ECFP4\n",
        "get_Morgan_fps(smiles_list=list_of_smiles, radius=3, nBits=2048) #ECFP6"
      ],
      "metadata": {
        "id": "A5Q8BJt4ti1E"
      },
      "execution_count": null,
      "outputs": []
    },
    {
      "cell_type": "markdown",
      "source": [
        "<a name='2.2.2B'></a>\n",
        "\n",
        "#### **B - De clase funcional (FCFP, Functional-Class Fingerprints)**\n",
        "\n",
        "Son una variante de los ECFP, solo que más abstractos y que en lugar de indexar un átomo particular en el ambiente, indexan el rol del átomo. Así que diferentes átomos o grupos con la misma o similar función no son distinguibles por la huella molecular. Lo anterior les permite ser usado como huellas moleculares farmacofóricas. La mayoría de los softwares que soportan ECFP también soportan esta variante."
      ],
      "metadata": {
        "id": "XnKQO92ae2Qk"
      }
    },
    {
      "cell_type": "code",
      "source": [
        "if mol is not None:\n",
        "    # Configurar parámetros para la huella digital FCFP\n",
        "    radius = 2  # Radio ajustable\n",
        "    use_features = True  # Indexación del rol del átomo\n",
        "    # Generar la huella digital FCFP\n",
        "    fcfp_fingerprint = AllChem.GetMorganFingerprintAsBitVect(mol, radius=radius, useFeatures=use_features, nBits=2048)\n",
        "    # Convertir la huella digital en una representación legible\n",
        "    fcfp_fingerprint_bits = list(fcfp_fingerprint.GetOnBits())\n",
        "\n",
        "    print(f\"Lista de bits activos en FCFP: {fcfp_fingerprint_bits}\")\n",
        "    print(f\"Huella molecular FCFP: {fcfp_fingerprint.ToBitString()}\")\n",
        "else:\n",
        "    print(\"No se pudo crear una molécula a partir del SMILES proporcionado.\")"
      ],
      "metadata": {
        "id": "cZ3LfUoLdpvp"
      },
      "execution_count": null,
      "outputs": []
    },
    {
      "cell_type": "markdown",
      "source": [
        "<a name='3'></a>\n",
        "# ***3. Ejercicio con base de datos***"
      ],
      "metadata": {
        "id": "3Xg4Uj-uBVVe"
      }
    },
    {
      "cell_type": "code",
      "source": [
        "# Leer archivo\n",
        "url = 'https://github.com/DIFACQUIM/Cursos/raw/main/Datasets/Fingerprints.csv'\n",
        "df = pd.read_csv(url)\n",
        "df.head()"
      ],
      "metadata": {
        "id": "iNUct-fAB77v"
      },
      "execution_count": null,
      "outputs": []
    },
    {
      "cell_type": "code",
      "source": [
        "PandasTools.AddMoleculeColumnToFrame(df, smilesCol='smiles')\n",
        "df['ROMol_H'] = [Chem.AddHs(m) for m in df['ROMol']]\n",
        "df"
      ],
      "metadata": {
        "id": "gh2eP-PcA71J"
      },
      "execution_count": null,
      "outputs": []
    },
    {
      "cell_type": "code",
      "source": [
        "from rdkit import Chem\n",
        "from rdkit.Chem import AllChem, MACCSkeys, Pharm2D\n",
        "from rdkit.Chem.Pharm2D import Gobbi_Pharm2D\n",
        "\n",
        "def fingerprint(dataframe, column=\"ROMol_H\"):\n",
        "    \"\"\"\n",
        "    Genera huellas moleculares (ECFP6, MACCS, 2D y 3D farmacofórico) para cada molécula en un DataFrame.\n",
        "\n",
        "    Parámetros:\n",
        "    - dataframe (pd.DataFrame): DataFrame con una columna de moléculas RDKit.\n",
        "    - column (str): Nombre de la columna con las moléculas RDKit.\n",
        "\n",
        "    Retorna:\n",
        "    - pd.DataFrame con nuevas columnas de huellas moleculares.\n",
        "    \"\"\"\n",
        "    tic = time.time()\n",
        "    factory = Gobbi_Pharm2D.factory  # Definición del farmacóforo 2D\n",
        "    fpgen = AllChem.GetMorganGenerator(radius=3, fpSize=1024)  # Generador de ECFP6\n",
        "\n",
        "    ecfp6_list, maccs_list, fp2d_list, fp3d_list = [], [], [], []\n",
        "\n",
        "    for mol in dataframe[column]:\n",
        "        if mol is None:  # Manejo de moléculas inválidas\n",
        "            ecfp6_list.append(None)\n",
        "            maccs_list.append(None)\n",
        "            fp2d_list.append(None)\n",
        "            fp3d_list.append(None)\n",
        "            continue\n",
        "\n",
        "        # Generar huellas moleculares\n",
        "        ecfp6_list.append(fpgen.GetFingerprint(mol))\n",
        "        maccs_list.append(MACCSkeys.GenMACCSKeys(mol))\n",
        "\n",
        "        # Generar farmacofórico 2D\n",
        "        fp2d_list.append(Pharm2D.Generate.Gen2DFingerprint(mol, factory))\n",
        "\n",
        "        # Generar farmacofórico 3D\n",
        "        AllChem.EmbedMolecule(mol, useRandomCoords=True)  # Evita errores de conformación\n",
        "        matriz_3d = Chem.Get3DDistanceMatrix(mol)\n",
        "        fp3d_list.append(Pharm2D.Generate.Gen2DFingerprint(mol, factory, dMat=matriz_3d))\n",
        "\n",
        "    # Asignar listas al DataFrame\n",
        "    dataframe[\"ECFP6\"] = ecfp6_list\n",
        "    dataframe[\"MACCS\"] = maccs_list\n",
        "    dataframe[\"Fp2D\"] = fp2d_list\n",
        "    dataframe[\"Fp3D\"] = fp3d_list\n",
        "    tac = time.time()\n",
        "    print(f\" Amount of time: {round((tac-tic)/60, 2)}\")\n",
        "    return dataframe"
      ],
      "metadata": {
        "id": "R4oo9NOdBiyX"
      },
      "execution_count": null,
      "outputs": []
    },
    {
      "cell_type": "code",
      "source": [
        "fingerprint(dataframe=df)"
      ],
      "metadata": {
        "id": "sWSC9f1NC1Bg"
      },
      "execution_count": null,
      "outputs": []
    },
    {
      "cell_type": "markdown",
      "source": [
        "<a name='4'></a>\n",
        "\n",
        "# **4 - Referencias y fuentes de consulta**\n",
        "\n",
        "* Gallegos Saliner A. 2006. “Mini-Review on Chemical Similarity and Prediction of Toxicity.” Current Computer-Aided Drug Design 2 (2): 105–22.\n",
        "* Maggiora, Gerald, Martin Vogt, Dagmar Stumpfe, and Jürgen Bajorath. 2014. “Molecular Similarity in Medicinal Chemistry.” Journal of Medicinal Chemistry 57 (8): 3186–3204.\n",
        "* Naveja, J. Jesús, Fernanda I. Saldívar-González, Norberto Sánchez-Cruz, and José L. Medina-Franco. 2019. “Cheminformatics Approaches to Study Drug Polypharmacology.” In Multi-Target Drug Design Using Chem-Bioinformatic Approaches, edited by Kunal Roy, 3–25. New York, NY: Springer New York.\n",
        "* A.h.-L., and Y.g.s. 1992. “Concepts and Applications of Molecular Similarity.” Journal of Molecular Structure 269 (3-4): 376–77.\n",
        "* Cereto-Massagué, Adrià, María José Ojeda, Cristina Valls, Miquel Mulero, Santiago Garcia-Vallvé, and Gerard Pujadas. 2015. “Molecular Fingerprint Similarity Search in Virtual Screening.” Methods 71 (January): 58–63."
      ],
      "metadata": {
        "id": "bjFq2uYwlZeA"
      }
    }
  ]
}